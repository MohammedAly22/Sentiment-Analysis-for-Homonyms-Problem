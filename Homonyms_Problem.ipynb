{
  "cells": [
    {
      "cell_type": "markdown",
      "metadata": {
        "id": "A-fRcIIOcher"
      },
      "source": [
        "# Homonyms Problem Solve Using Transformers <br>by **Mohammed Aly**\n",
        "- [LinkedIn](https://www.linkedin.com/in/mohammed-aly-1854a020a/)  \n",
        "- [GitHub](https://github.com/MohammedAly22/)\n",
        "\n",
        "<html>\n",
        "<img src=\"https://grammarparty.files.wordpress.com/2020/06/bat.png\" width=\"100%\">\n",
        "</html>\n",
        "\n",
        "**Homonyms** are words that share the same spelling or form (characters) but possess distinct meanings. For instance, the term **\"bank\"** can assume two disparate contexts, denoting both a **\"financial institution\"** and the **\"edge of a river.\"**\n",
        "\n",
        "These homonyms hold significant relevance in **sentiment analysis**, given their capacity to alter the meaning or emotional tone of a sentence entirely. Consider the following examples that highlight this challenge:\n",
        "\n",
        "- Sentence 1: \"I **hate** the selfishness in you\"** => Label: \"**NEGATIVE**\"\n",
        "- Sentence 2: \"I **hate** anyone who hurts you\" => Label: \"**POSITIVE**\"\n",
        "\n",
        "In the first sentence, the word \"hate\" renders the sentiment as `NEGATIVE`. Conversely, the same word, \"hate\" appears in the second sentence, shaping the sentiment of the sentence as `POSITIVE`. This poses a considerable challenge to models relying on **fixed word embeddings**. Therefore, employing **contextualized embeddings** leveraging attention mechanisms from transformers becomes crucial to grasp the comprehensive context within a sentence.\n",
        "\n",
        "In this notebook, I will try to demonstrate the impact and the difference between using fixed embeddings and contextualized embeddings."
      ]
    },
    {
      "cell_type": "markdown",
      "metadata": {
        "id": "tEDyfeNaiACL"
      },
      "source": [
        "# 1.0 Installing & Importing Required Packages"
      ]
    },
    {
      "cell_type": "code",
      "execution_count": null,
      "metadata": {
        "execution": {
          "iopub.execute_input": "2024-01-12T03:29:02.238097Z",
          "iopub.status.busy": "2024-01-12T03:29:02.237453Z",
          "iopub.status.idle": "2024-01-12T03:29:41.992635Z",
          "shell.execute_reply": "2024-01-12T03:29:41.991644Z",
          "shell.execute_reply.started": "2024-01-12T03:29:02.238066Z"
        },
        "id": "qfUI_ITDCrwu",
        "trusted": true
      },
      "outputs": [],
      "source": [
        "!pip install transformers\n",
        "!pip install datasets==2.13.1\n",
        "!pip install fsspec==2023.9.2"
      ]
    },
    {
      "cell_type": "code",
      "execution_count": null,
      "metadata": {
        "execution": {
          "iopub.execute_input": "2024-01-12T03:29:41.994770Z",
          "iopub.status.busy": "2024-01-12T03:29:41.994480Z",
          "iopub.status.idle": "2024-01-12T03:29:43.361568Z",
          "shell.execute_reply": "2024-01-12T03:29:43.360767Z",
          "shell.execute_reply.started": "2024-01-12T03:29:41.994745Z"
        },
        "id": "f146j3MqA5dd",
        "outputId": "e9b4b529-6dfd-4d35-ce42-14db1e284fe7",
        "trusted": true
      },
      "outputs": [
        {
          "data": {
            "text/plain": [
              "'2.13.1'"
            ]
          },
          "execution_count": 2,
          "metadata": {},
          "output_type": "execute_result"
        }
      ],
      "source": [
        "import datasets; datasets.__version__"
      ]
    },
    {
      "cell_type": "code",
      "execution_count": null,
      "metadata": {
        "execution": {
          "iopub.execute_input": "2024-01-12T03:29:46.612843Z",
          "iopub.status.busy": "2024-01-12T03:29:46.611969Z",
          "iopub.status.idle": "2024-01-12T03:30:03.077856Z",
          "shell.execute_reply": "2024-01-12T03:30:03.076974Z",
          "shell.execute_reply.started": "2024-01-12T03:29:46.612806Z"
        },
        "id": "VAU2CyNPCvzC",
        "outputId": "b3458852-2126-4916-d53c-b41fee9258d9",
        "trusted": true
      },
      "outputs": [
        {
          "name": "stderr",
          "output_type": "stream",
          "text": [
            "/opt/conda/lib/python3.10/site-packages/scipy/__init__.py:146: UserWarning: A NumPy version >=1.16.5 and <1.23.0 is required for this version of SciPy (detected version 1.24.3\n",
            "  warnings.warn(f\"A NumPy version >={np_minversion} and <{np_maxversion}\"\n"
          ]
        }
      ],
      "source": [
        "from collections import Counter\n",
        "from tqdm import tqdm\n",
        "\n",
        "import numpy as np\n",
        "import pandas as pd\n",
        "import matplotlib.pyplot as plt\n",
        "from sklearn.metrics import ConfusionMatrixDisplay, confusion_matrix, classification_report\n",
        "\n",
        "from tensorflow import keras\n",
        "from keras.preprocessing.text import Tokenizer\n",
        "from keras.preprocessing.sequence import pad_sequences\n",
        "from keras.models import Sequential\n",
        "from keras.layers import Embedding, LSTM, Dense, Dropout\n",
        "\n",
        "from datasets import load_dataset\n",
        "from transformers import AutoTokenizer, TFAutoModelForSequenceClassification"
      ]
    },
    {
      "cell_type": "markdown",
      "metadata": {
        "id": "HeqQYaoBiHLP"
      },
      "source": [
        "# 2.0 Loading and Exploring the Dataset\n",
        "[The Stanford Sentiment Treebank (SST)](https://huggingface.co/datasets/sst2) is a corpus with fully labeled parse trees that allows for a complete analysis of the compositional effects of sentiment in language. The corpus is based on the dataset introduced by Pang and Lee (2005) and consists of 11,855 single sentences extracted from movie reviews. It was parsed with the Stanford parser and includes a total of 215,154 unique phrases from those parse trees, each annotated by 3 human judges.\n",
        "\n",
        "Binary classification experiments on full sentences (negative or somewhat negative vs somewhat positive or positive with neutral sentences discarded) refer to the dataset as SST-2 or SST binary."
      ]
    },
    {
      "cell_type": "code",
      "execution_count": null,
      "metadata": {
        "colab": {
          "base_uri": "https://localhost:8080/",
          "height": 377,
          "referenced_widgets": [
            "1764b3e7c55242e18a271d9fb185709d",
            "f7273ff18043448792d97f2884044e6a",
            "7942b0036f6841d98ad14eab18ada15d",
            "676ae50d80e549a9a35eeadc24eb6edd",
            "e6153ef1aab447f5b8b15963b43bee0f",
            "6b3f422e71c94a23ba8c6a0c0dc8fc54",
            "b33171ffd5fd4da6a77a30c352f3acd7",
            "78424f50867247d1b80478491dd7492c",
            "587c2e58f2d749c5840a1e0c1e07f553",
            "1c1f2572b3914ad087fb1d113c3dc3b2",
            "49d1c1681b694940bf28160a47a74b87",
            "9eb68a3bf0704d5ba45fd1ce43c84d59",
            "649393c544394d8ea4a5ceba04198b2f",
            "0da24f284d7845eb8a7ba410560de1c0",
            "23f0448c178a4ec295257858f2a191df",
            "4483ad9a99c64fababd9673121396aad",
            "606b3ea721554dcf81fb65f32d104d28",
            "262cfc2f70b94a09a84b48b50609530f",
            "823cec86de96408bbcac20ff0236f18d",
            "e6b1107530904277adc3626a10cedb58",
            "ca1067802af643dea569ef0de30b9299",
            "9413ae8a88c74904a47021b2ea9d5961",
            "e984631a42894915b06f816c412d0cb2",
            "314cf4d85b5840a89652b6ed6e53ef33",
            "3cac4dcc6b7f4560bbaaceef8f7d26c8",
            "1cb9753c85714c67aca56b7bc7290e37",
            "527249f4a3cf45edb36ede40035a6bdc",
            "e39491e17d0048b9ba1f7173e185efe2",
            "dfe4b49380db439497489b02dffee96f",
            "421a95d081b641f2b22ebb58a4418957",
            "9f93b4a271524fa49d1fa0e979f898d5",
            "2c2231e5f6d34c8b8e8b4aedf3ae415e",
            "e4a31fcc5b2349c5b1006af7fd95ca81",
            "2f68713ed9ec47cda5474b493945205e",
            "3112edcaf11048dc8bab71eea482a1f9",
            "4f4da6eda6b6403290969d165ada2803",
            "a545348a67d64293a3f885d0dbe03f97",
            "fe9484aee0ea46aab0d6d678c32a115a",
            "c616f0ff644343179d46f12b24af812c",
            "7252bdb8435b43d2be2dc6c28203993b",
            "091ddd229fce4acf912e68a2e57ea40e",
            "1ae98241d5fd4655b327fd49b1f79861",
            "f52a6435e47f4fffab4148fa824b20da",
            "4f92f62a80144a739c48f5fe90ceb21d",
            "295bb802112548daa1e0f966f68aee0c",
            "f7a348ce4f014586af0604e2f1b002dc",
            "40674ed9f3124f62a34d1ae18907f955",
            "f9b711537f5040d2b823219dfde7c12f",
            "4ad1a6cef61c4068960ce39322771eaa",
            "92bec3da60c84192b7979d4bff0f03d6",
            "dcea24da2d9344188fcc6c211c16ee59",
            "2e6330e07d834c1f8af7901fee91ac4e",
            "bfd2bde812324ef69471bfec1d7821b8",
            "292b0a54e57a4815979700f20837565c",
            "4535f25c21fa4b2b9bc1d0d5c0c11f2b",
            "32c29200a5ed44d5b602f451cac05d03",
            "1e908d6c972840b1bf56263e24547d43",
            "21d1f0a90e1e44bbb1922e55e2a7e132",
            "0bb27a2bb62a4df69df70247855923e5",
            "5d805f1fe61648789171613b99f9a8f9",
            "8daedf95198844c6aa74845e9f0cee64",
            "5c332d1f0ef741198c20b95136fb09fb",
            "2b005b427d6e4b129d57d41aa51bb677",
            "43b3f927d2d74532b4f0a51b3d5de787",
            "d22dd0256ab34be2bd99be2d0c31fd4c",
            "55bd7ce62d3c4d7facf33e7a5966e247",
            "29446074ef524e1089817f4f47ac61c2",
            "1ed48a1623ff4b89a71a70396e6dde61",
            "2c68b179038d4a698043cedae54c46a9",
            "a6de33a9aeae4b1987b188b68b8ffd08",
            "d329b05aaf1b4fae9b86e4eef2a82664",
            "333060bb9cd64b42be44a8257ac21c33",
            "9b00e4661fcf48c5a4426d73f4a98027",
            "891ca4ea41bd49a09c1d9d01aee37c29",
            "4ec323a402834aeea79aec3526b99967",
            "1cb48716495f431a867c2bf3f7469c97",
            "24013e90be1740c182310855ca24b3af",
            "87051e528a7b4a508dee6cbe1cdc3b79",
            "f0390e19df424f719f8a88aab4ba608b",
            "e068aaf36d7146f2ae5987394d398ba1",
            "a90a47a9648344c9b23b905d31012673",
            "4c2a77e62eb8439eab80a18710dd4eef",
            "ce503d7740e341429180c8ce1b7ccd01",
            "",
            "cd595a50efe948178c91296fb1d8a770"
          ]
        },
        "execution": {
          "iopub.execute_input": "2024-01-12T03:30:03.080135Z",
          "iopub.status.busy": "2024-01-12T03:30:03.079430Z",
          "iopub.status.idle": "2024-01-12T03:30:06.063885Z",
          "shell.execute_reply": "2024-01-12T03:30:06.063017Z",
          "shell.execute_reply.started": "2024-01-12T03:30:03.080101Z"
        },
        "id": "vKV0T8enDDpc",
        "outputId": "ca9e16c0-fb97-49d7-86c7-c32669d47dcf",
        "trusted": true
      },
      "outputs": [
        {
          "data": {
            "application/vnd.jupyter.widget-view+json": {
              "model_id": "87051e528a7b4a508dee6cbe1cdc3b79",
              "version_major": 2,
              "version_minor": 0
            },
            "text/plain": [
              "Downloading readme:   0%|          | 0.00/5.27k [00:00<?, ?B/s]"
            ]
          },
          "metadata": {},
          "output_type": "display_data"
        },
        {
          "name": "stdout",
          "output_type": "stream",
          "text": [
            "Downloading and preparing dataset None/None to /root/.cache/huggingface/datasets/parquet/sst2-1151590ea3b3f98b/0.0.0/14a00e99c0d15a23649d0db8944380ac81082d4b021f398733dd84f3a6c569a7...\n"
          ]
        },
        {
          "data": {
            "application/vnd.jupyter.widget-view+json": {
              "model_id": "f0390e19df424f719f8a88aab4ba608b",
              "version_major": 2,
              "version_minor": 0
            },
            "text/plain": [
              "Downloading data files:   0%|          | 0/3 [00:00<?, ?it/s]"
            ]
          },
          "metadata": {},
          "output_type": "display_data"
        },
        {
          "data": {
            "application/vnd.jupyter.widget-view+json": {
              "model_id": "e068aaf36d7146f2ae5987394d398ba1",
              "version_major": 2,
              "version_minor": 0
            },
            "text/plain": [
              "Downloading data:   0%|          | 0.00/3.11M [00:00<?, ?B/s]"
            ]
          },
          "metadata": {},
          "output_type": "display_data"
        },
        {
          "data": {
            "application/vnd.jupyter.widget-view+json": {
              "model_id": "a90a47a9648344c9b23b905d31012673",
              "version_major": 2,
              "version_minor": 0
            },
            "text/plain": [
              "Downloading data:   0%|          | 0.00/72.8k [00:00<?, ?B/s]"
            ]
          },
          "metadata": {},
          "output_type": "display_data"
        },
        {
          "data": {
            "application/vnd.jupyter.widget-view+json": {
              "model_id": "4c2a77e62eb8439eab80a18710dd4eef",
              "version_major": 2,
              "version_minor": 0
            },
            "text/plain": [
              "Downloading data:   0%|          | 0.00/148k [00:00<?, ?B/s]"
            ]
          },
          "metadata": {},
          "output_type": "display_data"
        },
        {
          "data": {
            "application/vnd.jupyter.widget-view+json": {
              "model_id": "ce503d7740e341429180c8ce1b7ccd01",
              "version_major": 2,
              "version_minor": 0
            },
            "text/plain": [
              "Extracting data files:   0%|          | 0/3 [00:00<?, ?it/s]"
            ]
          },
          "metadata": {},
          "output_type": "display_data"
        },
        {
          "data": {
            "application/vnd.jupyter.widget-view+json": {
              "model_id": "",
              "version_major": 2,
              "version_minor": 0
            },
            "text/plain": [
              "Generating train split:   0%|          | 0/67349 [00:00<?, ? examples/s]"
            ]
          },
          "metadata": {},
          "output_type": "display_data"
        },
        {
          "data": {
            "application/vnd.jupyter.widget-view+json": {
              "model_id": "",
              "version_major": 2,
              "version_minor": 0
            },
            "text/plain": [
              "Generating validation split:   0%|          | 0/872 [00:00<?, ? examples/s]"
            ]
          },
          "metadata": {},
          "output_type": "display_data"
        },
        {
          "data": {
            "application/vnd.jupyter.widget-view+json": {
              "model_id": "",
              "version_major": 2,
              "version_minor": 0
            },
            "text/plain": [
              "Generating test split:   0%|          | 0/1821 [00:00<?, ? examples/s]"
            ]
          },
          "metadata": {},
          "output_type": "display_data"
        },
        {
          "name": "stdout",
          "output_type": "stream",
          "text": [
            "Dataset parquet downloaded and prepared to /root/.cache/huggingface/datasets/parquet/sst2-1151590ea3b3f98b/0.0.0/14a00e99c0d15a23649d0db8944380ac81082d4b021f398733dd84f3a6c569a7. Subsequent calls will reuse this data.\n"
          ]
        },
        {
          "data": {
            "application/vnd.jupyter.widget-view+json": {
              "model_id": "cd595a50efe948178c91296fb1d8a770",
              "version_major": 2,
              "version_minor": 0
            },
            "text/plain": [
              "  0%|          | 0/3 [00:00<?, ?it/s]"
            ]
          },
          "metadata": {},
          "output_type": "display_data"
        }
      ],
      "source": [
        "dataset = load_dataset(\"sst2\")"
      ]
    },
    {
      "cell_type": "code",
      "execution_count": null,
      "metadata": {
        "colab": {
          "base_uri": "https://localhost:8080/"
        },
        "execution": {
          "iopub.execute_input": "2024-01-12T03:30:09.078439Z",
          "iopub.status.busy": "2024-01-12T03:30:09.078068Z",
          "iopub.status.idle": "2024-01-12T03:30:09.083721Z",
          "shell.execute_reply": "2024-01-12T03:30:09.082780Z",
          "shell.execute_reply.started": "2024-01-12T03:30:09.078406Z"
        },
        "id": "Mutu4lw_DIR6",
        "outputId": "79e30da0-4e52-4f05-b44c-440cf7c55666",
        "trusted": true
      },
      "outputs": [
        {
          "name": "stdout",
          "output_type": "stream",
          "text": [
            "DatasetDict({\n",
            "    train: Dataset({\n",
            "        features: ['idx', 'sentence', 'label'],\n",
            "        num_rows: 67349\n",
            "    })\n",
            "    validation: Dataset({\n",
            "        features: ['idx', 'sentence', 'label'],\n",
            "        num_rows: 872\n",
            "    })\n",
            "    test: Dataset({\n",
            "        features: ['idx', 'sentence', 'label'],\n",
            "        num_rows: 1821\n",
            "    })\n",
            "})\n"
          ]
        }
      ],
      "source": [
        "print(dataset)"
      ]
    },
    {
      "cell_type": "markdown",
      "metadata": {
        "id": "qjMha672H0RX"
      },
      "source": [
        "## 2.1 Displaying the First 3 Sentences"
      ]
    },
    {
      "cell_type": "code",
      "execution_count": null,
      "metadata": {
        "colab": {
          "base_uri": "https://localhost:8080/"
        },
        "execution": {
          "iopub.execute_input": "2024-01-12T03:30:10.443858Z",
          "iopub.status.busy": "2024-01-12T03:30:10.443453Z",
          "iopub.status.idle": "2024-01-12T03:30:10.451146Z",
          "shell.execute_reply": "2024-01-12T03:30:10.450094Z",
          "shell.execute_reply.started": "2024-01-12T03:30:10.443827Z"
        },
        "id": "KxdHzF5-DMRi",
        "outputId": "277436fd-6477-437d-99dc-e012c4d1318a",
        "trusted": true
      },
      "outputs": [
        {
          "name": "stdout",
          "output_type": "stream",
          "text": [
            "The first 3 examples: \n"
          ]
        },
        {
          "data": {
            "text/plain": [
              "{'idx': [0, 1, 2],\n",
              " 'sentence': ['hide new secretions from the parental units ',\n",
              "  'contains no wit , only labored gags ',\n",
              "  'that loves its characters and communicates something rather beautiful about human nature '],\n",
              " 'label': [0, 0, 1]}"
            ]
          },
          "execution_count": 6,
          "metadata": {},
          "output_type": "execute_result"
        }
      ],
      "source": [
        "print(f\"The first 3 examples: \")\n",
        "dataset[\"train\"][:3]"
      ]
    },
    {
      "cell_type": "markdown",
      "metadata": {
        "id": "0vFpX80zHwLP"
      },
      "source": [
        "## 2.2 Displaying Dataset Features"
      ]
    },
    {
      "cell_type": "code",
      "execution_count": null,
      "metadata": {
        "colab": {
          "base_uri": "https://localhost:8080/"
        },
        "execution": {
          "iopub.execute_input": "2024-01-12T03:30:11.894335Z",
          "iopub.status.busy": "2024-01-12T03:30:11.893941Z",
          "iopub.status.idle": "2024-01-12T03:30:11.901562Z",
          "shell.execute_reply": "2024-01-12T03:30:11.900619Z",
          "shell.execute_reply.started": "2024-01-12T03:30:11.894302Z"
        },
        "id": "7lttMEWeDPDa",
        "outputId": "7c6b2437-b764-4f3a-85c7-c7801376199d",
        "trusted": true
      },
      "outputs": [
        {
          "name": "stdout",
          "output_type": "stream",
          "text": [
            "Dataset features: \n"
          ]
        },
        {
          "data": {
            "text/plain": [
              "{'idx': Value(dtype='int32', id=None),\n",
              " 'sentence': Value(dtype='string', id=None),\n",
              " 'label': ClassLabel(names=['negative', 'positive'], id=None)}"
            ]
          },
          "execution_count": 7,
          "metadata": {},
          "output_type": "execute_result"
        }
      ],
      "source": [
        "print(f\"Dataset features: \")\n",
        "dataset[\"train\"].features"
      ]
    },
    {
      "cell_type": "markdown",
      "metadata": {
        "id": "ASq00l9mH59T"
      },
      "source": [
        "## 2.3 Extract the `label` Feature\n",
        "As we cann see, `label` features is an instance of `ClassLabel` class which is a useful class from `HuggingFace Datasets` contains the classes names along with methods for converting **from integers to classes and vice versa**."
      ]
    },
    {
      "cell_type": "code",
      "execution_count": null,
      "metadata": {
        "colab": {
          "base_uri": "https://localhost:8080/"
        },
        "execution": {
          "iopub.execute_input": "2024-01-12T03:30:13.415980Z",
          "iopub.status.busy": "2024-01-12T03:30:13.415597Z",
          "iopub.status.idle": "2024-01-12T03:30:13.421669Z",
          "shell.execute_reply": "2024-01-12T03:30:13.420601Z",
          "shell.execute_reply.started": "2024-01-12T03:30:13.415950Z"
        },
        "id": "5f0n558SDZgG",
        "outputId": "7c2eaebc-0989-4888-a087-0c6a9b4f48dc",
        "trusted": true
      },
      "outputs": [
        {
          "name": "stdout",
          "output_type": "stream",
          "text": [
            "labels: ClassLabel(names=['negative', 'positive'], id=None)\n"
          ]
        }
      ],
      "source": [
        "labels = dataset[\"train\"].features[\"label\"]\n",
        "print(f\"labels: {labels}\")"
      ]
    },
    {
      "cell_type": "markdown",
      "metadata": {
        "id": "IoWVb0kjJPiv"
      },
      "source": [
        "# 3.0 Preparing and Exploring the Dataset"
      ]
    },
    {
      "cell_type": "markdown",
      "metadata": {
        "id": "c0WpOkvyIXkx"
      },
      "source": [
        "## 3.1 Adding `label_str` Column to the Dataset"
      ]
    },
    {
      "cell_type": "code",
      "execution_count": null,
      "metadata": {
        "execution": {
          "iopub.execute_input": "2024-01-12T03:30:15.228086Z",
          "iopub.status.busy": "2024-01-12T03:30:15.227284Z",
          "iopub.status.idle": "2024-01-12T03:30:15.232657Z",
          "shell.execute_reply": "2024-01-12T03:30:15.231662Z",
          "shell.execute_reply.started": "2024-01-12T03:30:15.228049Z"
        },
        "id": "Qi0dJhJ7VBI4",
        "trusted": true
      },
      "outputs": [],
      "source": [
        "def convert_id_to_label(example):\n",
        "    \"\"\"\n",
        "    Convert the label ID to its corresponding class.\n",
        "\n",
        "    Parameters\n",
        "    ----------\n",
        "    - example : dict\n",
        "        Representing one sample of the data.\n",
        "\n",
        "    Returns\n",
        "    -------\n",
        "    - dict\n",
        "        Contains the new column name `label_str` with corresponding\n",
        "        class name for eachs sample.\n",
        "    \"\"\"\n",
        "    \n",
        "    # here we can use the above `labels` object's `in2str()` method\n",
        "    return {\"label_str\": labels.int2str(example[\"label\"])}"
      ]
    },
    {
      "cell_type": "code",
      "execution_count": null,
      "metadata": {
        "colab": {
          "base_uri": "https://localhost:8080/",
          "height": 353,
          "referenced_widgets": [
            "b9706cc451f64ddab992cbac87737a18",
            "453d7cf84213494ebb2de8e9efa9afec",
            "1484eaf6792944d2b4bc5a032bb265c1",
            "e67b5d72197f4570bef7f7513840e5c0",
            "1d35fab59a9340e3817cd7c1ed26ad8d",
            "c57f558be27445f88d9683c436182dc8",
            "572bdab795224c6db8f4b227bde16439",
            "d7c389f5f5df40fbb6bf661bbf026673",
            "a53122e4027c457b8db03f8af4ba4f9a",
            "ed5b5d7d2fa34389a77c2c7d478a1ec6",
            "f5edb14fb4cd46839ee8bd9866c65c1d",
            "19d038e45b6f466c834eb86a34243eec",
            "846e066a56f34103a4c93327bdaf890f",
            "a7ddf95b5fee42c4914d0256dfa9e5ab",
            "28d5897122ce447c832089c857001948",
            "d42a4337fc7941638d90a55c818cea28",
            "a9528638a1e64adfada1f77664e568ae",
            "79789afcd1794618abb8687230e124dc",
            "1c435ec3f734472dab870321610b1f00",
            "c85d43f5cc0a410ab4da5f0da0455f1a",
            "fb04de8b632946b4b23b3b9108f08f00",
            "d3d7abd0bc184ce7b910b5542e528f05",
            ""
          ]
        },
        "execution": {
          "iopub.execute_input": "2024-01-12T03:30:16.349014Z",
          "iopub.status.busy": "2024-01-12T03:30:16.348633Z",
          "iopub.status.idle": "2024-01-12T03:30:16.563345Z",
          "shell.execute_reply": "2024-01-12T03:30:16.562416Z",
          "shell.execute_reply.started": "2024-01-12T03:30:16.348985Z"
        },
        "id": "yVIAHFTWEEKz",
        "outputId": "68ed1802-fde6-4770-c69d-30d50029104a",
        "trusted": true
      },
      "outputs": [
        {
          "data": {
            "application/vnd.jupyter.widget-view+json": {
              "model_id": "",
              "version_major": 2,
              "version_minor": 0
            },
            "text/plain": [
              "Map:   0%|          | 0/67349 [00:00<?, ? examples/s]"
            ]
          },
          "metadata": {},
          "output_type": "display_data"
        },
        {
          "data": {
            "application/vnd.jupyter.widget-view+json": {
              "model_id": "",
              "version_major": 2,
              "version_minor": 0
            },
            "text/plain": [
              "Map:   0%|          | 0/872 [00:00<?, ? examples/s]"
            ]
          },
          "metadata": {},
          "output_type": "display_data"
        },
        {
          "name": "stdout",
          "output_type": "stream",
          "text": [
            "DatasetDict({\n",
            "    train: Dataset({\n",
            "        features: ['idx', 'sentence', 'label', 'label_str'],\n",
            "        num_rows: 67349\n",
            "    })\n",
            "    validation: Dataset({\n",
            "        features: ['idx', 'sentence', 'label', 'label_str'],\n",
            "        num_rows: 872\n",
            "    })\n",
            "    test: Dataset({\n",
            "        features: ['idx', 'sentence', 'label'],\n",
            "        num_rows: 1821\n",
            "    })\n",
            "})\n"
          ]
        }
      ],
      "source": [
        "dataset[\"train\"] = dataset[\"train\"].map(convert_id_to_label, batched=True)\n",
        "dataset[\"validation\"] = dataset[\"validation\"].map(convert_id_to_label, batched=True)\n",
        "print(dataset)"
      ]
    },
    {
      "cell_type": "markdown",
      "metadata": {
        "id": "Lnzjfy5AIwxD"
      },
      "source": [
        "After the above step, our training and validation datasets contain a new column `label_str` that contains each sample's corresponding class"
      ]
    },
    {
      "cell_type": "code",
      "execution_count": null,
      "metadata": {
        "colab": {
          "base_uri": "https://localhost:8080/"
        },
        "execution": {
          "iopub.execute_input": "2024-01-12T03:30:18.513450Z",
          "iopub.status.busy": "2024-01-12T03:30:18.512797Z",
          "iopub.status.idle": "2024-01-12T03:30:18.520328Z",
          "shell.execute_reply": "2024-01-12T03:30:18.519356Z",
          "shell.execute_reply.started": "2024-01-12T03:30:18.513414Z"
        },
        "id": "NJILTH9XEjGx",
        "outputId": "fb06d6bc-0b18-427b-a2bc-273d17007b7a",
        "trusted": true
      },
      "outputs": [
        {
          "name": "stdout",
          "output_type": "stream",
          "text": [
            "The first example after adding label_str: \n"
          ]
        },
        {
          "data": {
            "text/plain": [
              "{'idx': 0,\n",
              " 'sentence': 'hide new secretions from the parental units ',\n",
              " 'label': 0,\n",
              " 'label_str': 'negative'}"
            ]
          },
          "execution_count": 11,
          "metadata": {},
          "output_type": "execute_result"
        }
      ],
      "source": [
        "print(f\"The first example after adding label_str: \")\n",
        "dataset[\"train\"][0]"
      ]
    },
    {
      "cell_type": "markdown",
      "metadata": {
        "id": "9DoYhwoeJJ2V"
      },
      "source": [
        "## 3.2 Converting the Dataset Format to `Pandas DataFrame`\n",
        "Although Hugging Face have a useful methods for data visualization, I prefer using pandas due its friendly API."
      ]
    },
    {
      "cell_type": "code",
      "execution_count": null,
      "metadata": {
        "execution": {
          "iopub.execute_input": "2024-01-12T03:30:20.946339Z",
          "iopub.status.busy": "2024-01-12T03:30:20.945663Z",
          "iopub.status.idle": "2024-01-12T03:30:21.005904Z",
          "shell.execute_reply": "2024-01-12T03:30:21.005129Z",
          "shell.execute_reply.started": "2024-01-12T03:30:20.946303Z"
        },
        "id": "YvRunOLwESgp",
        "trusted": true
      },
      "outputs": [],
      "source": [
        "dataset.set_format(\"pandas\")\n",
        "df_train = dataset[\"train\"][:]\n",
        "df_train.to_csv(\"/kaggle/input/sst-dataset/df_train.csv\")"
      ]
    },
    {
      "cell_type": "code",
      "execution_count": null,
      "metadata": {
        "execution": {
          "iopub.execute_input": "2024-01-12T03:30:22.983458Z",
          "iopub.status.busy": "2024-01-12T03:30:22.982695Z",
          "iopub.status.idle": "2024-01-12T03:30:22.992046Z",
          "shell.execute_reply": "2024-01-12T03:30:22.990676Z",
          "shell.execute_reply.started": "2024-01-12T03:30:22.983424Z"
        },
        "id": "L4XvJtZokVm9",
        "trusted": true
      },
      "outputs": [],
      "source": [
        "df_validation = dataset[\"validation\"][:]\n",
        "df_validation.to_csv(\"/kaggle/input/sst-dataset/df_valid.csv\")"
      ]
    },
    {
      "cell_type": "markdown",
      "metadata": {
        "id": "rvVTLpiVKMVI"
      },
      "source": [
        "## 3.3 Loading the Saved CSV Files"
      ]
    },
    {
      "cell_type": "code",
      "execution_count": null,
      "metadata": {
        "execution": {
          "iopub.execute_input": "2024-01-12T03:30:26.477138Z",
          "iopub.status.busy": "2024-01-12T03:30:26.476380Z",
          "iopub.status.idle": "2024-01-12T03:30:26.682684Z",
          "shell.execute_reply": "2024-01-12T03:30:26.681891Z",
          "shell.execute_reply.started": "2024-01-12T03:30:26.477105Z"
        },
        "id": "ojj3d7-AkfdZ",
        "trusted": true
      },
      "outputs": [],
      "source": [
        "df_train = pd.read_csv(\"/kaggle/input/sst-dataset/df_train.csv\", index_col=0)\n",
        "df_validation = pd.read_csv(\"/kaggle/input/sst-dataset/df_valid.csv\", index_col=0)"
      ]
    },
    {
      "cell_type": "code",
      "execution_count": null,
      "metadata": {
        "colab": {
          "base_uri": "https://localhost:8080/",
          "height": 213
        },
        "execution": {
          "iopub.execute_input": "2024-01-12T03:30:28.682137Z",
          "iopub.status.busy": "2024-01-12T03:30:28.681795Z",
          "iopub.status.idle": "2024-01-12T03:30:28.696685Z",
          "shell.execute_reply": "2024-01-12T03:30:28.695786Z",
          "shell.execute_reply.started": "2024-01-12T03:30:28.682111Z"
        },
        "id": "xcuD2IS5sv5b",
        "outputId": "4527b911-4192-49b1-856d-b466d66a15c7",
        "trusted": true
      },
      "outputs": [
        {
          "data": {
            "text/html": [
              "<div>\n",
              "<style scoped>\n",
              "    .dataframe tbody tr th:only-of-type {\n",
              "        vertical-align: middle;\n",
              "    }\n",
              "\n",
              "    .dataframe tbody tr th {\n",
              "        vertical-align: top;\n",
              "    }\n",
              "\n",
              "    .dataframe thead th {\n",
              "        text-align: right;\n",
              "    }\n",
              "</style>\n",
              "<table border=\"1\" class=\"dataframe\">\n",
              "  <thead>\n",
              "    <tr style=\"text-align: right;\">\n",
              "      <th></th>\n",
              "      <th>idx</th>\n",
              "      <th>sentence</th>\n",
              "      <th>label</th>\n",
              "      <th>label_str</th>\n",
              "    </tr>\n",
              "  </thead>\n",
              "  <tbody>\n",
              "    <tr>\n",
              "      <th>0</th>\n",
              "      <td>0</td>\n",
              "      <td>hide new secretions from the parental units</td>\n",
              "      <td>0</td>\n",
              "      <td>negative</td>\n",
              "    </tr>\n",
              "    <tr>\n",
              "      <th>1</th>\n",
              "      <td>1</td>\n",
              "      <td>contains no wit , only labored gags</td>\n",
              "      <td>0</td>\n",
              "      <td>negative</td>\n",
              "    </tr>\n",
              "    <tr>\n",
              "      <th>2</th>\n",
              "      <td>2</td>\n",
              "      <td>that loves its characters and communicates som...</td>\n",
              "      <td>1</td>\n",
              "      <td>positive</td>\n",
              "    </tr>\n",
              "    <tr>\n",
              "      <th>3</th>\n",
              "      <td>3</td>\n",
              "      <td>remains utterly satisfied to remain the same t...</td>\n",
              "      <td>0</td>\n",
              "      <td>negative</td>\n",
              "    </tr>\n",
              "    <tr>\n",
              "      <th>4</th>\n",
              "      <td>4</td>\n",
              "      <td>on the worst revenge-of-the-nerds clichés the ...</td>\n",
              "      <td>0</td>\n",
              "      <td>negative</td>\n",
              "    </tr>\n",
              "  </tbody>\n",
              "</table>\n",
              "</div>"
            ],
            "text/plain": [
              "   idx                                           sentence  label label_str\n",
              "0    0       hide new secretions from the parental units       0  negative\n",
              "1    1               contains no wit , only labored gags       0  negative\n",
              "2    2  that loves its characters and communicates som...      1  positive\n",
              "3    3  remains utterly satisfied to remain the same t...      0  negative\n",
              "4    4  on the worst revenge-of-the-nerds clichés the ...      0  negative"
            ]
          },
          "execution_count": 15,
          "metadata": {},
          "output_type": "execute_result"
        }
      ],
      "source": [
        "df_train.head()"
      ]
    },
    {
      "cell_type": "code",
      "execution_count": null,
      "metadata": {
        "colab": {
          "base_uri": "https://localhost:8080/"
        },
        "execution": {
          "iopub.execute_input": "2024-01-12T03:30:29.925269Z",
          "iopub.status.busy": "2024-01-12T03:30:29.924898Z",
          "iopub.status.idle": "2024-01-12T03:30:29.953042Z",
          "shell.execute_reply": "2024-01-12T03:30:29.952154Z",
          "shell.execute_reply.started": "2024-01-12T03:30:29.925239Z"
        },
        "id": "3qqtohCxsyJY",
        "outputId": "e8cb1231-a6bf-4787-c04e-124db74b6153",
        "trusted": true
      },
      "outputs": [
        {
          "name": "stdout",
          "output_type": "stream",
          "text": [
            "<class 'pandas.core.frame.DataFrame'>\n",
            "Index: 67349 entries, 0 to 67348\n",
            "Data columns (total 4 columns):\n",
            " #   Column     Non-Null Count  Dtype \n",
            "---  ------     --------------  ----- \n",
            " 0   idx        67349 non-null  int64 \n",
            " 1   sentence   67349 non-null  object\n",
            " 2   label      67349 non-null  int64 \n",
            " 3   label_str  67349 non-null  object\n",
            "dtypes: int64(2), object(2)\n",
            "memory usage: 2.6+ MB\n"
          ]
        }
      ],
      "source": [
        "df_train.info()"
      ]
    },
    {
      "cell_type": "markdown",
      "metadata": {
        "id": "M99ICarrKR-7"
      },
      "source": [
        "## 3.4 Checking Class Imbalance"
      ]
    },
    {
      "cell_type": "code",
      "execution_count": null,
      "metadata": {
        "colab": {
          "base_uri": "https://localhost:8080/",
          "height": 519
        },
        "execution": {
          "iopub.execute_input": "2024-01-12T03:30:31.269304Z",
          "iopub.status.busy": "2024-01-12T03:30:31.268594Z",
          "iopub.status.idle": "2024-01-12T03:30:31.576963Z",
          "shell.execute_reply": "2024-01-12T03:30:31.575932Z",
          "shell.execute_reply.started": "2024-01-12T03:30:31.269266Z"
        },
        "id": "n0M1e_1xFBsp",
        "outputId": "9763311f-7d9c-40e1-b8db-6d88b051fe44",
        "trusted": true
      },
      "outputs": [
        {
          "data": {
            "image/png": "[encoded data removed]",
            "text/plain": [
              "<Figure size 640x480 with 1 Axes>"
            ]
          },
          "metadata": {},
          "output_type": "display_data"
        }
      ],
      "source": [
        "df_train[\"label_str\"].value_counts().plot.bar(color=\"dodgerblue\")\n",
        "plt.title(\"Label Class Frequency\")\n",
        "plt.xlabel(\"Class\")\n",
        "plt.ylabel(\"Frequency\")\n",
        "plt.show()"
      ]
    },
    {
      "cell_type": "markdown",
      "metadata": {
        "id": "yfpNKnLVKVyL"
      },
      "source": [
        "Observing a slight class imbalance, I plan to train two LSTM models – one before addressing this imbalance and another after making adjustments. This approach aims to evaluate and understand the impact of resolving the class imbalance on the final performance of the model."
      ]
    },
    {
      "cell_type": "markdown",
      "metadata": {
        "id": "X_7AtqoUKl6l"
      },
      "source": [
        "## 3.5 Checking the Maximum Words Per Sentence\n",
        "The importance of this step is summarized due to the limited context window of transformer model (will train them later in the notebook). So, I made this step to be able to see whether there is a sentence is larger than 512 token ot not."
      ]
    },
    {
      "cell_type": "code",
      "execution_count": null,
      "metadata": {
        "colab": {
          "base_uri": "https://localhost:8080/",
          "height": 443
        },
        "execution": {
          "iopub.execute_input": "2024-01-12T03:30:33.314063Z",
          "iopub.status.busy": "2024-01-12T03:30:33.313671Z",
          "iopub.status.idle": "2024-01-12T03:30:33.809669Z",
          "shell.execute_reply": "2024-01-12T03:30:33.808664Z",
          "shell.execute_reply.started": "2024-01-12T03:30:33.314031Z"
        },
        "id": "ge4YkJSTFMpJ",
        "outputId": "f71f2b10-fd63-49e2-c7a5-2a343d91618e",
        "trusted": true
      },
      "outputs": [
        {
          "data": {
            "image/png": "[encoded data removed]",
            "text/plain": [
              "<Figure size 640x480 with 1 Axes>"
            ]
          },
          "metadata": {},
          "output_type": "display_data"
        }
      ],
      "source": [
        "df_train[\"words_per_sentence\"] = df_train[\"sentence\"].str.split().apply(len)\n",
        "df_train.boxplot(\"words_per_sentence\", by=\"label_str\", color=\"blue\", grid=False, showfliers=False)\n",
        "plt.suptitle(\"\")\n",
        "plt.xlabel(\"\")\n",
        "plt.show()"
      ]
    },
    {
      "cell_type": "markdown",
      "metadata": {
        "id": "hAz0DJg7L_IP"
      },
      "source": [
        "## 3.6 Converting Text to Integers"
      ]
    },
    {
      "cell_type": "code",
      "execution_count": null,
      "metadata": {
        "execution": {
          "iopub.execute_input": "2024-01-12T03:30:35.475816Z",
          "iopub.status.busy": "2024-01-12T03:30:35.475068Z",
          "iopub.status.idle": "2024-01-12T03:30:37.806576Z",
          "shell.execute_reply": "2024-01-12T03:30:37.805748Z",
          "shell.execute_reply.started": "2024-01-12T03:30:35.475779Z"
        },
        "id": "oMYMjKM-lHRJ",
        "trusted": true
      },
      "outputs": [],
      "source": [
        "# Instantiate a `tokenizer` object to convert text to integers\n",
        "tokenizer = Tokenizer()\n",
        "# Fittng the tokenizer on the training data\n",
        "tokenizer.fit_on_texts(df_train['sentence'])\n",
        "\n",
        "# Use the tokenizer to convert sentences to integers\n",
        "train_sequences = tokenizer.texts_to_sequences(df_train['sentence'])\n",
        "valid_sequences = tokenizer.texts_to_sequences(df_validation['sentence'])"
      ]
    },
    {
      "cell_type": "code",
      "execution_count": null,
      "metadata": {
        "colab": {
          "base_uri": "https://localhost:8080/"
        },
        "execution": {
          "iopub.execute_input": "2024-01-12T03:30:37.808283Z",
          "iopub.status.busy": "2024-01-12T03:30:37.807977Z",
          "iopub.status.idle": "2024-01-12T03:30:37.813393Z",
          "shell.execute_reply": "2024-01-12T03:30:37.812551Z",
          "shell.execute_reply.started": "2024-01-12T03:30:37.808253Z"
        },
        "id": "AK5ShPJU82rg",
        "outputId": "b38e00b3-9ec6-486c-c408-226c66876ac4",
        "trusted": true
      },
      "outputs": [
        {
          "name": "stdout",
          "output_type": "stream",
          "text": [
            "Total vocab size: 13823\n"
          ]
        }
      ],
      "source": [
        "word2idx = tokenizer.word_index\n",
        "# The reason for adding one to be able to map the [padding token]\n",
        "vocab_size = len(word2idx) + 1\n",
        "print(f\"Total vocab size: {vocab_size}\")"
      ]
    },
    {
      "cell_type": "markdown",
      "metadata": {
        "id": "oV8mdI-eMkCH"
      },
      "source": [
        "## 3.7 Padding the Sequences to Maximum Sentence Length"
      ]
    },
    {
      "cell_type": "code",
      "execution_count": null,
      "metadata": {
        "colab": {
          "base_uri": "https://localhost:8080/"
        },
        "execution": {
          "iopub.execute_input": "2024-01-12T03:30:37.914571Z",
          "iopub.status.busy": "2024-01-12T03:30:37.914260Z",
          "iopub.status.idle": "2024-01-12T03:30:38.204361Z",
          "shell.execute_reply": "2024-01-12T03:30:38.203415Z",
          "shell.execute_reply.started": "2024-01-12T03:30:37.914544Z"
        },
        "id": "NvmUa1rX9dML",
        "outputId": "c097be67-9c26-49af-fbba-325751014a5a",
        "trusted": true
      },
      "outputs": [
        {
          "name": "stdout",
          "output_type": "stream",
          "text": [
            "Maximum number of words in training data: 49\n",
            "Maximum number of words in validation data: 43\n",
            "Maximum sequence length: 49\n",
            "Train padded sequence shape: (67349, 49)\n",
            "Validation padded sequence shape: (872, 49)\n"
          ]
        }
      ],
      "source": [
        "max_train_sequence_length = max(len(seq) for seq in train_sequences)\n",
        "max_valid_sequence_length = max(len(seq) for seq in valid_sequences)\n",
        "\n",
        "print(f\"Maximum number of words in training data: {max_train_sequence_length}\")\n",
        "print(f\"Maximum number of words in validation data: {max_valid_sequence_length}\")\n",
        "\n",
        "max_sequence_length = max(max_train_sequence_length, max_valid_sequence_length)\n",
        "print(f\"Maximum sequence length: {max_sequence_length}\")\n",
        "\n",
        "train_padded_sequences = pad_sequences(train_sequences, maxlen=max_sequence_length, padding='post')\n",
        "valid_padded_sequences = pad_sequences(valid_sequences, maxlen=max_sequence_length, padding='post')\n",
        "\n",
        "print(f\"Train padded sequence shape: {train_padded_sequences.shape}\")\n",
        "print(f\"Validation padded sequence shape: {valid_padded_sequences.shape}\")"
      ]
    },
    {
      "cell_type": "markdown",
      "metadata": {
        "id": "TuxFE7yiLOpW"
      },
      "source": [
        "# 4.0 Models Building\n"
      ]
    },
    {
      "cell_type": "markdown",
      "metadata": {
        "id": "y6fpCo41LUMf"
      },
      "source": [
        "## 4.1 Fixed-Embeddings LSTM Base Model (Imbalance)"
      ]
    },
    {
      "cell_type": "code",
      "execution_count": null,
      "metadata": {
        "execution": {
          "iopub.execute_input": "2024-01-12T03:30:42.388471Z",
          "iopub.status.busy": "2024-01-12T03:30:42.388112Z",
          "iopub.status.idle": "2024-01-12T03:30:42.395252Z",
          "shell.execute_reply": "2024-01-12T03:30:42.394326Z",
          "shell.execute_reply.started": "2024-01-12T03:30:42.388441Z"
        },
        "id": "jXSNYCXx-vYo",
        "trusted": true
      },
      "outputs": [],
      "source": [
        "# Define multiple values to do a simple grid search\n",
        "embedding_dims = [64, 128, 512, 768]\n",
        "hidden_dims = [32, 64, 128]\n",
        "output_dim = 2\n",
        "# These hyperparameters remains constant\n",
        "num_epochs = 5\n",
        "batch_size = 32\n",
        "\n",
        "\n",
        "def create_lstm_model(embedding_dim, hidden_dim):\n",
        "    \"\"\"\n",
        "    Instantiate a `keras.Sequential` model with the specific\n",
        "    `embedding_dim` and `hidden_dim`.\n",
        "\n",
        "    Parameters\n",
        "    ----------\n",
        "    - embedding_dim : int\n",
        "        Defines the embedding dimension for each word.\n",
        "\n",
        "    - hidden_dim : int\n",
        "        Defines the number of hidden units in the LSTM cell.\n",
        "\n",
        "    Returns\n",
        "    -------\n",
        "    - model : keras.Sequential\n",
        "        a Sequential model.\n",
        "    \"\"\"\n",
        "\n",
        "    model = Sequential()\n",
        "    model.add(Embedding(input_dim=vocab_size, output_dim=embedding_dim, input_length=max_sequence_length))\n",
        "    model.add(LSTM(hidden_dim))\n",
        "    model.add(Dropout(0.01))\n",
        "    model.add(Dense(output_dim, activation=\"softmax\"))\n",
        "\n",
        "    model.compile(loss=\"sparse_categorical_crossentropy\", optimizer=\"adam\", metrics=[\"accuracy\"])\n",
        "\n",
        "    return model"
      ]
    },
    {
      "cell_type": "markdown",
      "metadata": {
        "id": "lQ0u9GGDNIg_"
      },
      "source": [
        "### 4.1.1 Find Optimal Hyperparameters Function"
      ]
    },
    {
      "cell_type": "code",
      "execution_count": null,
      "metadata": {
        "execution": {
          "iopub.execute_input": "2024-01-12T03:30:55.677843Z",
          "iopub.status.busy": "2024-01-12T03:30:55.677312Z",
          "iopub.status.idle": "2024-01-12T03:30:55.685218Z",
          "shell.execute_reply": "2024-01-12T03:30:55.684251Z",
          "shell.execute_reply.started": "2024-01-12T03:30:55.677800Z"
        },
        "id": "7R-ioZzBGBpo",
        "trusted": true
      },
      "outputs": [],
      "source": [
        "def find_best_hyperparamters():\n",
        "    \"\"\"\n",
        "    Using grid search to search for a specific set of optimal\n",
        "    hyperparameters.\n",
        "\n",
        "    Returns\n",
        "    -------\n",
        "    - tuple[dict, dict]\n",
        "        It returns all validation losses & accuracies values for each model\n",
        "        trained on specific set of hyperparameters.\n",
        "    \"\"\"\n",
        "\n",
        "    i = 0\n",
        "    all_val_losses = {}\n",
        "    all_val_accuracies = {}\n",
        "\n",
        "    for embedding_dim in embedding_dims:\n",
        "        for hidden_dim in hidden_dims:\n",
        "            print(f\"model {i+1}:\")\n",
        "            model = create_lstm_model(embedding_dim, hidden_dim)\n",
        "            model.fit(train_padded_sequences, df_train[\"label\"], epochs=num_epochs,\n",
        "                      batch_size=batch_size, validation_data=(valid_padded_sequences, df_validation[\"label\"]))\n",
        "            val_loss, val_accuracy = model.evaluate(valid_padded_sequences, df_validation['label'])\n",
        "\n",
        "            all_val_losses[(embedding_dim, hidden_dim)] = val_loss\n",
        "            all_val_accuracies[(embedding_dim, hidden_dim)] = val_accuracy\n",
        "            i += 1\n",
        "            print()\n",
        "            print(f\"=\" * 100)\n",
        "\n",
        "    print(f\"all_val_losses: \\n{all_val_losses}\")\n",
        "    print(f\"all_val_accuracies: \\n{all_val_accuracies}\")\n",
        "\n",
        "    return all_val_losses, all_val_accuracies"
      ]
    },
    {
      "cell_type": "code",
      "execution_count": null,
      "metadata": {
        "colab": {
          "base_uri": "https://localhost:8080/"
        },
        "execution": {
          "iopub.execute_input": "2024-01-12T03:30:59.701804Z",
          "iopub.status.busy": "2024-01-12T03:30:59.701419Z",
          "iopub.status.idle": "2024-01-12T03:53:15.879244Z",
          "shell.execute_reply": "2024-01-12T03:53:15.878287Z",
          "shell.execute_reply.started": "2024-01-12T03:30:59.701772Z"
        },
        "id": "LWbvSqErI_r4",
        "outputId": "660daa6a-ff65-433b-8212-e81bf9e74328",
        "trusted": true
      },
      "outputs": [
        {
          "name": "stdout",
          "output_type": "stream",
          "text": [
            "model 1:\n",
            "Epoch 1/5\n",
            "2105/2105 [==============================] - 49s 22ms/step - loss: 0.6687 - accuracy: 0.5726 - val_loss: 0.6662 - val_accuracy: 0.5711\n",
            "Epoch 2/5\n",
            "2105/2105 [==============================] - 13s 6ms/step - loss: 0.6807 - accuracy: 0.5609 - val_loss: 0.7039 - val_accuracy: 0.5092\n",
            "Epoch 3/5\n",
            "2105/2105 [==============================] - 11s 5ms/step - loss: 0.6877 - accuracy: 0.5554 - val_loss: 0.7000 - val_accuracy: 0.5092\n",
            "Epoch 4/5\n",
            "2105/2105 [==============================] - 13s 6ms/step - loss: 0.6874 - accuracy: 0.5557 - val_loss: 0.6936 - val_accuracy: 0.5092\n",
            "Epoch 5/5\n",
            "2105/2105 [==============================] - 12s 6ms/step - loss: 0.6874 - accuracy: 0.5563 - val_loss: 0.6959 - val_accuracy: 0.5092\n",
            "28/28 [==============================] - 0s 3ms/step - loss: 0.6959 - accuracy: 0.5092\n",
            "\n",
            "====================================================================================================\n",
            "model 2:\n",
            "Epoch 1/5\n",
            "2105/2105 [==============================] - 36s 16ms/step - loss: 0.6815 - accuracy: 0.5631 - val_loss: 0.6575 - val_accuracy: 0.6479\n",
            "Epoch 2/5\n",
            "2105/2105 [==============================] - 12s 6ms/step - loss: 0.6709 - accuracy: 0.5852 - val_loss: 0.6473 - val_accuracy: 0.6583\n",
            "Epoch 3/5\n",
            "2105/2105 [==============================] - 11s 5ms/step - loss: 0.5312 - accuracy: 0.7047 - val_loss: 0.4327 - val_accuracy: 0.8005\n",
            "Epoch 4/5\n",
            "2105/2105 [==============================] - 13s 6ms/step - loss: 0.2415 - accuracy: 0.9088 - val_loss: 0.4140 - val_accuracy: 0.8177\n",
            "Epoch 5/5\n",
            "2105/2105 [==============================] - 12s 6ms/step - loss: 0.1540 - accuracy: 0.9440 - val_loss: 0.4555 - val_accuracy: 0.8337\n",
            "28/28 [==============================] - 0s 3ms/step - loss: 0.4555 - accuracy: 0.8337\n",
            "\n",
            "====================================================================================================\n",
            "model 3:\n",
            "Epoch 1/5\n",
            "2105/2105 [==============================] - 38s 17ms/step - loss: 0.6844 - accuracy: 0.5670 - val_loss: 0.7002 - val_accuracy: 0.5092\n",
            "Epoch 2/5\n",
            "2105/2105 [==============================] - 12s 6ms/step - loss: 0.6777 - accuracy: 0.5724 - val_loss: 0.6757 - val_accuracy: 0.5986\n",
            "Epoch 3/5\n",
            "2105/2105 [==============================] - 12s 6ms/step - loss: 0.5474 - accuracy: 0.6844 - val_loss: 0.4294 - val_accuracy: 0.8016\n",
            "Epoch 4/5\n",
            "2105/2105 [==============================] - 12s 6ms/step - loss: 0.2218 - accuracy: 0.9153 - val_loss: 0.4505 - val_accuracy: 0.8188\n",
            "Epoch 5/5\n",
            "2105/2105 [==============================] - 11s 5ms/step - loss: 0.1474 - accuracy: 0.9454 - val_loss: 0.4794 - val_accuracy: 0.8222\n",
            "28/28 [==============================] - 0s 3ms/step - loss: 0.4794 - accuracy: 0.8222\n",
            "\n",
            "====================================================================================================\n",
            "model 4:\n",
            "Epoch 1/5\n",
            "2105/2105 [==============================] - 44s 20ms/step - loss: 0.6418 - accuracy: 0.6240 - val_loss: 0.6217 - val_accuracy: 0.6858\n",
            "Epoch 2/5\n",
            "2105/2105 [==============================] - 13s 6ms/step - loss: 0.6049 - accuracy: 0.7016 - val_loss: 0.6300 - val_accuracy: 0.6984\n",
            "Epoch 3/5\n",
            "2105/2105 [==============================] - 11s 5ms/step - loss: 0.5780 - accuracy: 0.7107 - val_loss: 0.6304 - val_accuracy: 0.6984\n",
            "Epoch 4/5\n",
            "2105/2105 [==============================] - 11s 5ms/step - loss: 0.5701 - accuracy: 0.7062 - val_loss: 0.6514 - val_accuracy: 0.6411\n",
            "Epoch 5/5\n",
            "2105/2105 [==============================] - 11s 5ms/step - loss: 0.5753 - accuracy: 0.6877 - val_loss: 0.6400 - val_accuracy: 0.6789\n",
            "28/28 [==============================] - 0s 3ms/step - loss: 0.6400 - accuracy: 0.6789\n",
            "\n",
            "====================================================================================================\n",
            "model 5:\n",
            "Epoch 1/5\n",
            "2105/2105 [==============================] - 35s 16ms/step - loss: 0.6837 - accuracy: 0.5603 - val_loss: 0.7006 - val_accuracy: 0.5092\n",
            "Epoch 2/5\n",
            "2105/2105 [==============================] - 12s 6ms/step - loss: 0.6885 - accuracy: 0.5540 - val_loss: 0.6983 - val_accuracy: 0.5092\n",
            "Epoch 3/5\n",
            "2105/2105 [==============================] - 12s 6ms/step - loss: 0.6876 - accuracy: 0.5560 - val_loss: 0.6972 - val_accuracy: 0.5092\n",
            "Epoch 4/5\n",
            "2105/2105 [==============================] - 11s 5ms/step - loss: 0.5351 - accuracy: 0.6985 - val_loss: 0.4159 - val_accuracy: 0.8291\n",
            "Epoch 5/5\n",
            "2105/2105 [==============================] - 11s 5ms/step - loss: 0.2081 - accuracy: 0.9203 - val_loss: 0.4204 - val_accuracy: 0.8291\n",
            "28/28 [==============================] - 0s 4ms/step - loss: 0.4204 - accuracy: 0.8291\n",
            "\n",
            "====================================================================================================\n",
            "model 6:\n",
            "Epoch 1/5\n",
            "2105/2105 [==============================] - 35s 16ms/step - loss: 0.5072 - accuracy: 0.7269 - val_loss: 0.4418 - val_accuracy: 0.7878\n",
            "Epoch 2/5\n",
            "2105/2105 [==============================] - 13s 6ms/step - loss: 0.2191 - accuracy: 0.9175 - val_loss: 0.4894 - val_accuracy: 0.8131\n",
            "Epoch 3/5\n",
            "2105/2105 [==============================] - 11s 5ms/step - loss: 0.1386 - accuracy: 0.9494 - val_loss: 0.4596 - val_accuracy: 0.8222\n",
            "Epoch 4/5\n",
            "2105/2105 [==============================] - 11s 5ms/step - loss: 0.1028 - accuracy: 0.9635 - val_loss: 0.4999 - val_accuracy: 0.8234\n",
            "Epoch 5/5\n",
            "2105/2105 [==============================] - 12s 6ms/step - loss: 0.0788 - accuracy: 0.9713 - val_loss: 0.6002 - val_accuracy: 0.8073\n",
            "28/28 [==============================] - 0s 3ms/step - loss: 0.6002 - accuracy: 0.8073\n",
            "\n",
            "====================================================================================================\n",
            "model 7:\n",
            "Epoch 1/5\n",
            "2105/2105 [==============================] - 47s 22ms/step - loss: 0.6874 - accuracy: 0.5565 - val_loss: 0.7001 - val_accuracy: 0.5092\n",
            "Epoch 2/5\n",
            "2105/2105 [==============================] - 16s 7ms/step - loss: 0.6797 - accuracy: 0.5784 - val_loss: 0.6838 - val_accuracy: 0.5837\n",
            "Epoch 3/5\n",
            "2105/2105 [==============================] - 14s 7ms/step - loss: 0.6783 - accuracy: 0.5810 - val_loss: 0.6848 - val_accuracy: 0.5722\n",
            "Epoch 4/5\n",
            "2105/2105 [==============================] - 14s 6ms/step - loss: 0.6844 - accuracy: 0.5596 - val_loss: 0.6580 - val_accuracy: 0.6525\n",
            "Epoch 5/5\n",
            "2105/2105 [==============================] - 13s 6ms/step - loss: 0.3566 - accuracy: 0.8377 - val_loss: 0.4447 - val_accuracy: 0.8154\n",
            "28/28 [==============================] - 0s 3ms/step - loss: 0.4447 - accuracy: 0.8154\n",
            "\n",
            "====================================================================================================\n",
            "model 8:\n",
            "Epoch 1/5\n",
            "2105/2105 [==============================] - 37s 16ms/step - loss: 0.6866 - accuracy: 0.5577 - val_loss: 0.5997 - val_accuracy: 0.7466\n",
            "Epoch 2/5\n",
            "2105/2105 [==============================] - 15s 7ms/step - loss: 0.2976 - accuracy: 0.8811 - val_loss: 0.4202 - val_accuracy: 0.8326\n",
            "Epoch 3/5\n",
            "2105/2105 [==============================] - 14s 7ms/step - loss: 0.1502 - accuracy: 0.9453 - val_loss: 0.4774 - val_accuracy: 0.8429\n",
            "Epoch 4/5\n",
            "2105/2105 [==============================] - 14s 7ms/step - loss: 0.1060 - accuracy: 0.9620 - val_loss: 0.4844 - val_accuracy: 0.8268\n",
            "Epoch 5/5\n",
            "2105/2105 [==============================] - 13s 6ms/step - loss: 0.0818 - accuracy: 0.9696 - val_loss: 0.4873 - val_accuracy: 0.8177\n",
            "28/28 [==============================] - 0s 3ms/step - loss: 0.4873 - accuracy: 0.8177\n",
            "\n",
            "====================================================================================================\n",
            "model 9:\n",
            "Epoch 1/5\n",
            "2105/2105 [==============================] - 38s 17ms/step - loss: 0.6873 - accuracy: 0.5571 - val_loss: 0.6964 - val_accuracy: 0.5092\n",
            "Epoch 2/5\n",
            "2105/2105 [==============================] - 15s 7ms/step - loss: 0.5403 - accuracy: 0.7043 - val_loss: 0.4617 - val_accuracy: 0.8085\n",
            "Epoch 3/5\n",
            "2105/2105 [==============================] - 15s 7ms/step - loss: 0.2104 - accuracy: 0.9230 - val_loss: 0.4208 - val_accuracy: 0.8314\n",
            "Epoch 4/5\n",
            "2105/2105 [==============================] - 15s 7ms/step - loss: 0.1306 - accuracy: 0.9519 - val_loss: 0.4665 - val_accuracy: 0.8349\n",
            "Epoch 5/5\n",
            "2105/2105 [==============================] - 14s 7ms/step - loss: 0.0932 - accuracy: 0.9656 - val_loss: 0.5429 - val_accuracy: 0.8337\n",
            "28/28 [==============================] - 0s 4ms/step - loss: 0.5429 - accuracy: 0.8337\n",
            "\n",
            "====================================================================================================\n",
            "model 10:\n",
            "Epoch 1/5\n",
            "2105/2105 [==============================] - 52s 23ms/step - loss: 0.6870 - accuracy: 0.5571 - val_loss: 0.6961 - val_accuracy: 0.5092\n",
            "Epoch 2/5\n",
            "2105/2105 [==============================] - 17s 8ms/step - loss: 0.6418 - accuracy: 0.6019 - val_loss: 0.4509 - val_accuracy: 0.8005\n",
            "Epoch 3/5\n",
            "2105/2105 [==============================] - 17s 8ms/step - loss: 0.2405 - accuracy: 0.9060 - val_loss: 0.4050 - val_accuracy: 0.8406\n",
            "Epoch 4/5\n",
            "2105/2105 [==============================] - 16s 8ms/step - loss: 0.1272 - accuracy: 0.9539 - val_loss: 0.4607 - val_accuracy: 0.8222\n",
            "Epoch 5/5\n",
            "2105/2105 [==============================] - 16s 8ms/step - loss: 0.0871 - accuracy: 0.9676 - val_loss: 0.4927 - val_accuracy: 0.8394\n",
            "28/28 [==============================] - 0s 3ms/step - loss: 0.4927 - accuracy: 0.8394\n",
            "\n",
            "====================================================================================================\n",
            "model 11:\n",
            "Epoch 1/5\n",
            "2105/2105 [==============================] - 40s 18ms/step - loss: 0.6872 - accuracy: 0.5564 - val_loss: 0.6982 - val_accuracy: 0.5092\n",
            "Epoch 2/5\n",
            "2105/2105 [==============================] - 17s 8ms/step - loss: 0.6868 - accuracy: 0.5574 - val_loss: 0.6966 - val_accuracy: 0.5092\n",
            "Epoch 3/5\n",
            "2105/2105 [==============================] - 16s 8ms/step - loss: 0.4062 - accuracy: 0.8098 - val_loss: 0.4289 - val_accuracy: 0.8142\n",
            "Epoch 4/5\n",
            "2105/2105 [==============================] - 15s 7ms/step - loss: 0.1808 - accuracy: 0.9329 - val_loss: 0.4725 - val_accuracy: 0.8257\n",
            "Epoch 5/5\n",
            "2105/2105 [==============================] - 15s 7ms/step - loss: 0.1224 - accuracy: 0.9543 - val_loss: 0.4990 - val_accuracy: 0.8028\n",
            "28/28 [==============================] - 0s 3ms/step - loss: 0.4990 - accuracy: 0.8028\n",
            "\n",
            "====================================================================================================\n",
            "model 12:\n",
            "Epoch 1/5\n",
            "2105/2105 [==============================] - 40s 18ms/step - loss: 0.6872 - accuracy: 0.5572 - val_loss: 0.6975 - val_accuracy: 0.5092\n",
            "Epoch 2/5\n",
            "2105/2105 [==============================] - 17s 8ms/step - loss: 0.6868 - accuracy: 0.5579 - val_loss: 0.6983 - val_accuracy: 0.5092\n",
            "Epoch 3/5\n",
            "2105/2105 [==============================] - 16s 8ms/step - loss: 0.4498 - accuracy: 0.7694 - val_loss: 0.4347 - val_accuracy: 0.8222\n",
            "Epoch 4/5\n",
            "2105/2105 [==============================] - 16s 7ms/step - loss: 0.1878 - accuracy: 0.9304 - val_loss: 0.4415 - val_accuracy: 0.8211\n",
            "Epoch 5/5\n",
            "2105/2105 [==============================] - 15s 7ms/step - loss: 0.1276 - accuracy: 0.9523 - val_loss: 0.4718 - val_accuracy: 0.8406\n",
            "28/28 [==============================] - 0s 3ms/step - loss: 0.4718 - accuracy: 0.8406\n",
            "\n",
            "====================================================================================================\n",
            "all_val_losses: \n",
            "{(64, 32): 0.6959327459335327, (64, 64): 0.45545491576194763, (64, 128): 0.4794278144836426, (128, 32): 0.6400191783905029, (128, 64): 0.42037731409072876, (128, 128): 0.6002419590950012, (512, 32): 0.4446694552898407, (512, 64): 0.4872819185256958, (512, 128): 0.5428835153579712, (768, 32): 0.49273887276649475, (768, 64): 0.49895551800727844, (768, 128): 0.47181668877601624}\n",
            "all_val_accuracies: \n",
            "{(64, 32): 0.5091742873191833, (64, 64): 0.8337156176567078, (64, 128): 0.8222476840019226, (128, 32): 0.6788991093635559, (128, 64): 0.8291284441947937, (128, 128): 0.8073394298553467, (512, 32): 0.8153669834136963, (512, 64): 0.8176605701446533, (512, 128): 0.8337156176567078, (768, 32): 0.8394495248794556, (768, 64): 0.8027523159980774, (768, 128): 0.8405963182449341}\n"
          ]
        }
      ],
      "source": [
        "all_val_losses, all_val_accuracies = find_best_hyperparamters()"
      ]
    },
    {
      "cell_type": "markdown",
      "metadata": {
        "id": "85WuRXYt_oF-"
      },
      "source": [
        "### 4.1.2 Visualizing Hyperparameters"
      ]
    },
    {
      "cell_type": "code",
      "execution_count": null,
      "metadata": {
        "colab": {
          "base_uri": "https://localhost:8080/",
          "height": 442
        },
        "execution": {
          "iopub.execute_input": "2024-01-12T03:56:50.460539Z",
          "iopub.status.busy": "2024-01-12T03:56:50.460147Z",
          "iopub.status.idle": "2024-01-12T03:56:50.479441Z",
          "shell.execute_reply": "2024-01-12T03:56:50.478506Z",
          "shell.execute_reply.started": "2024-01-12T03:56:50.460505Z"
        },
        "id": "5-yAO-keBlBZ",
        "outputId": "17ad9121-0342-4d1a-e21e-c1c5c5120e91",
        "trusted": true
      },
      "outputs": [
        {
          "data": {
            "text/html": [
              "<div>\n",
              "<style scoped>\n",
              "    .dataframe tbody tr th:only-of-type {\n",
              "        vertical-align: middle;\n",
              "    }\n",
              "\n",
              "    .dataframe tbody tr th {\n",
              "        vertical-align: top;\n",
              "    }\n",
              "\n",
              "    .dataframe thead th {\n",
              "        text-align: right;\n",
              "    }\n",
              "</style>\n",
              "<table border=\"1\" class=\"dataframe\">\n",
              "  <thead>\n",
              "    <tr style=\"text-align: right;\">\n",
              "      <th></th>\n",
              "      <th>combination</th>\n",
              "      <th>validation loss</th>\n",
              "      <th>validation accuracy</th>\n",
              "    </tr>\n",
              "  </thead>\n",
              "  <tbody>\n",
              "    <tr>\n",
              "      <th>11</th>\n",
              "      <td>(768, 128)</td>\n",
              "      <td>0.471817</td>\n",
              "      <td>0.840596</td>\n",
              "    </tr>\n",
              "    <tr>\n",
              "      <th>9</th>\n",
              "      <td>(768, 32)</td>\n",
              "      <td>0.492739</td>\n",
              "      <td>0.839450</td>\n",
              "    </tr>\n",
              "    <tr>\n",
              "      <th>1</th>\n",
              "      <td>(64, 64)</td>\n",
              "      <td>0.455455</td>\n",
              "      <td>0.833716</td>\n",
              "    </tr>\n",
              "    <tr>\n",
              "      <th>8</th>\n",
              "      <td>(512, 128)</td>\n",
              "      <td>0.542884</td>\n",
              "      <td>0.833716</td>\n",
              "    </tr>\n",
              "    <tr>\n",
              "      <th>4</th>\n",
              "      <td>(128, 64)</td>\n",
              "      <td>0.420377</td>\n",
              "      <td>0.829128</td>\n",
              "    </tr>\n",
              "    <tr>\n",
              "      <th>2</th>\n",
              "      <td>(64, 128)</td>\n",
              "      <td>0.479428</td>\n",
              "      <td>0.822248</td>\n",
              "    </tr>\n",
              "    <tr>\n",
              "      <th>7</th>\n",
              "      <td>(512, 64)</td>\n",
              "      <td>0.487282</td>\n",
              "      <td>0.817661</td>\n",
              "    </tr>\n",
              "    <tr>\n",
              "      <th>6</th>\n",
              "      <td>(512, 32)</td>\n",
              "      <td>0.444669</td>\n",
              "      <td>0.815367</td>\n",
              "    </tr>\n",
              "    <tr>\n",
              "      <th>5</th>\n",
              "      <td>(128, 128)</td>\n",
              "      <td>0.600242</td>\n",
              "      <td>0.807339</td>\n",
              "    </tr>\n",
              "    <tr>\n",
              "      <th>10</th>\n",
              "      <td>(768, 64)</td>\n",
              "      <td>0.498956</td>\n",
              "      <td>0.802752</td>\n",
              "    </tr>\n",
              "    <tr>\n",
              "      <th>3</th>\n",
              "      <td>(128, 32)</td>\n",
              "      <td>0.640019</td>\n",
              "      <td>0.678899</td>\n",
              "    </tr>\n",
              "    <tr>\n",
              "      <th>0</th>\n",
              "      <td>(64, 32)</td>\n",
              "      <td>0.695933</td>\n",
              "      <td>0.509174</td>\n",
              "    </tr>\n",
              "  </tbody>\n",
              "</table>\n",
              "</div>"
            ],
            "text/plain": [
              "   combination  validation loss  validation accuracy\n",
              "11  (768, 128)         0.471817             0.840596\n",
              "9    (768, 32)         0.492739             0.839450\n",
              "1     (64, 64)         0.455455             0.833716\n",
              "8   (512, 128)         0.542884             0.833716\n",
              "4    (128, 64)         0.420377             0.829128\n",
              "2    (64, 128)         0.479428             0.822248\n",
              "7    (512, 64)         0.487282             0.817661\n",
              "6    (512, 32)         0.444669             0.815367\n",
              "5   (128, 128)         0.600242             0.807339\n",
              "10   (768, 64)         0.498956             0.802752\n",
              "3    (128, 32)         0.640019             0.678899\n",
              "0     (64, 32)         0.695933             0.509174"
            ]
          },
          "execution_count": 27,
          "metadata": {},
          "output_type": "execute_result"
        }
      ],
      "source": [
        "hyperparameters_combinations = list(all_val_losses.keys())\n",
        "all_val_losses_values = list(all_val_losses.values())\n",
        "all_val_accuracies_values = list(all_val_accuracies.values())\n",
        "\n",
        "hyperparam_data = {\n",
        "    \"combination\": hyperparameters_combinations,\n",
        "    \"validation loss\": all_val_losses_values,\n",
        "    \"validation accuracy\": all_val_accuracies_values\n",
        "}\n",
        "\n",
        "hyperparam_df = pd.DataFrame(hyperparam_data)\n",
        "hyperparam_df.sort_values(\"validation accuracy\", ascending=False)"
      ]
    },
    {
      "cell_type": "code",
      "execution_count": null,
      "metadata": {
        "colab": {
          "base_uri": "https://localhost:8080/",
          "height": 512
        },
        "execution": {
          "iopub.execute_input": "2024-01-12T03:56:59.062545Z",
          "iopub.status.busy": "2024-01-12T03:56:59.061721Z",
          "iopub.status.idle": "2024-01-12T03:56:59.415210Z",
          "shell.execute_reply": "2024-01-12T03:56:59.414291Z",
          "shell.execute_reply.started": "2024-01-12T03:56:59.062512Z"
        },
        "id": "APfX4McgEIq5",
        "outputId": "d466c70d-7963-4c74-f8d7-780ff0f945f4",
        "trusted": true
      },
      "outputs": [
        {
          "data": {
            "text/plain": [
              "<Figure size 1000x1000 with 0 Axes>"
            ]
          },
          "metadata": {},
          "output_type": "display_data"
        },
        {
          "data": {
            "image/png": "[encoded data removed]",
            "text/plain": [
              "<Figure size 640x480 with 1 Axes>"
            ]
          },
          "metadata": {},
          "output_type": "display_data"
        }
      ],
      "source": [
        "plt.figure(figsize=(10, 10))\n",
        "hyperparam_df.set_index(\"combination\").plot.bar()\n",
        "plt.xticks(rotation=40)\n",
        "plt.show()"
      ]
    },
    {
      "cell_type": "code",
      "execution_count": null,
      "metadata": {
        "colab": {
          "base_uri": "https://localhost:8080/",
          "height": 83
        },
        "execution": {
          "iopub.execute_input": "2024-01-12T03:57:05.582085Z",
          "iopub.status.busy": "2024-01-12T03:57:05.581610Z",
          "iopub.status.idle": "2024-01-12T03:57:05.593208Z",
          "shell.execute_reply": "2024-01-12T03:57:05.592240Z",
          "shell.execute_reply.started": "2024-01-12T03:57:05.582049Z"
        },
        "id": "a5c9jBnMFCm7",
        "outputId": "39ad5811-dc31-408b-9453-acb99f579f70",
        "trusted": true
      },
      "outputs": [
        {
          "data": {
            "text/html": [
              "<div>\n",
              "<style scoped>\n",
              "    .dataframe tbody tr th:only-of-type {\n",
              "        vertical-align: middle;\n",
              "    }\n",
              "\n",
              "    .dataframe tbody tr th {\n",
              "        vertical-align: top;\n",
              "    }\n",
              "\n",
              "    .dataframe thead th {\n",
              "        text-align: right;\n",
              "    }\n",
              "</style>\n",
              "<table border=\"1\" class=\"dataframe\">\n",
              "  <thead>\n",
              "    <tr style=\"text-align: right;\">\n",
              "      <th></th>\n",
              "      <th>combination</th>\n",
              "      <th>validation loss</th>\n",
              "      <th>validation accuracy</th>\n",
              "    </tr>\n",
              "  </thead>\n",
              "  <tbody>\n",
              "    <tr>\n",
              "      <th>11</th>\n",
              "      <td>(768, 128)</td>\n",
              "      <td>0.471817</td>\n",
              "      <td>0.840596</td>\n",
              "    </tr>\n",
              "  </tbody>\n",
              "</table>\n",
              "</div>"
            ],
            "text/plain": [
              "   combination  validation loss  validation accuracy\n",
              "11  (768, 128)         0.471817             0.840596"
            ]
          },
          "execution_count": 29,
          "metadata": {},
          "output_type": "execute_result"
        }
      ],
      "source": [
        "hyperparam_df.loc[hyperparam_df['validation accuracy'] == hyperparam_df['validation accuracy'].max()]"
      ]
    },
    {
      "cell_type": "markdown",
      "metadata": {
        "id": "hsjxVpDRFpdM"
      },
      "source": [
        "As we can see, the optimal hyperparameter achieving the best validation accuracy are: **768** and **128** for `embedding_dim` and `hidden_dim` respectievly."
      ]
    },
    {
      "cell_type": "markdown",
      "metadata": {
        "id": "QleucHyYNfxz"
      },
      "source": [
        "### 4.1.3 Training a Model with Optimal Hyperparameters"
      ]
    },
    {
      "cell_type": "code",
      "execution_count": null,
      "metadata": {
        "colab": {
          "base_uri": "https://localhost:8080/"
        },
        "execution": {
          "iopub.execute_input": "2024-01-12T03:57:16.454765Z",
          "iopub.status.busy": "2024-01-12T03:57:16.454370Z",
          "iopub.status.idle": "2024-01-12T03:59:40.969193Z",
          "shell.execute_reply": "2024-01-12T03:59:40.968271Z",
          "shell.execute_reply.started": "2024-01-12T03:57:16.454724Z"
        },
        "id": "4rEpfZHO-vRa",
        "outputId": "8028d027-026f-4d2a-b21a-802c57a8bb90",
        "trusted": true
      },
      "outputs": [
        {
          "name": "stdout",
          "output_type": "stream",
          "text": [
            "Epoch 1/5\n",
            "2105/2105 [==============================] - 40s 17ms/step - loss: 0.6872 - accuracy: 0.5574 - val_loss: 0.6971 - val_accuracy: 0.5092\n",
            "Epoch 2/5\n",
            "2105/2105 [==============================] - 17s 8ms/step - loss: 0.6242 - accuracy: 0.6180 - val_loss: 0.4256 - val_accuracy: 0.8222\n",
            "Epoch 3/5\n",
            "2105/2105 [==============================] - 16s 8ms/step - loss: 0.2313 - accuracy: 0.9121 - val_loss: 0.3686 - val_accuracy: 0.8509\n",
            "Epoch 4/5\n",
            "2105/2105 [==============================] - 16s 8ms/step - loss: 0.1246 - accuracy: 0.9534 - val_loss: 0.4494 - val_accuracy: 0.8463\n",
            "Epoch 5/5\n",
            "2105/2105 [==============================] - 16s 7ms/step - loss: 0.0841 - accuracy: 0.9687 - val_loss: 0.4555 - val_accuracy: 0.8475\n"
          ]
        }
      ],
      "source": [
        "optimal_embedding_dim = 768\n",
        "optimal_hidden_dim = 128\n",
        "lstm_model = create_lstm_model(optimal_embedding_dim, optimal_hidden_dim)\n",
        "history = lstm_model.fit(train_padded_sequences, df_train[\"label\"], epochs=num_epochs,\n",
        "                    batch_size=batch_size, validation_data=(valid_padded_sequences, df_validation[\"label\"]))"
      ]
    },
    {
      "cell_type": "markdown",
      "metadata": {
        "id": "sed9IaUnNofA"
      },
      "source": [
        "### 4.1.4 Model Results"
      ]
    },
    {
      "cell_type": "code",
      "execution_count": null,
      "metadata": {
        "execution": {
          "iopub.execute_input": "2024-01-12T03:59:45.628608Z",
          "iopub.status.busy": "2024-01-12T03:59:45.628229Z",
          "iopub.status.idle": "2024-01-12T03:59:45.638791Z",
          "shell.execute_reply": "2024-01-12T03:59:45.637927Z",
          "shell.execute_reply.started": "2024-01-12T03:59:45.628573Z"
        },
        "id": "LTN3w69_NvEy",
        "trusted": true
      },
      "outputs": [],
      "source": [
        "def plot_loss(history, model_type):\n",
        "    \"\"\"\n",
        "    Plot training and validation loss curves for a Keras model.\n",
        "\n",
        "    Parameters\n",
        "    ----------\n",
        "    - history : keras.callbacks.History\n",
        "        The training history of a Keras model.\n",
        "\n",
        "    - model_type : str\n",
        "        A string indicating the type or name of the model.\n",
        "    \"\"\"\n",
        "\n",
        "    plt.plot(history.history[\"loss\"], label=\"Training Loss\")\n",
        "    plt.plot(history.history[\"val_loss\"], label=\"Validation Loss\")\n",
        "    plt.title(\"Training Loss Vs. Validation Loss \" + model_type)\n",
        "    plt.xlabel(\"Epochs\")\n",
        "    plt.ylabel(\"Loss\")\n",
        "    plt.legend()\n",
        "    plt.show()\n",
        "\n",
        "\n",
        "def plot_accuracy(history, model_type):\n",
        "    \"\"\"\n",
        "    Plot training and validation accuracy curves for a Keras model.\n",
        "\n",
        "    Parameters\n",
        "    ----------\n",
        "    - history : keras.callbacks.History\n",
        "        The training history of a Keras model.\n",
        "\n",
        "    - model_type : str\n",
        "        A string indicating the type or name of the model.\n",
        "    \"\"\"\n",
        "\n",
        "    plt.plot(history.history[\"accuracy\"], label=\"Training Accuracy\")\n",
        "    plt.plot(history.history[\"val_accuracy\"], label=\"Validation Accuracy\")\n",
        "    plt.title(\"Training Accuracy Vs. Validation Accuracy \" + model_type)\n",
        "    plt.xlabel(\"Epochs\")\n",
        "    plt.ylabel(\"Loss\")\n",
        "    plt.legend()\n",
        "    plt.show()\n",
        "\n",
        "\n",
        "def plot_confusion_matrix(y_preds, y_true, labels, model_type):\n",
        "    \"\"\"\n",
        "    Plot a normalized confusion matrix for classification results.\n",
        "\n",
        "    Parameters\n",
        "    ----------\n",
        "    - y_preds : array-like of shape (n_samples,)\n",
        "        Predicted labels.\n",
        "\n",
        "    - y_true : array-like of shape (n_samples,)\n",
        "        True labels.\n",
        "\n",
        "    - labels : list\n",
        "        List of class labels.\n",
        "\n",
        "    - model_type : str\n",
        "        A string indicating the type or name of the model.\n",
        "    \"\"\"\n",
        "\n",
        "    cm = confusion_matrix(y_true, y_preds, normalize=\"true\")\n",
        "    fig, ax = plt.subplots(figsize=(6, 6))\n",
        "    disp = ConfusionMatrixDisplay(confusion_matrix=cm, display_labels=labels)\n",
        "    disp.plot(cmap=\"Blues\", values_format=\".2f\", ax=ax, colorbar=False)\n",
        "    plt.title(\"Normalized Confusion Matrix \" + model_type)\n",
        "    plt.show()\n",
        "\n",
        "\n",
        "def print_classification_report(y_preds, y_true):\n",
        "    \"\"\"\n",
        "    Display classification report for classification results.\n",
        "\n",
        "    Parameters\n",
        "    ----------\n",
        "    - y_preds : array-like of shape (n_samples,)\n",
        "        Predicted labels.\n",
        "\n",
        "    - y_true : array-like of shape (n_samples,)\n",
        "        True labels.\n",
        "    \"\"\"\n",
        "\n",
        "    clf = classification_report(y_true, y_preds)\n",
        "    print(clf)"
      ]
    },
    {
      "cell_type": "code",
      "execution_count": null,
      "metadata": {
        "colab": {
          "base_uri": "https://localhost:8080/",
          "height": 472
        },
        "execution": {
          "iopub.execute_input": "2024-01-12T03:59:46.956889Z",
          "iopub.status.busy": "2024-01-12T03:59:46.956175Z",
          "iopub.status.idle": "2024-01-12T03:59:47.221744Z",
          "shell.execute_reply": "2024-01-12T03:59:47.220699Z",
          "shell.execute_reply.started": "2024-01-12T03:59:46.956856Z"
        },
        "id": "KYhnj0H3T-WX",
        "outputId": "d8e6831e-3f9c-4472-e6d4-3bc9261f4259",
        "trusted": true
      },
      "outputs": [
        {
          "data": {
            "image/png": "[encoded data removed]",
            "text/plain": [
              "<Figure size 640x480 with 1 Axes>"
            ]
          },
          "metadata": {},
          "output_type": "display_data"
        }
      ],
      "source": [
        "plot_loss(history, \"(LSTM Imbalanced)\")"
      ]
    },
    {
      "cell_type": "code",
      "execution_count": null,
      "metadata": {
        "colab": {
          "base_uri": "https://localhost:8080/",
          "height": 472
        },
        "execution": {
          "iopub.execute_input": "2024-01-12T03:59:51.377528Z",
          "iopub.status.busy": "2024-01-12T03:59:51.377062Z",
          "iopub.status.idle": "2024-01-12T03:59:51.686941Z",
          "shell.execute_reply": "2024-01-12T03:59:51.686020Z",
          "shell.execute_reply.started": "2024-01-12T03:59:51.377498Z"
        },
        "id": "1hcj4N0HUTRr",
        "outputId": "bfd9bbe5-b894-46b0-f058-4f86a08fc2a5",
        "trusted": true
      },
      "outputs": [
        {
          "data": {
            "image/png": "[encoded data removed]",
            "text/plain": [
              "<Figure size 640x480 with 1 Axes>"
            ]
          },
          "metadata": {},
          "output_type": "display_data"
        }
      ],
      "source": [
        "plot_accuracy(history, \"(LSTM Imbalanced)\")"
      ]
    },
    {
      "cell_type": "code",
      "execution_count": null,
      "metadata": {
        "colab": {
          "base_uri": "https://localhost:8080/",
          "height": 583
        },
        "execution": {
          "iopub.execute_input": "2024-01-12T03:59:56.889341Z",
          "iopub.status.busy": "2024-01-12T03:59:56.888273Z",
          "iopub.status.idle": "2024-01-12T03:59:57.645653Z",
          "shell.execute_reply": "2024-01-12T03:59:57.644224Z",
          "shell.execute_reply.started": "2024-01-12T03:59:56.889304Z"
        },
        "id": "Ajw33YJ2UasV",
        "outputId": "b7761e2b-64b9-43c6-9452-7d5c22783d8b",
        "trusted": true
      },
      "outputs": [
        {
          "name": "stdout",
          "output_type": "stream",
          "text": [
            "28/28 [==============================] - 0s 3ms/step\n"
          ]
        },
        {
          "data": {
            "image/png": "[encoded data removed]",
            "text/plain": [
              "<Figure size 600x600 with 1 Axes>"
            ]
          },
          "metadata": {},
          "output_type": "display_data"
        }
      ],
      "source": [
        "y_pred = lstm_model.predict(valid_padded_sequences).argmax(axis=1)\n",
        "plot_confusion_matrix(y_pred, df_validation[\"label\"], [\"NEGATIVE\", \"POSITVE\"], \"(LSTM Imbalanced)\")"
      ]
    },
    {
      "cell_type": "code",
      "execution_count": null,
      "metadata": {
        "colab": {
          "base_uri": "https://localhost:8080/"
        },
        "execution": {
          "iopub.execute_input": "2024-01-12T04:00:04.901381Z",
          "iopub.status.busy": "2024-01-12T04:00:04.900744Z",
          "iopub.status.idle": "2024-01-12T04:00:04.916771Z",
          "shell.execute_reply": "2024-01-12T04:00:04.915864Z",
          "shell.execute_reply.started": "2024-01-12T04:00:04.901341Z"
        },
        "id": "z9L0E8tqRm5H",
        "outputId": "7a0cc0a6-0fd0-478f-867b-d7bcaebf5b40",
        "trusted": true
      },
      "outputs": [
        {
          "name": "stdout",
          "output_type": "stream",
          "text": [
            "              precision    recall  f1-score   support\n",
            "\n",
            "           0       0.83      0.87      0.85       428\n",
            "           1       0.87      0.82      0.85       444\n",
            "\n",
            "    accuracy                           0.85       872\n",
            "   macro avg       0.85      0.85      0.85       872\n",
            "weighted avg       0.85      0.85      0.85       872\n",
            "\n"
          ]
        }
      ],
      "source": [
        "print_classification_report(y_pred, df_validation[\"label\"])"
      ]
    },
    {
      "cell_type": "markdown",
      "metadata": {
        "id": "xQIsRGKeOle-"
      },
      "source": [
        "### 4.1.5 Model Testing"
      ]
    },
    {
      "cell_type": "code",
      "execution_count": null,
      "metadata": {
        "colab": {
          "base_uri": "https://localhost:8080/"
        },
        "execution": {
          "iopub.execute_input": "2024-01-12T04:00:08.441527Z",
          "iopub.status.busy": "2024-01-12T04:00:08.440693Z",
          "iopub.status.idle": "2024-01-12T04:00:08.626689Z",
          "shell.execute_reply": "2024-01-12T04:00:08.625718Z",
          "shell.execute_reply.started": "2024-01-12T04:00:08.441494Z"
        },
        "id": "ZQ7J6ESE-vIM",
        "outputId": "072e0c29-9c3d-4f47-d690-4de6ac22c339",
        "trusted": true
      },
      "outputs": [
        {
          "name": "stdout",
          "output_type": "stream",
          "text": [
            "28/28 [==============================] - 0s 4ms/step - loss: 0.4555 - accuracy: 0.8475\n",
            "Validation Loss: 0.4555 | Validation Accuracy: 84.75%\n"
          ]
        }
      ],
      "source": [
        "val_loss, val_accuracy = lstm_model.evaluate(valid_padded_sequences, df_validation['label'])\n",
        "print(f\"Validation Loss: {val_loss:.4f} | Validation Accuracy: {val_accuracy * 100:.2f}%\")"
      ]
    },
    {
      "cell_type": "code",
      "execution_count": null,
      "metadata": {
        "execution": {
          "iopub.execute_input": "2024-01-12T04:00:29.442678Z",
          "iopub.status.busy": "2024-01-12T04:00:29.441935Z",
          "iopub.status.idle": "2024-01-12T04:00:29.448268Z",
          "shell.execute_reply": "2024-01-12T04:00:29.447341Z",
          "shell.execute_reply.started": "2024-01-12T04:00:29.442647Z"
        },
        "id": "5EyBWs3x-u-r",
        "trusted": true
      },
      "outputs": [],
      "source": [
        "def predict(model, tokenizer, text):\n",
        "    \"\"\"\n",
        "    Predict sentiment label and score for a given text using a Keras `model`.\n",
        "\n",
        "    Parameters\n",
        "    ----------\n",
        "    - model : keras.Model\n",
        "        The trained Keras model for sentiment analysis.\n",
        "\n",
        "    - tokenizer : keras.preprocessing.text.Tokenizer\n",
        "        The tokenizer used for preprocessing the text.\n",
        "\n",
        "    - text : str\n",
        "        The input text for sentiment prediction.\n",
        "\n",
        "    Returns\n",
        "    -------\n",
        "    dict\n",
        "        A dictionary containing the predicted sentiment label and score.\n",
        "        Example: {\"label\": \"POSITIVE\", \"score\": 0.85}\n",
        "    \"\"\"\n",
        "\n",
        "    sequence = tokenizer.texts_to_sequences([text])\n",
        "    padded_sequence = pad_sequences(sequence, maxlen=max_sequence_length, padding='post')\n",
        "    prediction = model.predict(padded_sequence)\n",
        "\n",
        "    label = \"POSITIVE\" if prediction.argmax() else \"NEGATIVE\"\n",
        "    score = prediction[0, 1] if prediction.argmax() else prediction[0, 0]\n",
        "\n",
        "    return {\"label\": label, \"score\": score}"
      ]
    },
    {
      "cell_type": "code",
      "execution_count": null,
      "metadata": {
        "colab": {
          "base_uri": "https://localhost:8080/",
          "height": 409
        },
        "execution": {
          "iopub.execute_input": "2024-01-12T04:00:33.540197Z",
          "iopub.status.busy": "2024-01-12T04:00:33.539348Z",
          "iopub.status.idle": "2024-01-12T04:00:33.553644Z",
          "shell.execute_reply": "2024-01-12T04:00:33.552703Z",
          "shell.execute_reply.started": "2024-01-12T04:00:33.540161Z"
        },
        "id": "5qj4-S_mV05H",
        "outputId": "2eb3e06c-6635-472e-ff14-956409d58fef",
        "trusted": true
      },
      "outputs": [
        {
          "data": {
            "text/html": [
              "<div>\n",
              "<style scoped>\n",
              "    .dataframe tbody tr th:only-of-type {\n",
              "        vertical-align: middle;\n",
              "    }\n",
              "\n",
              "    .dataframe tbody tr th {\n",
              "        vertical-align: top;\n",
              "    }\n",
              "\n",
              "    .dataframe thead th {\n",
              "        text-align: right;\n",
              "    }\n",
              "</style>\n",
              "<table border=\"1\" class=\"dataframe\">\n",
              "  <thead>\n",
              "    <tr style=\"text-align: right;\">\n",
              "      <th></th>\n",
              "      <th>text</th>\n",
              "      <th>label</th>\n",
              "    </tr>\n",
              "  </thead>\n",
              "  <tbody>\n",
              "    <tr>\n",
              "      <th>0</th>\n",
              "      <td>I love you</td>\n",
              "      <td>POSITIVE</td>\n",
              "    </tr>\n",
              "    <tr>\n",
              "      <th>1</th>\n",
              "      <td>I hate you</td>\n",
              "      <td>NEGATIVE</td>\n",
              "    </tr>\n",
              "    <tr>\n",
              "      <th>2</th>\n",
              "      <td>I hate the selfishness in you</td>\n",
              "      <td>NEGATIVE</td>\n",
              "    </tr>\n",
              "    <tr>\n",
              "      <th>3</th>\n",
              "      <td>I hate anyone hurts you</td>\n",
              "      <td>POSITIVE</td>\n",
              "    </tr>\n",
              "    <tr>\n",
              "      <th>4</th>\n",
              "      <td>I hate anyone hurting you</td>\n",
              "      <td>POSITIVE</td>\n",
              "    </tr>\n",
              "    <tr>\n",
              "      <th>5</th>\n",
              "      <td>I hate anyone hurting you, you are my partner</td>\n",
              "      <td>POSITIVE</td>\n",
              "    </tr>\n",
              "    <tr>\n",
              "      <th>6</th>\n",
              "      <td>I hate anyone hurting you, you are my love</td>\n",
              "      <td>POSITIVE</td>\n",
              "    </tr>\n",
              "    <tr>\n",
              "      <th>7</th>\n",
              "      <td>I like rude people</td>\n",
              "      <td>NEGATIVE</td>\n",
              "    </tr>\n",
              "    <tr>\n",
              "      <th>8</th>\n",
              "      <td>I don't like rude people</td>\n",
              "      <td>POSITIVE</td>\n",
              "    </tr>\n",
              "    <tr>\n",
              "      <th>9</th>\n",
              "      <td>I hate polite people</td>\n",
              "      <td>NEGATIVE</td>\n",
              "    </tr>\n",
              "    <tr>\n",
              "      <th>10</th>\n",
              "      <td>I don't hate polite people</td>\n",
              "      <td>POSITIVE</td>\n",
              "    </tr>\n",
              "  </tbody>\n",
              "</table>\n",
              "</div>"
            ],
            "text/plain": [
              "                                             text     label\n",
              "0                                      I love you  POSITIVE\n",
              "1                                      I hate you  NEGATIVE\n",
              "2                   I hate the selfishness in you  NEGATIVE\n",
              "3                         I hate anyone hurts you  POSITIVE\n",
              "4                       I hate anyone hurting you  POSITIVE\n",
              "5   I hate anyone hurting you, you are my partner  POSITIVE\n",
              "6      I hate anyone hurting you, you are my love  POSITIVE\n",
              "7                              I like rude people  NEGATIVE\n",
              "8                        I don't like rude people  POSITIVE\n",
              "9                            I hate polite people  NEGATIVE\n",
              "10                     I don't hate polite people  POSITIVE"
            ]
          },
          "execution_count": 39,
          "metadata": {},
          "output_type": "execute_result"
        }
      ],
      "source": [
        "test_cases = [\n",
        "    {\"text\": \"I love you\", \"label\": \"POSITIVE\"},\n",
        "    {\"text\": \"I hate you\", \"label\": \"NEGATIVE\"},\n",
        "    {\"text\": \"I hate the selfishness in you\", \"label\": \"NEGATIVE\"},\n",
        "    {\"text\": \"I hate anyone hurts you\", \"label\": \"POSITIVE\"},\n",
        "    {\"text\": \"I hate anyone hurting you\", \"label\": \"POSITIVE\"},\n",
        "    {\"text\": \"I hate anyone hurting you, you are my partner\", \"label\": \"POSITIVE\"},\n",
        "    {\"text\": \"I hate anyone hurting you, you are my love\", \"label\": \"POSITIVE\"},\n",
        "    {\"text\": \"I like rude people\", \"label\": \"NEGATIVE\"},\n",
        "    {\"text\": \"I don't like rude people\", \"label\": \"POSITIVE\"},\n",
        "    {\"text\": \"I hate polite people\", \"label\": \"NEGATIVE\"},\n",
        "    {\"text\": \"I don't hate polite people\", \"label\": \"POSITIVE\"},\n",
        "]\n",
        "\n",
        "test_cases_df = pd.DataFrame(test_cases)\n",
        "test_cases_df"
      ]
    },
    {
      "cell_type": "code",
      "execution_count": null,
      "metadata": {
        "colab": {
          "base_uri": "https://localhost:8080/",
          "height": 622
        },
        "execution": {
          "iopub.execute_input": "2024-01-12T04:00:39.389940Z",
          "iopub.status.busy": "2024-01-12T04:00:39.389296Z",
          "iopub.status.idle": "2024-01-12T04:00:40.038363Z",
          "shell.execute_reply": "2024-01-12T04:00:40.037492Z",
          "shell.execute_reply.started": "2024-01-12T04:00:39.389903Z"
        },
        "id": "jKBZZ2qX-u1M",
        "outputId": "cc7b5e13-95be-480a-8bda-b01ed7626a07",
        "trusted": true
      },
      "outputs": [
        {
          "name": "stdout",
          "output_type": "stream",
          "text": [
            "1/1 [==============================] - 0s 32ms/step\n",
            "1/1 [==============================] - 0s 19ms/step\n",
            "1/1 [==============================] - 0s 19ms/step\n",
            "1/1 [==============================] - 0s 19ms/step\n",
            "1/1 [==============================] - 0s 18ms/step\n",
            "1/1 [==============================] - 0s 19ms/step\n",
            "1/1 [==============================] - 0s 21ms/step\n",
            "1/1 [==============================] - 0s 18ms/step\n",
            "1/1 [==============================] - 0s 20ms/step\n",
            "1/1 [==============================] - 0s 21ms/step\n",
            "1/1 [==============================] - 0s 21ms/step\n"
          ]
        },
        {
          "data": {
            "text/html": [
              "<div>\n",
              "<style scoped>\n",
              "    .dataframe tbody tr th:only-of-type {\n",
              "        vertical-align: middle;\n",
              "    }\n",
              "\n",
              "    .dataframe tbody tr th {\n",
              "        vertical-align: top;\n",
              "    }\n",
              "\n",
              "    .dataframe thead th {\n",
              "        text-align: right;\n",
              "    }\n",
              "</style>\n",
              "<table border=\"1\" class=\"dataframe\">\n",
              "  <thead>\n",
              "    <tr style=\"text-align: right;\">\n",
              "      <th></th>\n",
              "      <th>text</th>\n",
              "      <th>label</th>\n",
              "      <th>lstm_predicted_label</th>\n",
              "      <th>lstm_predicted_score</th>\n",
              "    </tr>\n",
              "  </thead>\n",
              "  <tbody>\n",
              "    <tr>\n",
              "      <th>0</th>\n",
              "      <td>I love you</td>\n",
              "      <td>POSITIVE</td>\n",
              "      <td>POSITIVE</td>\n",
              "      <td>0.997406</td>\n",
              "    </tr>\n",
              "    <tr>\n",
              "      <th>1</th>\n",
              "      <td>I hate you</td>\n",
              "      <td>NEGATIVE</td>\n",
              "      <td>NEGATIVE</td>\n",
              "      <td>0.988617</td>\n",
              "    </tr>\n",
              "    <tr>\n",
              "      <th>2</th>\n",
              "      <td>I hate the selfishness in you</td>\n",
              "      <td>NEGATIVE</td>\n",
              "      <td>NEGATIVE</td>\n",
              "      <td>0.988964</td>\n",
              "    </tr>\n",
              "    <tr>\n",
              "      <th>3</th>\n",
              "      <td>I hate anyone hurts you</td>\n",
              "      <td>POSITIVE</td>\n",
              "      <td>NEGATIVE</td>\n",
              "      <td>0.994716</td>\n",
              "    </tr>\n",
              "    <tr>\n",
              "      <th>4</th>\n",
              "      <td>I hate anyone hurting you</td>\n",
              "      <td>POSITIVE</td>\n",
              "      <td>NEGATIVE</td>\n",
              "      <td>0.995313</td>\n",
              "    </tr>\n",
              "    <tr>\n",
              "      <th>5</th>\n",
              "      <td>I hate anyone hurting you, you are my partner</td>\n",
              "      <td>POSITIVE</td>\n",
              "      <td>NEGATIVE</td>\n",
              "      <td>0.988686</td>\n",
              "    </tr>\n",
              "    <tr>\n",
              "      <th>6</th>\n",
              "      <td>I hate anyone hurting you, you are my love</td>\n",
              "      <td>POSITIVE</td>\n",
              "      <td>NEGATIVE</td>\n",
              "      <td>0.646798</td>\n",
              "    </tr>\n",
              "    <tr>\n",
              "      <th>7</th>\n",
              "      <td>I like rude people</td>\n",
              "      <td>NEGATIVE</td>\n",
              "      <td>NEGATIVE</td>\n",
              "      <td>0.980396</td>\n",
              "    </tr>\n",
              "    <tr>\n",
              "      <th>8</th>\n",
              "      <td>I don't like rude people</td>\n",
              "      <td>POSITIVE</td>\n",
              "      <td>NEGATIVE</td>\n",
              "      <td>0.980396</td>\n",
              "    </tr>\n",
              "    <tr>\n",
              "      <th>9</th>\n",
              "      <td>I hate polite people</td>\n",
              "      <td>NEGATIVE</td>\n",
              "      <td>NEGATIVE</td>\n",
              "      <td>0.987814</td>\n",
              "    </tr>\n",
              "    <tr>\n",
              "      <th>10</th>\n",
              "      <td>I don't hate polite people</td>\n",
              "      <td>POSITIVE</td>\n",
              "      <td>NEGATIVE</td>\n",
              "      <td>0.987814</td>\n",
              "    </tr>\n",
              "  </tbody>\n",
              "</table>\n",
              "</div>"
            ],
            "text/plain": [
              "                                             text     label  \\\n",
              "0                                      I love you  POSITIVE   \n",
              "1                                      I hate you  NEGATIVE   \n",
              "2                   I hate the selfishness in you  NEGATIVE   \n",
              "3                         I hate anyone hurts you  POSITIVE   \n",
              "4                       I hate anyone hurting you  POSITIVE   \n",
              "5   I hate anyone hurting you, you are my partner  POSITIVE   \n",
              "6      I hate anyone hurting you, you are my love  POSITIVE   \n",
              "7                              I like rude people  NEGATIVE   \n",
              "8                        I don't like rude people  POSITIVE   \n",
              "9                            I hate polite people  NEGATIVE   \n",
              "10                     I don't hate polite people  POSITIVE   \n",
              "\n",
              "   lstm_predicted_label  lstm_predicted_score  \n",
              "0              POSITIVE              0.997406  \n",
              "1              NEGATIVE              0.988617  \n",
              "2              NEGATIVE              0.988964  \n",
              "3              NEGATIVE              0.994716  \n",
              "4              NEGATIVE              0.995313  \n",
              "5              NEGATIVE              0.988686  \n",
              "6              NEGATIVE              0.646798  \n",
              "7              NEGATIVE              0.980396  \n",
              "8              NEGATIVE              0.980396  \n",
              "9              NEGATIVE              0.987814  \n",
              "10             NEGATIVE              0.987814  "
            ]
          },
          "execution_count": 40,
          "metadata": {},
          "output_type": "execute_result"
        }
      ],
      "source": [
        "predicted_labels = []\n",
        "predicted_scores = []\n",
        "\n",
        "for row in test_cases_df.values:\n",
        "    prediction = predict(lstm_model, tokenizer, row[0])\n",
        "    predicted_labels.append(prediction[\"label\"])\n",
        "    predicted_scores.append(prediction[\"score\"])\n",
        "\n",
        "test_cases_df[\"lstm_predicted_label\"] = predicted_labels\n",
        "test_cases_df[\"lstm_predicted_score\"] = predicted_scores\n",
        "test_cases_df"
      ]
    },
    {
      "cell_type": "markdown",
      "metadata": {
        "id": "xntC8m66N51z"
      },
      "source": [
        "### 4.1.6 Conclusion\n",
        "The provided analysis reveals the model's strong performance on straightforward sentences such as **\"I love you\"** and **\"I hate the selfishness in you\"** However, its effectiveness diminishes in other test cases, primarily due to the constraints of **fixed embeddings**. In this scenario, each token's influence remains **isolated from others**, impacting the model's overall understanding.\n",
        "\n",
        "**A notable observation** pertains to the sentence **\"I hate anyone hurting you, you are my love\"** Despite an incorrect label, the model exhibits a **relatively lower confidence score**. This suggests the model's attempt to refine its comprehension by incorporating supplementary elements, such as **\"you are my love\"** in an effort to gain a more nuanced understanding of the sentence."
      ]
    },
    {
      "cell_type": "markdown",
      "metadata": {
        "id": "yetDKlxbOO-x"
      },
      "source": [
        "## 4.2 Fixed-Embeddings LSTM Model (Balanced)"
      ]
    },
    {
      "cell_type": "markdown",
      "metadata": {
        "id": "ZRCbf47rOU6S"
      },
      "source": [
        "### 4.2.1 Balancing the Dataset\n",
        "To enhance **simplicity** and **coherence**, I opted for downsampling the majority class (`positive`). This choice was made as traditional oversampling techniques in Natural Language Processing (NLP) typically involve employing advanced data augmentation methods, which can introduce complexity beyond the scope of the current context."
      ]
    },
    {
      "cell_type": "code",
      "execution_count": null,
      "metadata": {
        "colab": {
          "base_uri": "https://localhost:8080/"
        },
        "execution": {
          "iopub.execute_input": "2024-01-12T04:01:13.464036Z",
          "iopub.status.busy": "2024-01-12T04:01:13.463671Z",
          "iopub.status.idle": "2024-01-12T04:01:13.889115Z",
          "shell.execute_reply": "2024-01-12T04:01:13.888174Z",
          "shell.execute_reply.started": "2024-01-12T04:01:13.464008Z"
        },
        "id": "l52WSbbfRynf",
        "outputId": "0c9a4474-e6c3-4e1f-c456-cf39c2feb8c5",
        "trusted": true
      },
      "outputs": [
        {
          "name": "stdout",
          "output_type": "stream",
          "text": [
            "Original label counts:\n",
            "Counter({1: 37569, 0: 29780})\n",
            "\n",
            "Oversampled label counts:\n",
            "Counter({0: 29780, 1: 29780})\n",
            "\n"
          ]
        }
      ],
      "source": [
        "from imblearn.under_sampling import RandomUnderSampler\n",
        "\n",
        "X = train_padded_sequences\n",
        "y = df_train[\"label\"]\n",
        "print(f\"Original label counts:\\n{Counter(y)}\\n\")\n",
        "\n",
        "rus = RandomUnderSampler(random_state=42)\n",
        "X_res, y_res = rus.fit_resample(X, y)\n",
        "\n",
        "print(f\"Oversampled label counts:\\n{Counter(y_res)}\\n\")"
      ]
    },
    {
      "cell_type": "markdown",
      "metadata": {
        "id": "KYJo1-KTA5ds"
      },
      "source": [
        "### 4.2.2 Training the Model with Optimal Hyperparameters"
      ]
    },
    {
      "cell_type": "code",
      "execution_count": null,
      "metadata": {
        "colab": {
          "base_uri": "https://localhost:8080/"
        },
        "execution": {
          "iopub.execute_input": "2024-01-12T04:01:25.257439Z",
          "iopub.status.busy": "2024-01-12T04:01:25.256221Z",
          "iopub.status.idle": "2024-01-12T04:03:49.210074Z",
          "shell.execute_reply": "2024-01-12T04:03:49.208992Z",
          "shell.execute_reply.started": "2024-01-12T04:01:25.257399Z"
        },
        "id": "EF66a13YRyQW",
        "outputId": "91689fc8-d82a-4458-f834-02a79b127c11",
        "trusted": true
      },
      "outputs": [
        {
          "name": "stdout",
          "output_type": "stream",
          "text": [
            "Epoch 1/5\n",
            "1862/1862 [==============================] - 37s 19ms/step - loss: 0.6937 - accuracy: 0.4952 - val_loss: 0.6940 - val_accuracy: 0.4908\n",
            "Epoch 2/5\n",
            "1862/1862 [==============================] - 15s 8ms/step - loss: 0.6633 - accuracy: 0.5516 - val_loss: 0.5265 - val_accuracy: 0.7603\n",
            "Epoch 3/5\n",
            "1862/1862 [==============================] - 15s 8ms/step - loss: 0.2739 - accuracy: 0.8934 - val_loss: 0.4111 - val_accuracy: 0.8165\n",
            "Epoch 4/5\n",
            "1862/1862 [==============================] - 14s 8ms/step - loss: 0.1438 - accuracy: 0.9475 - val_loss: 0.4527 - val_accuracy: 0.8177\n",
            "Epoch 5/5\n",
            "1862/1862 [==============================] - 14s 7ms/step - loss: 0.0957 - accuracy: 0.9644 - val_loss: 0.4484 - val_accuracy: 0.8268\n"
          ]
        }
      ],
      "source": [
        "model_balanced_ds = create_lstm_model(optimal_embedding_dim, optimal_hidden_dim)\n",
        "history = model_balanced_ds.fit(X_res, y_res, epochs=num_epochs,\n",
        "                    batch_size=batch_size, validation_data=(valid_padded_sequences, df_validation[\"label\"]))"
      ]
    },
    {
      "cell_type": "markdown",
      "metadata": {
        "id": "PLHBC4p0A5dt"
      },
      "source": [
        "### 4.2.3 Model Results"
      ]
    },
    {
      "cell_type": "code",
      "execution_count": null,
      "metadata": {
        "execution": {
          "iopub.execute_input": "2024-01-12T04:03:53.684044Z",
          "iopub.status.busy": "2024-01-12T04:03:53.683591Z",
          "iopub.status.idle": "2024-01-12T04:03:53.982491Z",
          "shell.execute_reply": "2024-01-12T04:03:53.981486Z",
          "shell.execute_reply.started": "2024-01-12T04:03:53.684007Z"
        },
        "id": "CMZgcDxd-uS2",
        "outputId": "d9b63865-e0e4-466e-8659-ce8a1fb30d4c",
        "trusted": true
      },
      "outputs": [
        {
          "data": {
            "image/png": "[encoded data removed]",
            "text/plain": [
              "<Figure size 640x480 with 1 Axes>"
            ]
          },
          "metadata": {},
          "output_type": "display_data"
        }
      ],
      "source": [
        "plot_loss(history, \"(LSTM Balanced)\")"
      ]
    },
    {
      "cell_type": "code",
      "execution_count": null,
      "metadata": {
        "execution": {
          "iopub.execute_input": "2024-01-12T04:03:56.493181Z",
          "iopub.status.busy": "2024-01-12T04:03:56.492830Z",
          "iopub.status.idle": "2024-01-12T04:03:56.808544Z",
          "shell.execute_reply": "2024-01-12T04:03:56.807623Z",
          "shell.execute_reply.started": "2024-01-12T04:03:56.493154Z"
        },
        "id": "ieBfuQHaYlT2",
        "outputId": "e7d4b669-e604-4790-f642-6c360f0895e2",
        "trusted": true
      },
      "outputs": [
        {
          "data": {
            "image/png": "[encoded data removed]",
            "text/plain": [
              "<Figure size 640x480 with 1 Axes>"
            ]
          },
          "metadata": {},
          "output_type": "display_data"
        }
      ],
      "source": [
        "plot_accuracy(history, \"(LSTM Balanced)\")"
      ]
    },
    {
      "cell_type": "code",
      "execution_count": null,
      "metadata": {
        "execution": {
          "iopub.execute_input": "2024-01-12T04:04:05.343058Z",
          "iopub.status.busy": "2024-01-12T04:04:05.342292Z",
          "iopub.status.idle": "2024-01-12T04:04:06.005197Z",
          "shell.execute_reply": "2024-01-12T04:04:06.003811Z",
          "shell.execute_reply.started": "2024-01-12T04:04:05.343024Z"
        },
        "id": "QiRXhaCgA5dt",
        "outputId": "efa6bf50-19b6-49ed-8873-85b628a50b71",
        "trusted": true
      },
      "outputs": [
        {
          "name": "stdout",
          "output_type": "stream",
          "text": [
            "28/28 [==============================] - 0s 3ms/step\n"
          ]
        },
        {
          "data": {
            "image/png": "[encoded data removed]",
            "text/plain": [
              "<Figure size 600x600 with 1 Axes>"
            ]
          },
          "metadata": {},
          "output_type": "display_data"
        }
      ],
      "source": [
        "y_pred = model_balanced_ds.predict(valid_padded_sequences).argmax(axis=1)\n",
        "plot_confusion_matrix(y_pred, df_validation[\"label\"], [\"NEGATIVE\", \"POSITVE\"], \"(LSTM Balanced)\")"
      ]
    },
    {
      "cell_type": "code",
      "execution_count": null,
      "metadata": {
        "execution": {
          "iopub.execute_input": "2024-01-12T04:04:13.241947Z",
          "iopub.status.busy": "2024-01-12T04:04:13.241522Z",
          "iopub.status.idle": "2024-01-12T04:04:13.262319Z",
          "shell.execute_reply": "2024-01-12T04:04:13.261314Z",
          "shell.execute_reply.started": "2024-01-12T04:04:13.241913Z"
        },
        "id": "b88nQ7guA5du",
        "outputId": "6801a3f6-1779-4e93-e371-1ce7693e4d7d",
        "trusted": true
      },
      "outputs": [
        {
          "name": "stdout",
          "output_type": "stream",
          "text": [
            "              precision    recall  f1-score   support\n",
            "\n",
            "           0       0.85      0.79      0.82       428\n",
            "           1       0.81      0.86      0.83       444\n",
            "\n",
            "    accuracy                           0.83       872\n",
            "   macro avg       0.83      0.83      0.83       872\n",
            "weighted avg       0.83      0.83      0.83       872\n",
            "\n"
          ]
        }
      ],
      "source": [
        "print_classification_report(y_pred, df_validation[\"label\"])"
      ]
    },
    {
      "cell_type": "markdown",
      "metadata": {
        "id": "k9nJp59YA5du"
      },
      "source": [
        "### 4.2.4 Model Testing"
      ]
    },
    {
      "cell_type": "code",
      "execution_count": null,
      "metadata": {
        "execution": {
          "iopub.execute_input": "2024-01-12T04:04:17.354284Z",
          "iopub.status.busy": "2024-01-12T04:04:17.353279Z",
          "iopub.status.idle": "2024-01-12T04:04:17.538779Z",
          "shell.execute_reply": "2024-01-12T04:04:17.537907Z",
          "shell.execute_reply.started": "2024-01-12T04:04:17.354249Z"
        },
        "id": "9Imdjf5uA5du",
        "outputId": "10b7c942-4bd5-45a7-a038-6c5a66e85158",
        "trusted": true
      },
      "outputs": [
        {
          "name": "stdout",
          "output_type": "stream",
          "text": [
            "28/28 [==============================] - 0s 4ms/step - loss: 0.4484 - accuracy: 0.8268\n",
            "Validation Loss: 0.4484 | Validation Accuracy: 82.68%\n"
          ]
        }
      ],
      "source": [
        "val_loss, val_accuracy = model_balanced_ds.evaluate(valid_padded_sequences, df_validation['label'])\n",
        "print(f\"Validation Loss: {val_loss:.4f} | Validation Accuracy: {val_accuracy * 100:.2f}%\")"
      ]
    },
    {
      "cell_type": "code",
      "execution_count": null,
      "metadata": {
        "execution": {
          "iopub.execute_input": "2024-01-12T04:04:32.423857Z",
          "iopub.status.busy": "2024-01-12T04:04:32.423126Z",
          "iopub.status.idle": "2024-01-12T04:04:33.037325Z",
          "shell.execute_reply": "2024-01-12T04:04:33.036434Z",
          "shell.execute_reply.started": "2024-01-12T04:04:32.423824Z"
        },
        "id": "LcahiL9GA5du",
        "outputId": "edc5e308-c461-4767-b4d7-353a801d170a",
        "trusted": true
      },
      "outputs": [
        {
          "name": "stdout",
          "output_type": "stream",
          "text": [
            "1/1 [==============================] - 0s 21ms/step\n",
            "1/1 [==============================] - 0s 19ms/step\n",
            "1/1 [==============================] - 0s 19ms/step\n",
            "1/1 [==============================] - 0s 19ms/step\n",
            "1/1 [==============================] - 0s 19ms/step\n",
            "1/1 [==============================] - 0s 18ms/step\n",
            "1/1 [==============================] - 0s 19ms/step\n",
            "1/1 [==============================] - 0s 18ms/step\n",
            "1/1 [==============================] - 0s 19ms/step\n",
            "1/1 [==============================] - 0s 18ms/step\n",
            "1/1 [==============================] - 0s 19ms/step\n"
          ]
        },
        {
          "data": {
            "text/html": [
              "<div>\n",
              "<style scoped>\n",
              "    .dataframe tbody tr th:only-of-type {\n",
              "        vertical-align: middle;\n",
              "    }\n",
              "\n",
              "    .dataframe tbody tr th {\n",
              "        vertical-align: top;\n",
              "    }\n",
              "\n",
              "    .dataframe thead th {\n",
              "        text-align: right;\n",
              "    }\n",
              "</style>\n",
              "<table border=\"1\" class=\"dataframe\">\n",
              "  <thead>\n",
              "    <tr style=\"text-align: right;\">\n",
              "      <th></th>\n",
              "      <th>text</th>\n",
              "      <th>label</th>\n",
              "      <th>lstm_predicted_label</th>\n",
              "      <th>lstm_predicted_score</th>\n",
              "      <th>predicted_label_balanced</th>\n",
              "      <th>predicted_score_balanced</th>\n",
              "    </tr>\n",
              "  </thead>\n",
              "  <tbody>\n",
              "    <tr>\n",
              "      <th>0</th>\n",
              "      <td>I love you</td>\n",
              "      <td>POSITIVE</td>\n",
              "      <td>POSITIVE</td>\n",
              "      <td>0.997406</td>\n",
              "      <td>POSITIVE</td>\n",
              "      <td>0.993450</td>\n",
              "    </tr>\n",
              "    <tr>\n",
              "      <th>1</th>\n",
              "      <td>I hate you</td>\n",
              "      <td>NEGATIVE</td>\n",
              "      <td>NEGATIVE</td>\n",
              "      <td>0.988617</td>\n",
              "      <td>NEGATIVE</td>\n",
              "      <td>0.931653</td>\n",
              "    </tr>\n",
              "    <tr>\n",
              "      <th>2</th>\n",
              "      <td>I hate the selfishness in you</td>\n",
              "      <td>NEGATIVE</td>\n",
              "      <td>NEGATIVE</td>\n",
              "      <td>0.988964</td>\n",
              "      <td>NEGATIVE</td>\n",
              "      <td>0.959181</td>\n",
              "    </tr>\n",
              "    <tr>\n",
              "      <th>3</th>\n",
              "      <td>I hate anyone hurts you</td>\n",
              "      <td>POSITIVE</td>\n",
              "      <td>NEGATIVE</td>\n",
              "      <td>0.994716</td>\n",
              "      <td>NEGATIVE</td>\n",
              "      <td>0.998690</td>\n",
              "    </tr>\n",
              "    <tr>\n",
              "      <th>4</th>\n",
              "      <td>I hate anyone hurting you</td>\n",
              "      <td>POSITIVE</td>\n",
              "      <td>NEGATIVE</td>\n",
              "      <td>0.995313</td>\n",
              "      <td>NEGATIVE</td>\n",
              "      <td>0.989341</td>\n",
              "    </tr>\n",
              "    <tr>\n",
              "      <th>5</th>\n",
              "      <td>I hate anyone hurting you, you are my partner</td>\n",
              "      <td>POSITIVE</td>\n",
              "      <td>NEGATIVE</td>\n",
              "      <td>0.988686</td>\n",
              "      <td>NEGATIVE</td>\n",
              "      <td>0.870283</td>\n",
              "    </tr>\n",
              "    <tr>\n",
              "      <th>6</th>\n",
              "      <td>I hate anyone hurting you, you are my love</td>\n",
              "      <td>POSITIVE</td>\n",
              "      <td>NEGATIVE</td>\n",
              "      <td>0.646798</td>\n",
              "      <td>NEGATIVE</td>\n",
              "      <td>0.905727</td>\n",
              "    </tr>\n",
              "    <tr>\n",
              "      <th>7</th>\n",
              "      <td>I like rude people</td>\n",
              "      <td>NEGATIVE</td>\n",
              "      <td>NEGATIVE</td>\n",
              "      <td>0.980396</td>\n",
              "      <td>NEGATIVE</td>\n",
              "      <td>0.988417</td>\n",
              "    </tr>\n",
              "    <tr>\n",
              "      <th>8</th>\n",
              "      <td>I don't like rude people</td>\n",
              "      <td>POSITIVE</td>\n",
              "      <td>NEGATIVE</td>\n",
              "      <td>0.980396</td>\n",
              "      <td>NEGATIVE</td>\n",
              "      <td>0.988417</td>\n",
              "    </tr>\n",
              "    <tr>\n",
              "      <th>9</th>\n",
              "      <td>I hate polite people</td>\n",
              "      <td>NEGATIVE</td>\n",
              "      <td>NEGATIVE</td>\n",
              "      <td>0.987814</td>\n",
              "      <td>NEGATIVE</td>\n",
              "      <td>0.994646</td>\n",
              "    </tr>\n",
              "    <tr>\n",
              "      <th>10</th>\n",
              "      <td>I don't hate polite people</td>\n",
              "      <td>POSITIVE</td>\n",
              "      <td>NEGATIVE</td>\n",
              "      <td>0.987814</td>\n",
              "      <td>NEGATIVE</td>\n",
              "      <td>0.994646</td>\n",
              "    </tr>\n",
              "  </tbody>\n",
              "</table>\n",
              "</div>"
            ],
            "text/plain": [
              "                                             text     label  \\\n",
              "0                                      I love you  POSITIVE   \n",
              "1                                      I hate you  NEGATIVE   \n",
              "2                   I hate the selfishness in you  NEGATIVE   \n",
              "3                         I hate anyone hurts you  POSITIVE   \n",
              "4                       I hate anyone hurting you  POSITIVE   \n",
              "5   I hate anyone hurting you, you are my partner  POSITIVE   \n",
              "6      I hate anyone hurting you, you are my love  POSITIVE   \n",
              "7                              I like rude people  NEGATIVE   \n",
              "8                        I don't like rude people  POSITIVE   \n",
              "9                            I hate polite people  NEGATIVE   \n",
              "10                     I don't hate polite people  POSITIVE   \n",
              "\n",
              "   lstm_predicted_label  lstm_predicted_score predicted_label_balanced  \\\n",
              "0              POSITIVE              0.997406                 POSITIVE   \n",
              "1              NEGATIVE              0.988617                 NEGATIVE   \n",
              "2              NEGATIVE              0.988964                 NEGATIVE   \n",
              "3              NEGATIVE              0.994716                 NEGATIVE   \n",
              "4              NEGATIVE              0.995313                 NEGATIVE   \n",
              "5              NEGATIVE              0.988686                 NEGATIVE   \n",
              "6              NEGATIVE              0.646798                 NEGATIVE   \n",
              "7              NEGATIVE              0.980396                 NEGATIVE   \n",
              "8              NEGATIVE              0.980396                 NEGATIVE   \n",
              "9              NEGATIVE              0.987814                 NEGATIVE   \n",
              "10             NEGATIVE              0.987814                 NEGATIVE   \n",
              "\n",
              "    predicted_score_balanced  \n",
              "0                   0.993450  \n",
              "1                   0.931653  \n",
              "2                   0.959181  \n",
              "3                   0.998690  \n",
              "4                   0.989341  \n",
              "5                   0.870283  \n",
              "6                   0.905727  \n",
              "7                   0.988417  \n",
              "8                   0.988417  \n",
              "9                   0.994646  \n",
              "10                  0.994646  "
            ]
          },
          "execution_count": 50,
          "metadata": {},
          "output_type": "execute_result"
        }
      ],
      "source": [
        "predicted_labels = []\n",
        "predicted_scores = []\n",
        "\n",
        "for row in test_cases_df.values:\n",
        "    prediction = predict(model_balanced_ds, tokenizer, row[0])\n",
        "    predicted_labels.append(prediction[\"label\"])\n",
        "    predicted_scores.append(prediction[\"score\"])\n",
        "\n",
        "test_cases_df[\"predicted_label_balanced\"] = predicted_labels\n",
        "test_cases_df[\"predicted_score_balanced\"] = predicted_scores\n",
        "test_cases_df"
      ]
    },
    {
      "cell_type": "markdown",
      "metadata": {
        "id": "XS_h6T9oA5du"
      },
      "source": [
        "### 4.2.5 Conclusion\n",
        "Surprisengly, there is no improvement in performance; in fact, it tends to degrade compared to the imbalanced dataset. This degradation arises from **the removal of data points from the majority class**, potentially leading the model to exhibit a stronger bias towards that class and consequently achieving a higher accuracy. Notably, the sentence **\"I hate anyone hurting you, you are my love\"** exemplifies this concern: in the imbalanced model, it yielded a confidence score of 0.64, but under downsampling, this score significantly surged to around **0.90**. This unsettling shift underscores the magnitude of the issue resulting from the data removal incurred during the undersampling process.\n",
        "\n",
        "So, we can see that using fixed embeddings is good for relatively simple sentences, but it's **not perfect** and doesn't solve our problem at all. Is there a better way? Thankfully, **transformers with self-attention** can help. They improve fixed embeddings by **capturing information from the entire sentence**, allowing the model to **better understand the overall context**."
      ]
    },
    {
      "cell_type": "markdown",
      "metadata": {
        "id": "TwFcPg3BBV23"
      },
      "source": [
        "## 4.3 Contextual-Embeddings `DistilBERT` Model"
      ]
    },
    {
      "cell_type": "code",
      "execution_count": null,
      "metadata": {
        "execution": {
          "iopub.execute_input": "2024-01-12T04:04:59.742706Z",
          "iopub.status.busy": "2024-01-12T04:04:59.742336Z",
          "iopub.status.idle": "2024-01-12T04:04:59.748183Z",
          "shell.execute_reply": "2024-01-12T04:04:59.747236Z",
          "shell.execute_reply.started": "2024-01-12T04:04:59.742677Z"
        },
        "id": "DmCQDZ8xA5dv",
        "trusted": true
      },
      "outputs": [],
      "source": [
        "# we need to reset format of the dataset as we change it to pandas above\n",
        "dataset.reset_format()"
      ]
    },
    {
      "cell_type": "code",
      "execution_count": null,
      "metadata": {
        "execution": {
          "iopub.execute_input": "2024-01-12T04:05:00.591549Z",
          "iopub.status.busy": "2024-01-12T04:05:00.590749Z",
          "iopub.status.idle": "2024-01-12T04:05:00.597414Z",
          "shell.execute_reply": "2024-01-12T04:05:00.596487Z",
          "shell.execute_reply.started": "2024-01-12T04:05:00.591515Z"
        },
        "id": "pk9Bk5pKA5dv",
        "outputId": "68820953-f34e-4ad5-fb8f-98621741d6ab",
        "trusted": true
      },
      "outputs": [
        {
          "data": {
            "text/plain": [
              "DatasetDict({\n",
              "    train: Dataset({\n",
              "        features: ['idx', 'sentence', 'label', 'label_str'],\n",
              "        num_rows: 67349\n",
              "    })\n",
              "    validation: Dataset({\n",
              "        features: ['idx', 'sentence', 'label', 'label_str'],\n",
              "        num_rows: 872\n",
              "    })\n",
              "    test: Dataset({\n",
              "        features: ['idx', 'sentence', 'label'],\n",
              "        num_rows: 1821\n",
              "    })\n",
              "})"
            ]
          },
          "execution_count": 52,
          "metadata": {},
          "output_type": "execute_result"
        }
      ],
      "source": [
        "print(dataset)"
      ]
    },
    {
      "cell_type": "markdown",
      "metadata": {
        "id": "SXNwmuWqBlPm"
      },
      "source": [
        "### 4.3.1 Loading `DistilBERT` Tokenizer and Model\n",
        "The decision of choosing `DistilBERT` over traditional `BERT` instances from the task's inherent simplicity, aiming for enhanced efficiency. This choice is rooted in the fact that `DistilBERT` offers a **40%** reduction in **memory requirements** (**67** million parameters) compared to the standard BERT base (**110** million parameters), all while maintaining a relatively high level of performance. This strategic selection aligns with the task's straightforward nature, capitalizing on the efficiency gains achieved by leveraging a more lightweight yet effective model in the form of `DistilBERT`."
      ]
    },
    {
      "cell_type": "code",
      "execution_count": null,
      "metadata": {
        "colab": {
          "base_uri": "https://localhost:8080/",
          "height": 108,
          "referenced_widgets": [
            "f4690f85cf3649c08db7a717f396737e",
            "ba3bc3d4895a423784eab949715bd2cb",
            "38b3e7dac3c44188a9a38221973f4819",
            "0fce28a21d7b41b399230b7c77f3b614",
            "3c8d3cea74b74800a35589fb9f4401ab",
            "a33b24741dfe4e9d8980a0c219d87b3a",
            "48d51a8fa7af4f6d96285af6ed63bd13",
            "9db60da23f8442318429f0bcf7b1ff72",
            "b962e58213df4337be1979f1852b4b3b",
            "07e7ac625bc64c8fb32cb1db574c83a8",
            "a7fc04d53e844e82b37bbef52f0fdef1"
          ]
        },
        "execution": {
          "iopub.execute_input": "2024-01-12T04:08:06.952628Z",
          "iopub.status.busy": "2024-01-12T04:08:06.952021Z",
          "iopub.status.idle": "2024-01-12T04:08:08.265155Z",
          "shell.execute_reply": "2024-01-12T04:08:08.264375Z",
          "shell.execute_reply.started": "2024-01-12T04:08:06.952591Z"
        },
        "id": "OJDTrw0lG6QT",
        "outputId": "70cc1e3c-6c3d-4227-b702-06e09dec9534",
        "trusted": true
      },
      "outputs": [
        {
          "name": "stderr",
          "output_type": "stream",
          "text": [
            "Some weights of the PyTorch model were not used when initializing the TF 2.0 model TFDistilBertForSequenceClassification: ['vocab_transform.bias', 'vocab_transform.weight', 'vocab_projector.bias', 'vocab_layer_norm.bias', 'vocab_layer_norm.weight']\n",
            "- This IS expected if you are initializing TFDistilBertForSequenceClassification from a PyTorch model trained on another task or with another architecture (e.g. initializing a TFBertForSequenceClassification model from a BertForPreTraining model).\n",
            "- This IS NOT expected if you are initializing TFDistilBertForSequenceClassification from a PyTorch model that you expect to be exactly identical (e.g. initializing a TFBertForSequenceClassification model from a BertForSequenceClassification model).\n",
            "Some weights or buffers of the TF 2.0 model TFDistilBertForSequenceClassification were not initialized from the PyTorch model and are newly initialized: ['pre_classifier.weight', 'pre_classifier.bias', 'classifier.weight', 'classifier.bias']\n",
            "You should probably TRAIN this model on a down-stream task to be able to use it for predictions and inference.\n"
          ]
        }
      ],
      "source": [
        "model_ckpt = \"distilbert-base-cased\"\n",
        "distilbert_tokenizer = AutoTokenizer.from_pretrained(model_ckpt)\n",
        "distilbert_model = TFAutoModelForSequenceClassification.from_pretrained(model_ckpt, num_labels=labels.num_classes)"
      ]
    },
    {
      "cell_type": "markdown",
      "metadata": {
        "id": "vGDBCEQwC9_Z"
      },
      "source": [
        "### 4.3.2 Dataset Tokenizing"
      ]
    },
    {
      "cell_type": "code",
      "execution_count": null,
      "metadata": {
        "colab": {
          "base_uri": "https://localhost:8080/",
          "height": 113,
          "referenced_widgets": [
            "f4847c3198b3408b9e66188c3bc839c4",
            "2399fa7afc3146759469a55a22addfa0",
            "6e6b76ab688c447c8606f9c507d04e1d",
            "b09e87425d9b4f4385f348f477452c00",
            "eea6bd1fd26e40c894d6a03cd7fec757",
            "34b5aa5861c641e19f9cceb4d3448631",
            "bc12581a494146f4bdcf922b083abaa0",
            "b0acb112ce894e05a901a9fdbfafc11b",
            "0826d6a71d18461cb0c472ca8cbcee51",
            "636647836da748de908f8fa94eb44ca0",
            "7bcc782b2bfe4fe9a6d5d61be42b4fdd",
            "757be8206a7c4bfe80eb7363c25fd932",
            "dd59a8e6ed49440580de0f92402fd991",
            "96778ef60ace4bbf9dec7026582c9d8d",
            "3cfc949b1df24c20bf4b14f8c191495d",
            "d0b3046c1d4b4c8ebaca215c79b7ed8d",
            "703d663f2c1046b79f598cdac38595fe",
            "1438e3580deb4c96b005f0ac1f619aca",
            "0c4c42a8df5b481b9216ec457a24a940",
            "d2528453d12b4fa6bd003a40b20b148b",
            "556c9af961d343298ae6f48eefd05ef2",
            "a4318b6e8e2b4b0a947b87a7d4a09e74",
            "5629fb4ac1db44bf91b1a1036597e83e",
            "52108521f70e4cc2901af820a54d34c6",
            "56d9c01f89684d40a351a0f6935d47f3",
            "56e0bcb09bb4477c90c0a4b86d15ac1b",
            "2dda0a14e7cb4b6e9188c80f6e28d9fb",
            "4dd26491409b424faf8984aeac3bb685",
            "6a164afd650542beb6531a976fdd3e3b",
            "787ceb7b69e64266b2d10f926a7bcf4f",
            "818b6f2fe9fa45b7b45ae5fed7ac058e",
            "b4f9ed54534945789ae37d6c6569a660",
            "dc6fedb1f22c40ed9e468595e9fcb554",
            ""
          ]
        },
        "execution": {
          "iopub.execute_input": "2024-01-12T04:08:55.150537Z",
          "iopub.status.busy": "2024-01-12T04:08:55.150123Z",
          "iopub.status.idle": "2024-01-12T04:09:01.579240Z",
          "shell.execute_reply": "2024-01-12T04:09:01.578326Z",
          "shell.execute_reply.started": "2024-01-12T04:08:55.150487Z"
        },
        "id": "wMTiYKctHPW7",
        "outputId": "ccdcd2cd-da85-4a9b-bf52-ae8a431fa9c7",
        "trusted": true
      },
      "outputs": [
        {
          "data": {
            "application/vnd.jupyter.widget-view+json": {
              "model_id": "",
              "version_major": 2,
              "version_minor": 0
            },
            "text/plain": [
              "Map:   0%|          | 0/67349 [00:00<?, ? examples/s]"
            ]
          },
          "metadata": {},
          "output_type": "display_data"
        },
        {
          "data": {
            "application/vnd.jupyter.widget-view+json": {
              "model_id": "",
              "version_major": 2,
              "version_minor": 0
            },
            "text/plain": [
              "Map:   0%|          | 0/872 [00:00<?, ? examples/s]"
            ]
          },
          "metadata": {},
          "output_type": "display_data"
        },
        {
          "data": {
            "application/vnd.jupyter.widget-view+json": {
              "model_id": "",
              "version_major": 2,
              "version_minor": 0
            },
            "text/plain": [
              "Map:   0%|          | 0/1821 [00:00<?, ? examples/s]"
            ]
          },
          "metadata": {},
          "output_type": "display_data"
        }
      ],
      "source": [
        "def tokenize(batch, tokenizer):\n",
        "    \"\"\"\n",
        "    Tokenize a batch of sentences using a given `tokenizer`.\n",
        "\n",
        "    Parameters\n",
        "    ----------\n",
        "    - batch : dict\n",
        "        A dictionary containing a key 'sentence' with a list of sentences.\n",
        "\n",
        "    - tokenizer : transformers.AutoTokenizer\n",
        "        The tokenizer used for tokenization.\n",
        "\n",
        "    Returns\n",
        "    -------\n",
        "    dict\n",
        "        A dictionary containing the tokenized sequences with padding and truncation.\n",
        "    \"\"\"\n",
        "\n",
        "    return tokenizer(batch[\"sentence\"], padding=True, truncation=True)\n",
        "\n",
        "dataset_encoded = dataset.map(tokenize, batched=True, batch_size=None, fn_kwargs={\"tokenizer\": distilbert_tokenizer})"
      ]
    },
    {
      "cell_type": "code",
      "execution_count": null,
      "metadata": {
        "colab": {
          "base_uri": "https://localhost:8080/"
        },
        "execution": {
          "iopub.execute_input": "2024-01-12T04:09:04.405249Z",
          "iopub.status.busy": "2024-01-12T04:09:04.404841Z",
          "iopub.status.idle": "2024-01-12T04:09:04.410592Z",
          "shell.execute_reply": "2024-01-12T04:09:04.409526Z",
          "shell.execute_reply.started": "2024-01-12T04:09:04.405217Z"
        },
        "id": "A5GPGMIHHvzG",
        "outputId": "925324b0-bff4-41c3-d6e4-857dfaab1e54",
        "trusted": true
      },
      "outputs": [
        {
          "name": "stdout",
          "output_type": "stream",
          "text": [
            "Dataset after encoding:\n",
            "DatasetDict({\n",
            "    train: Dataset({\n",
            "        features: ['idx', 'sentence', 'label', 'label_str', 'input_ids', 'attention_mask'],\n",
            "        num_rows: 67349\n",
            "    })\n",
            "    validation: Dataset({\n",
            "        features: ['idx', 'sentence', 'label', 'label_str', 'input_ids', 'attention_mask'],\n",
            "        num_rows: 872\n",
            "    })\n",
            "    test: Dataset({\n",
            "        features: ['idx', 'sentence', 'label', 'input_ids', 'attention_mask'],\n",
            "        num_rows: 1821\n",
            "    })\n",
            "})\n"
          ]
        }
      ],
      "source": [
        "print(f\"Dataset after encoding:\")\n",
        "print(dataset_encoded)"
      ]
    },
    {
      "cell_type": "markdown",
      "metadata": {
        "id": "ai0xAGw6DEPp"
      },
      "source": [
        "### 4.3.3 Converting Hugging Face `Dataset` object to `TF.Dataset`"
      ]
    },
    {
      "cell_type": "code",
      "execution_count": null,
      "metadata": {
        "execution": {
          "iopub.execute_input": "2024-01-12T04:09:25.744774Z",
          "iopub.status.busy": "2024-01-12T04:09:25.744380Z",
          "iopub.status.idle": "2024-01-12T04:09:26.225006Z",
          "shell.execute_reply": "2024-01-12T04:09:26.224156Z",
          "shell.execute_reply.started": "2024-01-12T04:09:25.744723Z"
        },
        "id": "awFODez5A5dw",
        "outputId": "0ac0c9b4-42ec-4208-adc0-2508c7ed2456",
        "trusted": true
      },
      "outputs": [
        {
          "name": "stderr",
          "output_type": "stream",
          "text": [
            "/opt/conda/lib/python3.10/site-packages/datasets/arrow_dataset.py:385: FutureWarning: The output of `to_tf_dataset` will change when a passing single element list for `labels` or `columns` in the next datasets version. To return a tuple structure rather than dict, pass a single string.\n",
            "Old behaviour: columns=['a'], labels=['labels'] -> (tf.Tensor, tf.Tensor)  \n",
            "             : columns='a', labels='labels' -> (tf.Tensor, tf.Tensor)  \n",
            "New behaviour: columns=['a'],labels=['labels'] -> ({'a': tf.Tensor}, {'labels': tf.Tensor})  \n",
            "             : columns='a', labels='labels' -> (tf.Tensor, tf.Tensor) \n",
            "  warnings.warn(\n"
          ]
        }
      ],
      "source": [
        "# Choose only the ['input_ids', 'attention_mask']\n",
        "tokenizer_columns = distilbert_tokenizer.model_input_names\n",
        "\n",
        "tf_train_dataset = dataset_encoded[\"train\"].to_tf_dataset(\n",
        "    columns=tokenizer_columns, label_cols=[\"label\"], shuffle=True,\n",
        "    batch_size=batch_size)\n",
        "\n",
        "tf_valid_dataset = dataset_encoded[\"validation\"].to_tf_dataset(\n",
        "    columns=tokenizer_columns, label_cols=[\"label\"], shuffle=False,\n",
        "    batch_size=batch_size)"
      ]
    },
    {
      "cell_type": "markdown",
      "metadata": {
        "id": "aT91zz01DTsF"
      },
      "source": [
        "### 4.3.4 Model Compiling"
      ]
    },
    {
      "cell_type": "code",
      "execution_count": null,
      "metadata": {
        "execution": {
          "iopub.execute_input": "2024-01-12T04:11:38.511612Z",
          "iopub.status.busy": "2024-01-12T04:11:38.511237Z",
          "iopub.status.idle": "2024-01-12T04:11:38.526244Z",
          "shell.execute_reply": "2024-01-12T04:11:38.525257Z",
          "shell.execute_reply.started": "2024-01-12T04:11:38.511581Z"
        },
        "id": "EcueadPoA5dw",
        "trusted": true
      },
      "outputs": [],
      "source": [
        "distilbert_model.compile(\n",
        "    optimizer=keras.optimizers.Adam(learning_rate=1e-5),\n",
        "    loss=keras.losses.SparseCategoricalCrossentropy(from_logits=True),\n",
        "    metrics=[\"accuracy\"])"
      ]
    },
    {
      "cell_type": "markdown",
      "metadata": {
        "id": "pv8o2mYnDWiA"
      },
      "source": [
        "### 4.3.5 Model Fine-Tuning"
      ]
    },
    {
      "cell_type": "code",
      "execution_count": null,
      "metadata": {
        "execution": {
          "iopub.execute_input": "2024-01-12T04:11:39.524343Z",
          "iopub.status.busy": "2024-01-12T04:11:39.523639Z",
          "iopub.status.idle": "2024-01-12T04:35:33.107683Z",
          "shell.execute_reply": "2024-01-12T04:35:33.106689Z",
          "shell.execute_reply.started": "2024-01-12T04:11:39.524300Z"
        },
        "id": "5aMBGZMLA5dw",
        "outputId": "e4733388-01c6-496f-c28b-d8c29025545f",
        "trusted": true
      },
      "outputs": [
        {
          "name": "stdout",
          "output_type": "stream",
          "text": [
            "Epoch 1/3\n",
            "2105/2105 [==============================] - 503s 228ms/step - loss: 0.2430 - accuracy: 0.9009 - val_loss: 0.2497 - val_accuracy: 0.9071\n",
            "Epoch 2/3\n",
            "2105/2105 [==============================] - 465s 221ms/step - loss: 0.1355 - accuracy: 0.9509 - val_loss: 0.2899 - val_accuracy: 0.9025\n",
            "Epoch 3/3\n",
            "2105/2105 [==============================] - 466s 221ms/step - loss: 0.0976 - accuracy: 0.9651 - val_loss: 0.2945 - val_accuracy: 0.9048\n"
          ]
        }
      ],
      "source": [
        "history = distilbert_model.fit(tf_train_dataset, validation_data=tf_valid_dataset, epochs=3)"
      ]
    },
    {
      "cell_type": "markdown",
      "metadata": {
        "id": "fjlyqisODaM6"
      },
      "source": [
        "### 4.3.6 Model Results"
      ]
    },
    {
      "cell_type": "code",
      "execution_count": null,
      "metadata": {
        "execution": {
          "iopub.execute_input": "2024-01-12T04:35:38.853776Z",
          "iopub.status.busy": "2024-01-12T04:35:38.853364Z",
          "iopub.status.idle": "2024-01-12T04:35:39.186253Z",
          "shell.execute_reply": "2024-01-12T04:35:39.185230Z",
          "shell.execute_reply.started": "2024-01-12T04:35:38.853714Z"
        },
        "id": "ZeTvfu6SbdYD",
        "outputId": "3f5b581b-e643-4efb-af14-35d39b086d7b",
        "trusted": true
      },
      "outputs": [
        {
          "data": {
            "image/png": "[encoded data removed]",
            "text/plain": [
              "<Figure size 640x480 with 1 Axes>"
            ]
          },
          "metadata": {},
          "output_type": "display_data"
        }
      ],
      "source": [
        "plot_loss(history, \"(DistilBERT)\")"
      ]
    },
    {
      "cell_type": "code",
      "execution_count": null,
      "metadata": {
        "execution": {
          "iopub.execute_input": "2024-01-12T04:35:43.687203Z",
          "iopub.status.busy": "2024-01-12T04:35:43.686567Z",
          "iopub.status.idle": "2024-01-12T04:35:44.008761Z",
          "shell.execute_reply": "2024-01-12T04:35:44.007664Z",
          "shell.execute_reply.started": "2024-01-12T04:35:43.687170Z"
        },
        "id": "SPRGp6QeA5dx",
        "outputId": "5ff2b514-932a-42fd-99e6-ac3bbd84bced",
        "trusted": true
      },
      "outputs": [
        {
          "data": {
            "image/png": "[encoded data removed]",
            "text/plain": [
              "<Figure size 640x480 with 1 Axes>"
            ]
          },
          "metadata": {},
          "output_type": "display_data"
        }
      ],
      "source": [
        "plot_accuracy(history, \"(DistilBERT)\")"
      ]
    },
    {
      "cell_type": "code",
      "execution_count": null,
      "metadata": {
        "execution": {
          "iopub.execute_input": "2024-01-12T04:35:52.509289Z",
          "iopub.status.busy": "2024-01-12T04:35:52.508551Z",
          "iopub.status.idle": "2024-01-12T04:35:56.091779Z",
          "shell.execute_reply": "2024-01-12T04:35:56.090799Z",
          "shell.execute_reply.started": "2024-01-12T04:35:52.509255Z"
        },
        "id": "G_bleMWwA5dx",
        "outputId": "6850e32e-fe56-4e36-c8c5-9b9f0f6b4929",
        "trusted": true
      },
      "outputs": [
        {
          "name": "stdout",
          "output_type": "stream",
          "text": [
            "28/28 [==============================] - 3s 66ms/step\n"
          ]
        },
        {
          "data": {
            "image/png": "[encoded data removed]",
            "text/plain": [
              "<Figure size 600x600 with 1 Axes>"
            ]
          },
          "metadata": {},
          "output_type": "display_data"
        }
      ],
      "source": [
        "y_pred = distilbert_model.predict(tf_valid_dataset).logits.argmax(axis=1)\n",
        "plot_confusion_matrix(y_pred, df_validation[\"label\"], [\"NEGATIVE\", \"POSITVE\"], \"(DistilBERT)\")"
      ]
    },
    {
      "cell_type": "code",
      "execution_count": null,
      "metadata": {
        "execution": {
          "iopub.execute_input": "2024-01-12T04:36:01.223628Z",
          "iopub.status.busy": "2024-01-12T04:36:01.223206Z",
          "iopub.status.idle": "2024-01-12T04:36:01.242913Z",
          "shell.execute_reply": "2024-01-12T04:36:01.241753Z",
          "shell.execute_reply.started": "2024-01-12T04:36:01.223593Z"
        },
        "id": "y0kfkl3HA5dx",
        "outputId": "9bc61a64-2926-4a11-844b-9ba59d5b58d6",
        "trusted": true
      },
      "outputs": [
        {
          "name": "stdout",
          "output_type": "stream",
          "text": [
            "              precision    recall  f1-score   support\n",
            "\n",
            "           0       0.92      0.89      0.90       428\n",
            "           1       0.89      0.92      0.91       444\n",
            "\n",
            "    accuracy                           0.90       872\n",
            "   macro avg       0.91      0.90      0.90       872\n",
            "weighted avg       0.91      0.90      0.90       872\n",
            "\n"
          ]
        }
      ],
      "source": [
        "print_classification_report(y_pred, df_validation[\"label\"])"
      ]
    },
    {
      "cell_type": "markdown",
      "metadata": {
        "id": "0CjJ7aPVDdiv"
      },
      "source": [
        "### 4.3.7 Model Testing"
      ]
    },
    {
      "cell_type": "code",
      "execution_count": null,
      "metadata": {
        "execution": {
          "iopub.execute_input": "2024-01-12T04:36:15.481602Z",
          "iopub.status.busy": "2024-01-12T04:36:15.480897Z",
          "iopub.status.idle": "2024-01-12T04:36:17.458986Z",
          "shell.execute_reply": "2024-01-12T04:36:17.458029Z",
          "shell.execute_reply.started": "2024-01-12T04:36:15.481568Z"
        },
        "id": "_AFQb1C-A5dx",
        "outputId": "7aea04b1-36ac-4632-f95f-f643251de871",
        "trusted": true
      },
      "outputs": [
        {
          "name": "stdout",
          "output_type": "stream",
          "text": [
            "28/28 [==============================] - 2s 68ms/step - loss: 0.2945 - accuracy: 0.9048\n",
            "Validation Loss: 0.2945 | Validation Accuracy: 90.48%\n"
          ]
        }
      ],
      "source": [
        "val_loss, val_accuracy = distilbert_model.evaluate(tf_valid_dataset)\n",
        "print(f\"Validation Loss: {val_loss:.4f} | Validation Accuracy: {val_accuracy * 100:.2f}%\")"
      ]
    },
    {
      "cell_type": "code",
      "execution_count": null,
      "metadata": {
        "execution": {
          "iopub.execute_input": "2024-01-12T04:44:07.268087Z",
          "iopub.status.busy": "2024-01-12T04:44:07.267448Z",
          "iopub.status.idle": "2024-01-12T04:44:07.272714Z",
          "shell.execute_reply": "2024-01-12T04:44:07.271690Z",
          "shell.execute_reply.started": "2024-01-12T04:44:07.268055Z"
        },
        "id": "Hk12_URLA5dx",
        "trusted": true
      },
      "outputs": [],
      "source": [
        "def softmax(x):\n",
        "    \"\"\"\n",
        "    Compute softmax values for a set of scores.\n",
        "\n",
        "    Parameters\n",
        "    ----------\n",
        "    - x : numpy.ndarray\n",
        "        Array containing the input scores.\n",
        "\n",
        "    Returns\n",
        "    -------\n",
        "    numpy.ndarray\n",
        "        Array containing the softmax values.\n",
        "    \"\"\"\n",
        "    \n",
        "    return np.exp(x) / np.sum(np.exp(x), axis=0)"
      ]
    },
    {
      "cell_type": "code",
      "execution_count": null,
      "metadata": {
        "execution": {
          "iopub.execute_input": "2024-01-12T04:45:30.799801Z",
          "iopub.status.busy": "2024-01-12T04:45:30.799398Z",
          "iopub.status.idle": "2024-01-12T04:45:31.752405Z",
          "shell.execute_reply": "2024-01-12T04:45:31.751471Z",
          "shell.execute_reply.started": "2024-01-12T04:45:30.799768Z"
        },
        "id": "4YZU-TS5A5dx",
        "outputId": "5ba3d0f2-eea0-4466-e514-3911673d60b2",
        "trusted": true
      },
      "outputs": [
        {
          "name": "stdout",
          "output_type": "stream",
          "text": [
            "1/1 [==============================] - 0s 50ms/step\n",
            "1/1 [==============================] - 0s 47ms/step\n",
            "1/1 [==============================] - 0s 44ms/step\n",
            "1/1 [==============================] - 0s 45ms/step\n",
            "1/1 [==============================] - 0s 49ms/step\n",
            "1/1 [==============================] - 0s 49ms/step\n",
            "1/1 [==============================] - 0s 44ms/step\n",
            "1/1 [==============================] - 0s 43ms/step\n",
            "1/1 [==============================] - 0s 44ms/step\n",
            "1/1 [==============================] - 0s 44ms/step\n",
            "1/1 [==============================] - 0s 44ms/step\n"
          ]
        },
        {
          "data": {
            "text/html": [
              "<div>\n",
              "<style scoped>\n",
              "    .dataframe tbody tr th:only-of-type {\n",
              "        vertical-align: middle;\n",
              "    }\n",
              "\n",
              "    .dataframe tbody tr th {\n",
              "        vertical-align: top;\n",
              "    }\n",
              "\n",
              "    .dataframe thead th {\n",
              "        text-align: right;\n",
              "    }\n",
              "</style>\n",
              "<table border=\"1\" class=\"dataframe\">\n",
              "  <thead>\n",
              "    <tr style=\"text-align: right;\">\n",
              "      <th></th>\n",
              "      <th>text</th>\n",
              "      <th>label</th>\n",
              "      <th>lstm_predicted_label</th>\n",
              "      <th>lstm_predicted_score</th>\n",
              "      <th>predicted_label_balanced</th>\n",
              "      <th>predicted_score_balanced</th>\n",
              "      <th>predicted_label_distilbert</th>\n",
              "      <th>predicted_score_distilbert</th>\n",
              "    </tr>\n",
              "  </thead>\n",
              "  <tbody>\n",
              "    <tr>\n",
              "      <th>0</th>\n",
              "      <td>I love you</td>\n",
              "      <td>POSITIVE</td>\n",
              "      <td>POSITIVE</td>\n",
              "      <td>0.997406</td>\n",
              "      <td>POSITIVE</td>\n",
              "      <td>0.993450</td>\n",
              "      <td>POSITIVE</td>\n",
              "      <td>0.998754</td>\n",
              "    </tr>\n",
              "    <tr>\n",
              "      <th>1</th>\n",
              "      <td>I hate you</td>\n",
              "      <td>NEGATIVE</td>\n",
              "      <td>NEGATIVE</td>\n",
              "      <td>0.988617</td>\n",
              "      <td>NEGATIVE</td>\n",
              "      <td>0.931653</td>\n",
              "      <td>NEGATIVE</td>\n",
              "      <td>0.984097</td>\n",
              "    </tr>\n",
              "    <tr>\n",
              "      <th>2</th>\n",
              "      <td>I hate the selfishness in you</td>\n",
              "      <td>NEGATIVE</td>\n",
              "      <td>NEGATIVE</td>\n",
              "      <td>0.988964</td>\n",
              "      <td>NEGATIVE</td>\n",
              "      <td>0.959181</td>\n",
              "      <td>NEGATIVE</td>\n",
              "      <td>0.985653</td>\n",
              "    </tr>\n",
              "    <tr>\n",
              "      <th>3</th>\n",
              "      <td>I hate anyone hurts you</td>\n",
              "      <td>POSITIVE</td>\n",
              "      <td>NEGATIVE</td>\n",
              "      <td>0.994716</td>\n",
              "      <td>NEGATIVE</td>\n",
              "      <td>0.998690</td>\n",
              "      <td>POSITIVE</td>\n",
              "      <td>0.910951</td>\n",
              "    </tr>\n",
              "    <tr>\n",
              "      <th>4</th>\n",
              "      <td>I hate anyone hurting you</td>\n",
              "      <td>POSITIVE</td>\n",
              "      <td>NEGATIVE</td>\n",
              "      <td>0.995313</td>\n",
              "      <td>NEGATIVE</td>\n",
              "      <td>0.989341</td>\n",
              "      <td>NEGATIVE</td>\n",
              "      <td>0.510459</td>\n",
              "    </tr>\n",
              "    <tr>\n",
              "      <th>5</th>\n",
              "      <td>I hate anyone hurting you, you are my partner</td>\n",
              "      <td>POSITIVE</td>\n",
              "      <td>NEGATIVE</td>\n",
              "      <td>0.988686</td>\n",
              "      <td>NEGATIVE</td>\n",
              "      <td>0.870283</td>\n",
              "      <td>POSITIVE</td>\n",
              "      <td>0.997720</td>\n",
              "    </tr>\n",
              "    <tr>\n",
              "      <th>6</th>\n",
              "      <td>I hate anyone hurting you, you are my love</td>\n",
              "      <td>POSITIVE</td>\n",
              "      <td>NEGATIVE</td>\n",
              "      <td>0.646798</td>\n",
              "      <td>NEGATIVE</td>\n",
              "      <td>0.905727</td>\n",
              "      <td>POSITIVE</td>\n",
              "      <td>0.997089</td>\n",
              "    </tr>\n",
              "    <tr>\n",
              "      <th>7</th>\n",
              "      <td>I like rude people</td>\n",
              "      <td>NEGATIVE</td>\n",
              "      <td>NEGATIVE</td>\n",
              "      <td>0.980396</td>\n",
              "      <td>NEGATIVE</td>\n",
              "      <td>0.988417</td>\n",
              "      <td>NEGATIVE</td>\n",
              "      <td>0.969281</td>\n",
              "    </tr>\n",
              "    <tr>\n",
              "      <th>8</th>\n",
              "      <td>I don't like rude people</td>\n",
              "      <td>POSITIVE</td>\n",
              "      <td>NEGATIVE</td>\n",
              "      <td>0.980396</td>\n",
              "      <td>NEGATIVE</td>\n",
              "      <td>0.988417</td>\n",
              "      <td>POSITIVE</td>\n",
              "      <td>0.821191</td>\n",
              "    </tr>\n",
              "    <tr>\n",
              "      <th>9</th>\n",
              "      <td>I hate polite people</td>\n",
              "      <td>NEGATIVE</td>\n",
              "      <td>NEGATIVE</td>\n",
              "      <td>0.987814</td>\n",
              "      <td>NEGATIVE</td>\n",
              "      <td>0.994646</td>\n",
              "      <td>NEGATIVE</td>\n",
              "      <td>0.994681</td>\n",
              "    </tr>\n",
              "    <tr>\n",
              "      <th>10</th>\n",
              "      <td>I don't hate polite people</td>\n",
              "      <td>POSITIVE</td>\n",
              "      <td>NEGATIVE</td>\n",
              "      <td>0.987814</td>\n",
              "      <td>NEGATIVE</td>\n",
              "      <td>0.994646</td>\n",
              "      <td>POSITIVE</td>\n",
              "      <td>0.999176</td>\n",
              "    </tr>\n",
              "  </tbody>\n",
              "</table>\n",
              "</div>"
            ],
            "text/plain": [
              "                                             text     label  \\\n",
              "0                                      I love you  POSITIVE   \n",
              "1                                      I hate you  NEGATIVE   \n",
              "2                   I hate the selfishness in you  NEGATIVE   \n",
              "3                         I hate anyone hurts you  POSITIVE   \n",
              "4                       I hate anyone hurting you  POSITIVE   \n",
              "5   I hate anyone hurting you, you are my partner  POSITIVE   \n",
              "6      I hate anyone hurting you, you are my love  POSITIVE   \n",
              "7                              I like rude people  NEGATIVE   \n",
              "8                        I don't like rude people  POSITIVE   \n",
              "9                            I hate polite people  NEGATIVE   \n",
              "10                     I don't hate polite people  POSITIVE   \n",
              "\n",
              "   lstm_predicted_label  lstm_predicted_score predicted_label_balanced  \\\n",
              "0              POSITIVE              0.997406                 POSITIVE   \n",
              "1              NEGATIVE              0.988617                 NEGATIVE   \n",
              "2              NEGATIVE              0.988964                 NEGATIVE   \n",
              "3              NEGATIVE              0.994716                 NEGATIVE   \n",
              "4              NEGATIVE              0.995313                 NEGATIVE   \n",
              "5              NEGATIVE              0.988686                 NEGATIVE   \n",
              "6              NEGATIVE              0.646798                 NEGATIVE   \n",
              "7              NEGATIVE              0.980396                 NEGATIVE   \n",
              "8              NEGATIVE              0.980396                 NEGATIVE   \n",
              "9              NEGATIVE              0.987814                 NEGATIVE   \n",
              "10             NEGATIVE              0.987814                 NEGATIVE   \n",
              "\n",
              "    predicted_score_balanced predicted_label_distilbert  \\\n",
              "0                   0.993450                   POSITIVE   \n",
              "1                   0.931653                   NEGATIVE   \n",
              "2                   0.959181                   NEGATIVE   \n",
              "3                   0.998690                   POSITIVE   \n",
              "4                   0.989341                   NEGATIVE   \n",
              "5                   0.870283                   POSITIVE   \n",
              "6                   0.905727                   POSITIVE   \n",
              "7                   0.988417                   NEGATIVE   \n",
              "8                   0.988417                   POSITIVE   \n",
              "9                   0.994646                   NEGATIVE   \n",
              "10                  0.994646                   POSITIVE   \n",
              "\n",
              "    predicted_score_distilbert  \n",
              "0                     0.998754  \n",
              "1                     0.984097  \n",
              "2                     0.985653  \n",
              "3                     0.910951  \n",
              "4                     0.510459  \n",
              "5                     0.997720  \n",
              "6                     0.997089  \n",
              "7                     0.969281  \n",
              "8                     0.821191  \n",
              "9                     0.994681  \n",
              "10                    0.999176  "
            ]
          },
          "execution_count": 95,
          "metadata": {},
          "output_type": "execute_result"
        }
      ],
      "source": [
        "predicted_labels = []\n",
        "predicted_scores = []\n",
        "\n",
        "for row in test_cases_df.values:\n",
        "    inputs = distilbert_tokenizer(row[0], padding=True, truncation=True)\n",
        "    logits = distilbert_model.predict(inputs[\"input_ids\"]).logits\n",
        "    scores = softmax(logits[0])\n",
        "\n",
        "    label = \"POSITIVE\" if scores.argmax() else \"NEGATIVE\"\n",
        "    score = scores[1] if scores.argmax() else scores[0]\n",
        "\n",
        "    predicted_labels.append(label)\n",
        "    predicted_scores.append(score)\n",
        "\n",
        "test_cases_df[\"predicted_label_distilbert\"] = predicted_labels\n",
        "test_cases_df[\"predicted_score_distilbert\"] = predicted_scores\n",
        "test_cases_df"
      ]
    },
    {
      "cell_type": "markdown",
      "metadata": {
        "id": "ho8rWT-jDgtQ"
      },
      "source": [
        "### 4.3.8 Conclusion\n",
        "When we compare using fixed embeddings (like LSTM) to using contextualized embeddings (like DistilBERT), we notice a big difference. With DistilBERT, after training for only three epochs on the validation set, I achieve around **91%** accuracy.\n",
        "\n",
        "Looking at a specific test case, it's clear that the model handles words with multiple meanings quite well. The only mistake was classifying **\"I hate anyone hurting you\"** as `NEGATIVE`. However, it's interesting to see that the model gave it a low confidence score of about **51%**. This means the model is smart enough to say there's about a **49%** chance that this sample could be `POSITIVE`, showing its ability to make nuanced decisions."
      ]
    },
    {
      "cell_type": "markdown",
      "metadata": {
        "id": "LD0LxldzDi0O"
      },
      "source": [
        "# 5.0 Final Conclusion\n",
        "Ultimately, the decision to opt for fixed embeddings models or contextualized embeddings hinges on the nature of the data the model will encounter in real-world scenarios. When dealing with straightforward data, fixed embeddings might suffice, offering good performance while requiring less memory compared to transformer-based models. However, in cases where the data is more complex, as demonstrated in our test cases, leveraging a transformer-based model with a self-attention mechanism can yield substantial performance improvements. It's crucial to note that this advantage comes at the expense of a higher memory footprint."
      ]
    }
  ],
  "metadata": {
    "accelerator": "GPU",
    "colab": {
      "gpuType": "T4",
      "provenance": []
    },
    "kaggle": {
      "accelerator": "nvidiaTeslaT4",
      "dataSources": [
        {
          "datasetId": 4284097,
          "sourceId": 7373222,
          "sourceType": "datasetVersion"
        }
      ],
      "dockerImageVersionId": 30627,
      "isGpuEnabled": true,
      "isInternetEnabled": true,
      "language": "python",
      "sourceType": "notebook"
    },
    "kernelspec": {
      "display_name": "Python 3",
      "language": "python",
      "name": "python3"
    },
    "language_info": {
      "codemirror_mode": {
        "name": "ipython",
        "version": 3
      },
      "file_extension": ".py",
      "mimetype": "text/x-python",
      "name": "python",
      "nbconvert_exporter": "python",
      "pygments_lexer": "ipython3",
      "version": "3.10.1"
    },
    "widgets": {
      "application/vnd.jupyter.widget-state+json": {
        "07e7ac625bc64c8fb32cb1db574c83a8": {
          "model_module": "@jupyter-widgets/base",
          "model_module_version": "1.2.0",
          "model_name": "LayoutModel",
          "state": {
            "_model_module": "@jupyter-widgets/base",
            "_model_module_version": "1.2.0",
            "_model_name": "LayoutModel",
            "_view_count": null,
            "_view_module": "@jupyter-widgets/base",
            "_view_module_version": "1.2.0",
            "_view_name": "LayoutView",
            "align_content": null,
            "align_items": null,
            "align_self": null,
            "border": null,
            "bottom": null,
            "display": null,
            "flex": null,
            "flex_flow": null,
            "grid_area": null,
            "grid_auto_columns": null,
            "grid_auto_flow": null,
            "grid_auto_rows": null,
            "grid_column": null,
            "grid_gap": null,
            "grid_row": null,
            "grid_template_areas": null,
            "grid_template_columns": null,
            "grid_template_rows": null,
            "height": null,
            "justify_content": null,
            "justify_items": null,
            "left": null,
            "margin": null,
            "max_height": null,
            "max_width": null,
            "min_height": null,
            "min_width": null,
            "object_fit": null,
            "object_position": null,
            "order": null,
            "overflow": null,
            "overflow_x": null,
            "overflow_y": null,
            "padding": null,
            "right": null,
            "top": null,
            "visibility": null,
            "width": null
          }
        },
        "0826d6a71d18461cb0c472ca8cbcee51": {
          "model_module": "@jupyter-widgets/controls",
          "model_module_version": "1.5.0",
          "model_name": "ProgressStyleModel",
          "state": {
            "_model_module": "@jupyter-widgets/controls",
            "_model_module_version": "1.5.0",
            "_model_name": "ProgressStyleModel",
            "_view_count": null,
            "_view_module": "@jupyter-widgets/base",
            "_view_module_version": "1.2.0",
            "_view_name": "StyleView",
            "bar_color": null,
            "description_width": ""
          }
        },
        "091ddd229fce4acf912e68a2e57ea40e": {
          "model_module": "@jupyter-widgets/base",
          "model_module_version": "1.2.0",
          "model_name": "LayoutModel",
          "state": {
            "_model_module": "@jupyter-widgets/base",
            "_model_module_version": "1.2.0",
            "_model_name": "LayoutModel",
            "_view_count": null,
            "_view_module": "@jupyter-widgets/base",
            "_view_module_version": "1.2.0",
            "_view_name": "LayoutView",
            "align_content": null,
            "align_items": null,
            "align_self": null,
            "border": null,
            "bottom": null,
            "display": null,
            "flex": null,
            "flex_flow": null,
            "grid_area": null,
            "grid_auto_columns": null,
            "grid_auto_flow": null,
            "grid_auto_rows": null,
            "grid_column": null,
            "grid_gap": null,
            "grid_row": null,
            "grid_template_areas": null,
            "grid_template_columns": null,
            "grid_template_rows": null,
            "height": null,
            "justify_content": null,
            "justify_items": null,
            "left": null,
            "margin": null,
            "max_height": null,
            "max_width": null,
            "min_height": null,
            "min_width": null,
            "object_fit": null,
            "object_position": null,
            "order": null,
            "overflow": null,
            "overflow_x": null,
            "overflow_y": null,
            "padding": null,
            "right": null,
            "top": null,
            "visibility": null,
            "width": null
          }
        },
        "0bb27a2bb62a4df69df70247855923e5": {
          "model_module": "@jupyter-widgets/controls",
          "model_module_version": "1.5.0",
          "model_name": "HTMLModel",
          "state": {
            "_dom_classes": [],
            "_model_module": "@jupyter-widgets/controls",
            "_model_module_version": "1.5.0",
            "_model_name": "HTMLModel",
            "_view_count": null,
            "_view_module": "@jupyter-widgets/controls",
            "_view_module_version": "1.5.0",
            "_view_name": "HTMLView",
            "description": "",
            "description_tooltip": null,
            "layout": "IPY_MODEL_d22dd0256ab34be2bd99be2d0c31fd4c",
            "placeholder": "​",
            "style": "IPY_MODEL_55bd7ce62d3c4d7facf33e7a5966e247",
            "value": " 872/872 [00:00&lt;00:00, 17740.49 examples/s]"
          }
        },
        "0c4c42a8df5b481b9216ec457a24a940": {
          "model_module": "@jupyter-widgets/base",
          "model_module_version": "1.2.0",
          "model_name": "LayoutModel",
          "state": {
            "_model_module": "@jupyter-widgets/base",
            "_model_module_version": "1.2.0",
            "_model_name": "LayoutModel",
            "_view_count": null,
            "_view_module": "@jupyter-widgets/base",
            "_view_module_version": "1.2.0",
            "_view_name": "LayoutView",
            "align_content": null,
            "align_items": null,
            "align_self": null,
            "border": null,
            "bottom": null,
            "display": null,
            "flex": null,
            "flex_flow": null,
            "grid_area": null,
            "grid_auto_columns": null,
            "grid_auto_flow": null,
            "grid_auto_rows": null,
            "grid_column": null,
            "grid_gap": null,
            "grid_row": null,
            "grid_template_areas": null,
            "grid_template_columns": null,
            "grid_template_rows": null,
            "height": null,
            "justify_content": null,
            "justify_items": null,
            "left": null,
            "margin": null,
            "max_height": null,
            "max_width": null,
            "min_height": null,
            "min_width": null,
            "object_fit": null,
            "object_position": null,
            "order": null,
            "overflow": null,
            "overflow_x": null,
            "overflow_y": null,
            "padding": null,
            "right": null,
            "top": null,
            "visibility": null,
            "width": null
          }
        },
        "0da24f284d7845eb8a7ba410560de1c0": {
          "model_module": "@jupyter-widgets/controls",
          "model_module_version": "1.5.0",
          "model_name": "FloatProgressModel",
          "state": {
            "_dom_classes": [],
            "_model_module": "@jupyter-widgets/controls",
            "_model_module_version": "1.5.0",
            "_model_name": "FloatProgressModel",
            "_view_count": null,
            "_view_module": "@jupyter-widgets/controls",
            "_view_module_version": "1.5.0",
            "_view_name": "ProgressView",
            "bar_style": "success",
            "description": "",
            "description_tooltip": null,
            "layout": "IPY_MODEL_823cec86de96408bbcac20ff0236f18d",
            "max": 3110458,
            "min": 0,
            "orientation": "horizontal",
            "style": "IPY_MODEL_e6b1107530904277adc3626a10cedb58",
            "value": 3110458
          }
        },
        "0fce28a21d7b41b399230b7c77f3b614": {
          "model_module": "@jupyter-widgets/controls",
          "model_module_version": "1.5.0",
          "model_name": "HTMLModel",
          "state": {
            "_dom_classes": [],
            "_model_module": "@jupyter-widgets/controls",
            "_model_module_version": "1.5.0",
            "_model_name": "HTMLModel",
            "_view_count": null,
            "_view_module": "@jupyter-widgets/controls",
            "_view_module_version": "1.5.0",
            "_view_name": "HTMLView",
            "description": "",
            "description_tooltip": null,
            "layout": "IPY_MODEL_07e7ac625bc64c8fb32cb1db574c83a8",
            "placeholder": "​",
            "style": "IPY_MODEL_a7fc04d53e844e82b37bbef52f0fdef1",
            "value": " 436M/436M [00:04&lt;00:00, 57.9MB/s]"
          }
        },
        "1438e3580deb4c96b005f0ac1f619aca": {
          "model_module": "@jupyter-widgets/controls",
          "model_module_version": "1.5.0",
          "model_name": "DescriptionStyleModel",
          "state": {
            "_model_module": "@jupyter-widgets/controls",
            "_model_module_version": "1.5.0",
            "_model_name": "DescriptionStyleModel",
            "_view_count": null,
            "_view_module": "@jupyter-widgets/base",
            "_view_module_version": "1.2.0",
            "_view_name": "StyleView",
            "description_width": ""
          }
        },
        "1484eaf6792944d2b4bc5a032bb265c1": {
          "model_module": "@jupyter-widgets/controls",
          "model_module_version": "1.5.0",
          "model_name": "FloatProgressModel",
          "state": {
            "_dom_classes": [],
            "_model_module": "@jupyter-widgets/controls",
            "_model_module_version": "1.5.0",
            "_model_name": "FloatProgressModel",
            "_view_count": null,
            "_view_module": "@jupyter-widgets/controls",
            "_view_module_version": "1.5.0",
            "_view_name": "ProgressView",
            "bar_style": "success",
            "description": "",
            "description_tooltip": null,
            "layout": "IPY_MODEL_d7c389f5f5df40fbb6bf661bbf026673",
            "max": 67349,
            "min": 0,
            "orientation": "horizontal",
            "style": "IPY_MODEL_a53122e4027c457b8db03f8af4ba4f9a",
            "value": 67349
          }
        },
        "1764b3e7c55242e18a271d9fb185709d": {
          "model_module": "@jupyter-widgets/controls",
          "model_module_version": "1.5.0",
          "model_name": "HBoxModel",
          "state": {
            "_dom_classes": [],
            "_model_module": "@jupyter-widgets/controls",
            "_model_module_version": "1.5.0",
            "_model_name": "HBoxModel",
            "_view_count": null,
            "_view_module": "@jupyter-widgets/controls",
            "_view_module_version": "1.5.0",
            "_view_name": "HBoxView",
            "box_style": "",
            "children": [
              "IPY_MODEL_f7273ff18043448792d97f2884044e6a",
              "IPY_MODEL_7942b0036f6841d98ad14eab18ada15d",
              "IPY_MODEL_676ae50d80e549a9a35eeadc24eb6edd"
            ],
            "layout": "IPY_MODEL_e6153ef1aab447f5b8b15963b43bee0f"
          }
        },
        "19d038e45b6f466c834eb86a34243eec": {
          "model_module": "@jupyter-widgets/controls",
          "model_module_version": "1.5.0",
          "model_name": "HBoxModel",
          "state": {
            "_dom_classes": [],
            "_model_module": "@jupyter-widgets/controls",
            "_model_module_version": "1.5.0",
            "_model_name": "HBoxModel",
            "_view_count": null,
            "_view_module": "@jupyter-widgets/controls",
            "_view_module_version": "1.5.0",
            "_view_name": "HBoxView",
            "box_style": "",
            "children": [
              "IPY_MODEL_846e066a56f34103a4c93327bdaf890f",
              "IPY_MODEL_a7ddf95b5fee42c4914d0256dfa9e5ab",
              "IPY_MODEL_28d5897122ce447c832089c857001948"
            ],
            "layout": "IPY_MODEL_d42a4337fc7941638d90a55c818cea28"
          }
        },
        "1ae98241d5fd4655b327fd49b1f79861": {
          "model_module": "@jupyter-widgets/controls",
          "model_module_version": "1.5.0",
          "model_name": "ProgressStyleModel",
          "state": {
            "_model_module": "@jupyter-widgets/controls",
            "_model_module_version": "1.5.0",
            "_model_name": "ProgressStyleModel",
            "_view_count": null,
            "_view_module": "@jupyter-widgets/base",
            "_view_module_version": "1.2.0",
            "_view_name": "StyleView",
            "bar_color": null,
            "description_width": ""
          }
        },
        "1c1f2572b3914ad087fb1d113c3dc3b2": {
          "model_module": "@jupyter-widgets/base",
          "model_module_version": "1.2.0",
          "model_name": "LayoutModel",
          "state": {
            "_model_module": "@jupyter-widgets/base",
            "_model_module_version": "1.2.0",
            "_model_name": "LayoutModel",
            "_view_count": null,
            "_view_module": "@jupyter-widgets/base",
            "_view_module_version": "1.2.0",
            "_view_name": "LayoutView",
            "align_content": null,
            "align_items": null,
            "align_self": null,
            "border": null,
            "bottom": null,
            "display": null,
            "flex": null,
            "flex_flow": null,
            "grid_area": null,
            "grid_auto_columns": null,
            "grid_auto_flow": null,
            "grid_auto_rows": null,
            "grid_column": null,
            "grid_gap": null,
            "grid_row": null,
            "grid_template_areas": null,
            "grid_template_columns": null,
            "grid_template_rows": null,
            "height": null,
            "justify_content": null,
            "justify_items": null,
            "left": null,
            "margin": null,
            "max_height": null,
            "max_width": null,
            "min_height": null,
            "min_width": null,
            "object_fit": null,
            "object_position": null,
            "order": null,
            "overflow": null,
            "overflow_x": null,
            "overflow_y": null,
            "padding": null,
            "right": null,
            "top": null,
            "visibility": null,
            "width": null
          }
        },
        "1c435ec3f734472dab870321610b1f00": {
          "model_module": "@jupyter-widgets/base",
          "model_module_version": "1.2.0",
          "model_name": "LayoutModel",
          "state": {
            "_model_module": "@jupyter-widgets/base",
            "_model_module_version": "1.2.0",
            "_model_name": "LayoutModel",
            "_view_count": null,
            "_view_module": "@jupyter-widgets/base",
            "_view_module_version": "1.2.0",
            "_view_name": "LayoutView",
            "align_content": null,
            "align_items": null,
            "align_self": null,
            "border": null,
            "bottom": null,
            "display": null,
            "flex": null,
            "flex_flow": null,
            "grid_area": null,
            "grid_auto_columns": null,
            "grid_auto_flow": null,
            "grid_auto_rows": null,
            "grid_column": null,
            "grid_gap": null,
            "grid_row": null,
            "grid_template_areas": null,
            "grid_template_columns": null,
            "grid_template_rows": null,
            "height": null,
            "justify_content": null,
            "justify_items": null,
            "left": null,
            "margin": null,
            "max_height": null,
            "max_width": null,
            "min_height": null,
            "min_width": null,
            "object_fit": null,
            "object_position": null,
            "order": null,
            "overflow": null,
            "overflow_x": null,
            "overflow_y": null,
            "padding": null,
            "right": null,
            "top": null,
            "visibility": null,
            "width": null
          }
        },
        "1cb48716495f431a867c2bf3f7469c97": {
          "model_module": "@jupyter-widgets/base",
          "model_module_version": "1.2.0",
          "model_name": "LayoutModel",
          "state": {
            "_model_module": "@jupyter-widgets/base",
            "_model_module_version": "1.2.0",
            "_model_name": "LayoutModel",
            "_view_count": null,
            "_view_module": "@jupyter-widgets/base",
            "_view_module_version": "1.2.0",
            "_view_name": "LayoutView",
            "align_content": null,
            "align_items": null,
            "align_self": null,
            "border": null,
            "bottom": null,
            "display": null,
            "flex": null,
            "flex_flow": null,
            "grid_area": null,
            "grid_auto_columns": null,
            "grid_auto_flow": null,
            "grid_auto_rows": null,
            "grid_column": null,
            "grid_gap": null,
            "grid_row": null,
            "grid_template_areas": null,
            "grid_template_columns": null,
            "grid_template_rows": null,
            "height": null,
            "justify_content": null,
            "justify_items": null,
            "left": null,
            "margin": null,
            "max_height": null,
            "max_width": null,
            "min_height": null,
            "min_width": null,
            "object_fit": null,
            "object_position": null,
            "order": null,
            "overflow": null,
            "overflow_x": null,
            "overflow_y": null,
            "padding": null,
            "right": null,
            "top": null,
            "visibility": null,
            "width": null
          }
        },
        "1cb9753c85714c67aca56b7bc7290e37": {
          "model_module": "@jupyter-widgets/controls",
          "model_module_version": "1.5.0",
          "model_name": "HTMLModel",
          "state": {
            "_dom_classes": [],
            "_model_module": "@jupyter-widgets/controls",
            "_model_module_version": "1.5.0",
            "_model_name": "HTMLModel",
            "_view_count": null,
            "_view_module": "@jupyter-widgets/controls",
            "_view_module_version": "1.5.0",
            "_view_name": "HTMLView",
            "description": "",
            "description_tooltip": null,
            "layout": "IPY_MODEL_2c2231e5f6d34c8b8e8b4aedf3ae415e",
            "placeholder": "​",
            "style": "IPY_MODEL_e4a31fcc5b2349c5b1006af7fd95ca81",
            "value": " 72.8k/72.8k [00:00&lt;00:00, 424kB/s]"
          }
        },
        "1d35fab59a9340e3817cd7c1ed26ad8d": {
          "model_module": "@jupyter-widgets/base",
          "model_module_version": "1.2.0",
          "model_name": "LayoutModel",
          "state": {
            "_model_module": "@jupyter-widgets/base",
            "_model_module_version": "1.2.0",
            "_model_name": "LayoutModel",
            "_view_count": null,
            "_view_module": "@jupyter-widgets/base",
            "_view_module_version": "1.2.0",
            "_view_name": "LayoutView",
            "align_content": null,
            "align_items": null,
            "align_self": null,
            "border": null,
            "bottom": null,
            "display": null,
            "flex": null,
            "flex_flow": null,
            "grid_area": null,
            "grid_auto_columns": null,
            "grid_auto_flow": null,
            "grid_auto_rows": null,
            "grid_column": null,
            "grid_gap": null,
            "grid_row": null,
            "grid_template_areas": null,
            "grid_template_columns": null,
            "grid_template_rows": null,
            "height": null,
            "justify_content": null,
            "justify_items": null,
            "left": null,
            "margin": null,
            "max_height": null,
            "max_width": null,
            "min_height": null,
            "min_width": null,
            "object_fit": null,
            "object_position": null,
            "order": null,
            "overflow": null,
            "overflow_x": null,
            "overflow_y": null,
            "padding": null,
            "right": null,
            "top": null,
            "visibility": null,
            "width": null
          }
        },
        "1e908d6c972840b1bf56263e24547d43": {
          "model_module": "@jupyter-widgets/controls",
          "model_module_version": "1.5.0",
          "model_name": "HTMLModel",
          "state": {
            "_dom_classes": [],
            "_model_module": "@jupyter-widgets/controls",
            "_model_module_version": "1.5.0",
            "_model_name": "HTMLModel",
            "_view_count": null,
            "_view_module": "@jupyter-widgets/controls",
            "_view_module_version": "1.5.0",
            "_view_name": "HTMLView",
            "description": "",
            "description_tooltip": null,
            "layout": "IPY_MODEL_8daedf95198844c6aa74845e9f0cee64",
            "placeholder": "​",
            "style": "IPY_MODEL_5c332d1f0ef741198c20b95136fb09fb",
            "value": "Generating validation split: 100%"
          }
        },
        "1ed48a1623ff4b89a71a70396e6dde61": {
          "model_module": "@jupyter-widgets/controls",
          "model_module_version": "1.5.0",
          "model_name": "HTMLModel",
          "state": {
            "_dom_classes": [],
            "_model_module": "@jupyter-widgets/controls",
            "_model_module_version": "1.5.0",
            "_model_name": "HTMLModel",
            "_view_count": null,
            "_view_module": "@jupyter-widgets/controls",
            "_view_module_version": "1.5.0",
            "_view_name": "HTMLView",
            "description": "",
            "description_tooltip": null,
            "layout": "IPY_MODEL_333060bb9cd64b42be44a8257ac21c33",
            "placeholder": "​",
            "style": "IPY_MODEL_9b00e4661fcf48c5a4426d73f4a98027",
            "value": "Generating test split: 100%"
          }
        },
        "21d1f0a90e1e44bbb1922e55e2a7e132": {
          "model_module": "@jupyter-widgets/controls",
          "model_module_version": "1.5.0",
          "model_name": "FloatProgressModel",
          "state": {
            "_dom_classes": [],
            "_model_module": "@jupyter-widgets/controls",
            "_model_module_version": "1.5.0",
            "_model_name": "FloatProgressModel",
            "_view_count": null,
            "_view_module": "@jupyter-widgets/controls",
            "_view_module_version": "1.5.0",
            "_view_name": "ProgressView",
            "bar_style": "success",
            "description": "",
            "description_tooltip": null,
            "layout": "IPY_MODEL_2b005b427d6e4b129d57d41aa51bb677",
            "max": 872,
            "min": 0,
            "orientation": "horizontal",
            "style": "IPY_MODEL_43b3f927d2d74532b4f0a51b3d5de787",
            "value": 872
          }
        },
        "2399fa7afc3146759469a55a22addfa0": {
          "model_module": "@jupyter-widgets/controls",
          "model_module_version": "1.5.0",
          "model_name": "HTMLModel",
          "state": {
            "_dom_classes": [],
            "_model_module": "@jupyter-widgets/controls",
            "_model_module_version": "1.5.0",
            "_model_name": "HTMLModel",
            "_view_count": null,
            "_view_module": "@jupyter-widgets/controls",
            "_view_module_version": "1.5.0",
            "_view_name": "HTMLView",
            "description": "",
            "description_tooltip": null,
            "layout": "IPY_MODEL_34b5aa5861c641e19f9cceb4d3448631",
            "placeholder": "​",
            "style": "IPY_MODEL_bc12581a494146f4bdcf922b083abaa0",
            "value": "Map: 100%"
          }
        },
        "23f0448c178a4ec295257858f2a191df": {
          "model_module": "@jupyter-widgets/controls",
          "model_module_version": "1.5.0",
          "model_name": "HTMLModel",
          "state": {
            "_dom_classes": [],
            "_model_module": "@jupyter-widgets/controls",
            "_model_module_version": "1.5.0",
            "_model_name": "HTMLModel",
            "_view_count": null,
            "_view_module": "@jupyter-widgets/controls",
            "_view_module_version": "1.5.0",
            "_view_name": "HTMLView",
            "description": "",
            "description_tooltip": null,
            "layout": "IPY_MODEL_ca1067802af643dea569ef0de30b9299",
            "placeholder": "​",
            "style": "IPY_MODEL_9413ae8a88c74904a47021b2ea9d5961",
            "value": " 3.11M/3.11M [00:00&lt;00:00, 6.22MB/s]"
          }
        },
        "24013e90be1740c182310855ca24b3af": {
          "model_module": "@jupyter-widgets/controls",
          "model_module_version": "1.5.0",
          "model_name": "DescriptionStyleModel",
          "state": {
            "_model_module": "@jupyter-widgets/controls",
            "_model_module_version": "1.5.0",
            "_model_name": "DescriptionStyleModel",
            "_view_count": null,
            "_view_module": "@jupyter-widgets/base",
            "_view_module_version": "1.2.0",
            "_view_name": "StyleView",
            "description_width": ""
          }
        },
        "262cfc2f70b94a09a84b48b50609530f": {
          "model_module": "@jupyter-widgets/controls",
          "model_module_version": "1.5.0",
          "model_name": "DescriptionStyleModel",
          "state": {
            "_model_module": "@jupyter-widgets/controls",
            "_model_module_version": "1.5.0",
            "_model_name": "DescriptionStyleModel",
            "_view_count": null,
            "_view_module": "@jupyter-widgets/base",
            "_view_module_version": "1.2.0",
            "_view_name": "StyleView",
            "description_width": ""
          }
        },
        "28d5897122ce447c832089c857001948": {
          "model_module": "@jupyter-widgets/controls",
          "model_module_version": "1.5.0",
          "model_name": "HTMLModel",
          "state": {
            "_dom_classes": [],
            "_model_module": "@jupyter-widgets/controls",
            "_model_module_version": "1.5.0",
            "_model_name": "HTMLModel",
            "_view_count": null,
            "_view_module": "@jupyter-widgets/controls",
            "_view_module_version": "1.5.0",
            "_view_name": "HTMLView",
            "description": "",
            "description_tooltip": null,
            "layout": "IPY_MODEL_fb04de8b632946b4b23b3b9108f08f00",
            "placeholder": "​",
            "style": "IPY_MODEL_d3d7abd0bc184ce7b910b5542e528f05",
            "value": " 872/872 [00:00&lt;00:00, 15882.89 examples/s]"
          }
        },
        "292b0a54e57a4815979700f20837565c": {
          "model_module": "@jupyter-widgets/base",
          "model_module_version": "1.2.0",
          "model_name": "LayoutModel",
          "state": {
            "_model_module": "@jupyter-widgets/base",
            "_model_module_version": "1.2.0",
            "_model_name": "LayoutModel",
            "_view_count": null,
            "_view_module": "@jupyter-widgets/base",
            "_view_module_version": "1.2.0",
            "_view_name": "LayoutView",
            "align_content": null,
            "align_items": null,
            "align_self": null,
            "border": null,
            "bottom": null,
            "display": null,
            "flex": null,
            "flex_flow": null,
            "grid_area": null,
            "grid_auto_columns": null,
            "grid_auto_flow": null,
            "grid_auto_rows": null,
            "grid_column": null,
            "grid_gap": null,
            "grid_row": null,
            "grid_template_areas": null,
            "grid_template_columns": null,
            "grid_template_rows": null,
            "height": null,
            "justify_content": null,
            "justify_items": null,
            "left": null,
            "margin": null,
            "max_height": null,
            "max_width": null,
            "min_height": null,
            "min_width": null,
            "object_fit": null,
            "object_position": null,
            "order": null,
            "overflow": null,
            "overflow_x": null,
            "overflow_y": null,
            "padding": null,
            "right": null,
            "top": null,
            "visibility": null,
            "width": null
          }
        },
        "29446074ef524e1089817f4f47ac61c2": {
          "model_module": "@jupyter-widgets/controls",
          "model_module_version": "1.5.0",
          "model_name": "HBoxModel",
          "state": {
            "_dom_classes": [],
            "_model_module": "@jupyter-widgets/controls",
            "_model_module_version": "1.5.0",
            "_model_name": "HBoxModel",
            "_view_count": null,
            "_view_module": "@jupyter-widgets/controls",
            "_view_module_version": "1.5.0",
            "_view_name": "HBoxView",
            "box_style": "",
            "children": [
              "IPY_MODEL_1ed48a1623ff4b89a71a70396e6dde61",
              "IPY_MODEL_2c68b179038d4a698043cedae54c46a9",
              "IPY_MODEL_a6de33a9aeae4b1987b188b68b8ffd08"
            ],
            "layout": "IPY_MODEL_d329b05aaf1b4fae9b86e4eef2a82664"
          }
        },
        "295bb802112548daa1e0f966f68aee0c": {
          "model_module": "@jupyter-widgets/controls",
          "model_module_version": "1.5.0",
          "model_name": "HBoxModel",
          "state": {
            "_dom_classes": [],
            "_model_module": "@jupyter-widgets/controls",
            "_model_module_version": "1.5.0",
            "_model_name": "HBoxModel",
            "_view_count": null,
            "_view_module": "@jupyter-widgets/controls",
            "_view_module_version": "1.5.0",
            "_view_name": "HBoxView",
            "box_style": "",
            "children": [
              "IPY_MODEL_f7a348ce4f014586af0604e2f1b002dc",
              "IPY_MODEL_40674ed9f3124f62a34d1ae18907f955",
              "IPY_MODEL_f9b711537f5040d2b823219dfde7c12f"
            ],
            "layout": "IPY_MODEL_4ad1a6cef61c4068960ce39322771eaa"
          }
        },
        "2b005b427d6e4b129d57d41aa51bb677": {
          "model_module": "@jupyter-widgets/base",
          "model_module_version": "1.2.0",
          "model_name": "LayoutModel",
          "state": {
            "_model_module": "@jupyter-widgets/base",
            "_model_module_version": "1.2.0",
            "_model_name": "LayoutModel",
            "_view_count": null,
            "_view_module": "@jupyter-widgets/base",
            "_view_module_version": "1.2.0",
            "_view_name": "LayoutView",
            "align_content": null,
            "align_items": null,
            "align_self": null,
            "border": null,
            "bottom": null,
            "display": null,
            "flex": null,
            "flex_flow": null,
            "grid_area": null,
            "grid_auto_columns": null,
            "grid_auto_flow": null,
            "grid_auto_rows": null,
            "grid_column": null,
            "grid_gap": null,
            "grid_row": null,
            "grid_template_areas": null,
            "grid_template_columns": null,
            "grid_template_rows": null,
            "height": null,
            "justify_content": null,
            "justify_items": null,
            "left": null,
            "margin": null,
            "max_height": null,
            "max_width": null,
            "min_height": null,
            "min_width": null,
            "object_fit": null,
            "object_position": null,
            "order": null,
            "overflow": null,
            "overflow_x": null,
            "overflow_y": null,
            "padding": null,
            "right": null,
            "top": null,
            "visibility": null,
            "width": null
          }
        },
        "2c2231e5f6d34c8b8e8b4aedf3ae415e": {
          "model_module": "@jupyter-widgets/base",
          "model_module_version": "1.2.0",
          "model_name": "LayoutModel",
          "state": {
            "_model_module": "@jupyter-widgets/base",
            "_model_module_version": "1.2.0",
            "_model_name": "LayoutModel",
            "_view_count": null,
            "_view_module": "@jupyter-widgets/base",
            "_view_module_version": "1.2.0",
            "_view_name": "LayoutView",
            "align_content": null,
            "align_items": null,
            "align_self": null,
            "border": null,
            "bottom": null,
            "display": null,
            "flex": null,
            "flex_flow": null,
            "grid_area": null,
            "grid_auto_columns": null,
            "grid_auto_flow": null,
            "grid_auto_rows": null,
            "grid_column": null,
            "grid_gap": null,
            "grid_row": null,
            "grid_template_areas": null,
            "grid_template_columns": null,
            "grid_template_rows": null,
            "height": null,
            "justify_content": null,
            "justify_items": null,
            "left": null,
            "margin": null,
            "max_height": null,
            "max_width": null,
            "min_height": null,
            "min_width": null,
            "object_fit": null,
            "object_position": null,
            "order": null,
            "overflow": null,
            "overflow_x": null,
            "overflow_y": null,
            "padding": null,
            "right": null,
            "top": null,
            "visibility": null,
            "width": null
          }
        },
        "2c68b179038d4a698043cedae54c46a9": {
          "model_module": "@jupyter-widgets/controls",
          "model_module_version": "1.5.0",
          "model_name": "FloatProgressModel",
          "state": {
            "_dom_classes": [],
            "_model_module": "@jupyter-widgets/controls",
            "_model_module_version": "1.5.0",
            "_model_name": "FloatProgressModel",
            "_view_count": null,
            "_view_module": "@jupyter-widgets/controls",
            "_view_module_version": "1.5.0",
            "_view_name": "ProgressView",
            "bar_style": "success",
            "description": "",
            "description_tooltip": null,
            "layout": "IPY_MODEL_891ca4ea41bd49a09c1d9d01aee37c29",
            "max": 1821,
            "min": 0,
            "orientation": "horizontal",
            "style": "IPY_MODEL_4ec323a402834aeea79aec3526b99967",
            "value": 1821
          }
        },
        "2dda0a14e7cb4b6e9188c80f6e28d9fb": {
          "model_module": "@jupyter-widgets/base",
          "model_module_version": "1.2.0",
          "model_name": "LayoutModel",
          "state": {
            "_model_module": "@jupyter-widgets/base",
            "_model_module_version": "1.2.0",
            "_model_name": "LayoutModel",
            "_view_count": null,
            "_view_module": "@jupyter-widgets/base",
            "_view_module_version": "1.2.0",
            "_view_name": "LayoutView",
            "align_content": null,
            "align_items": null,
            "align_self": null,
            "border": null,
            "bottom": null,
            "display": null,
            "flex": null,
            "flex_flow": null,
            "grid_area": null,
            "grid_auto_columns": null,
            "grid_auto_flow": null,
            "grid_auto_rows": null,
            "grid_column": null,
            "grid_gap": null,
            "grid_row": null,
            "grid_template_areas": null,
            "grid_template_columns": null,
            "grid_template_rows": null,
            "height": null,
            "justify_content": null,
            "justify_items": null,
            "left": null,
            "margin": null,
            "max_height": null,
            "max_width": null,
            "min_height": null,
            "min_width": null,
            "object_fit": null,
            "object_position": null,
            "order": null,
            "overflow": null,
            "overflow_x": null,
            "overflow_y": null,
            "padding": null,
            "right": null,
            "top": null,
            "visibility": null,
            "width": null
          }
        },
        "2e6330e07d834c1f8af7901fee91ac4e": {
          "model_module": "@jupyter-widgets/base",
          "model_module_version": "1.2.0",
          "model_name": "LayoutModel",
          "state": {
            "_model_module": "@jupyter-widgets/base",
            "_model_module_version": "1.2.0",
            "_model_name": "LayoutModel",
            "_view_count": null,
            "_view_module": "@jupyter-widgets/base",
            "_view_module_version": "1.2.0",
            "_view_name": "LayoutView",
            "align_content": null,
            "align_items": null,
            "align_self": null,
            "border": null,
            "bottom": null,
            "display": null,
            "flex": null,
            "flex_flow": null,
            "grid_area": null,
            "grid_auto_columns": null,
            "grid_auto_flow": null,
            "grid_auto_rows": null,
            "grid_column": null,
            "grid_gap": null,
            "grid_row": null,
            "grid_template_areas": null,
            "grid_template_columns": null,
            "grid_template_rows": null,
            "height": null,
            "justify_content": null,
            "justify_items": null,
            "left": null,
            "margin": null,
            "max_height": null,
            "max_width": null,
            "min_height": null,
            "min_width": null,
            "object_fit": null,
            "object_position": null,
            "order": null,
            "overflow": null,
            "overflow_x": null,
            "overflow_y": null,
            "padding": null,
            "right": null,
            "top": null,
            "visibility": null,
            "width": null
          }
        },
        "2f68713ed9ec47cda5474b493945205e": {
          "model_module": "@jupyter-widgets/controls",
          "model_module_version": "1.5.0",
          "model_name": "HBoxModel",
          "state": {
            "_dom_classes": [],
            "_model_module": "@jupyter-widgets/controls",
            "_model_module_version": "1.5.0",
            "_model_name": "HBoxModel",
            "_view_count": null,
            "_view_module": "@jupyter-widgets/controls",
            "_view_module_version": "1.5.0",
            "_view_name": "HBoxView",
            "box_style": "",
            "children": [
              "IPY_MODEL_3112edcaf11048dc8bab71eea482a1f9",
              "IPY_MODEL_4f4da6eda6b6403290969d165ada2803",
              "IPY_MODEL_a545348a67d64293a3f885d0dbe03f97"
            ],
            "layout": "IPY_MODEL_fe9484aee0ea46aab0d6d678c32a115a"
          }
        },
        "3112edcaf11048dc8bab71eea482a1f9": {
          "model_module": "@jupyter-widgets/controls",
          "model_module_version": "1.5.0",
          "model_name": "HTMLModel",
          "state": {
            "_dom_classes": [],
            "_model_module": "@jupyter-widgets/controls",
            "_model_module_version": "1.5.0",
            "_model_name": "HTMLModel",
            "_view_count": null,
            "_view_module": "@jupyter-widgets/controls",
            "_view_module_version": "1.5.0",
            "_view_name": "HTMLView",
            "description": "",
            "description_tooltip": null,
            "layout": "IPY_MODEL_c616f0ff644343179d46f12b24af812c",
            "placeholder": "​",
            "style": "IPY_MODEL_7252bdb8435b43d2be2dc6c28203993b",
            "value": "Downloading data: 100%"
          }
        },
        "314cf4d85b5840a89652b6ed6e53ef33": {
          "model_module": "@jupyter-widgets/controls",
          "model_module_version": "1.5.0",
          "model_name": "HTMLModel",
          "state": {
            "_dom_classes": [],
            "_model_module": "@jupyter-widgets/controls",
            "_model_module_version": "1.5.0",
            "_model_name": "HTMLModel",
            "_view_count": null,
            "_view_module": "@jupyter-widgets/controls",
            "_view_module_version": "1.5.0",
            "_view_name": "HTMLView",
            "description": "",
            "description_tooltip": null,
            "layout": "IPY_MODEL_e39491e17d0048b9ba1f7173e185efe2",
            "placeholder": "​",
            "style": "IPY_MODEL_dfe4b49380db439497489b02dffee96f",
            "value": "Downloading data: 100%"
          }
        },
        "32c29200a5ed44d5b602f451cac05d03": {
          "model_module": "@jupyter-widgets/controls",
          "model_module_version": "1.5.0",
          "model_name": "HBoxModel",
          "state": {
            "_dom_classes": [],
            "_model_module": "@jupyter-widgets/controls",
            "_model_module_version": "1.5.0",
            "_model_name": "HBoxModel",
            "_view_count": null,
            "_view_module": "@jupyter-widgets/controls",
            "_view_module_version": "1.5.0",
            "_view_name": "HBoxView",
            "box_style": "",
            "children": [
              "IPY_MODEL_1e908d6c972840b1bf56263e24547d43",
              "IPY_MODEL_21d1f0a90e1e44bbb1922e55e2a7e132",
              "IPY_MODEL_0bb27a2bb62a4df69df70247855923e5"
            ],
            "layout": "IPY_MODEL_5d805f1fe61648789171613b99f9a8f9"
          }
        },
        "333060bb9cd64b42be44a8257ac21c33": {
          "model_module": "@jupyter-widgets/base",
          "model_module_version": "1.2.0",
          "model_name": "LayoutModel",
          "state": {
            "_model_module": "@jupyter-widgets/base",
            "_model_module_version": "1.2.0",
            "_model_name": "LayoutModel",
            "_view_count": null,
            "_view_module": "@jupyter-widgets/base",
            "_view_module_version": "1.2.0",
            "_view_name": "LayoutView",
            "align_content": null,
            "align_items": null,
            "align_self": null,
            "border": null,
            "bottom": null,
            "display": null,
            "flex": null,
            "flex_flow": null,
            "grid_area": null,
            "grid_auto_columns": null,
            "grid_auto_flow": null,
            "grid_auto_rows": null,
            "grid_column": null,
            "grid_gap": null,
            "grid_row": null,
            "grid_template_areas": null,
            "grid_template_columns": null,
            "grid_template_rows": null,
            "height": null,
            "justify_content": null,
            "justify_items": null,
            "left": null,
            "margin": null,
            "max_height": null,
            "max_width": null,
            "min_height": null,
            "min_width": null,
            "object_fit": null,
            "object_position": null,
            "order": null,
            "overflow": null,
            "overflow_x": null,
            "overflow_y": null,
            "padding": null,
            "right": null,
            "top": null,
            "visibility": null,
            "width": null
          }
        },
        "34b5aa5861c641e19f9cceb4d3448631": {
          "model_module": "@jupyter-widgets/base",
          "model_module_version": "1.2.0",
          "model_name": "LayoutModel",
          "state": {
            "_model_module": "@jupyter-widgets/base",
            "_model_module_version": "1.2.0",
            "_model_name": "LayoutModel",
            "_view_count": null,
            "_view_module": "@jupyter-widgets/base",
            "_view_module_version": "1.2.0",
            "_view_name": "LayoutView",
            "align_content": null,
            "align_items": null,
            "align_self": null,
            "border": null,
            "bottom": null,
            "display": null,
            "flex": null,
            "flex_flow": null,
            "grid_area": null,
            "grid_auto_columns": null,
            "grid_auto_flow": null,
            "grid_auto_rows": null,
            "grid_column": null,
            "grid_gap": null,
            "grid_row": null,
            "grid_template_areas": null,
            "grid_template_columns": null,
            "grid_template_rows": null,
            "height": null,
            "justify_content": null,
            "justify_items": null,
            "left": null,
            "margin": null,
            "max_height": null,
            "max_width": null,
            "min_height": null,
            "min_width": null,
            "object_fit": null,
            "object_position": null,
            "order": null,
            "overflow": null,
            "overflow_x": null,
            "overflow_y": null,
            "padding": null,
            "right": null,
            "top": null,
            "visibility": null,
            "width": null
          }
        },
        "38b3e7dac3c44188a9a38221973f4819": {
          "model_module": "@jupyter-widgets/controls",
          "model_module_version": "1.5.0",
          "model_name": "FloatProgressModel",
          "state": {
            "_dom_classes": [],
            "_model_module": "@jupyter-widgets/controls",
            "_model_module_version": "1.5.0",
            "_model_name": "FloatProgressModel",
            "_view_count": null,
            "_view_module": "@jupyter-widgets/controls",
            "_view_module_version": "1.5.0",
            "_view_name": "ProgressView",
            "bar_style": "success",
            "description": "",
            "description_tooltip": null,
            "layout": "IPY_MODEL_9db60da23f8442318429f0bcf7b1ff72",
            "max": 435755784,
            "min": 0,
            "orientation": "horizontal",
            "style": "IPY_MODEL_b962e58213df4337be1979f1852b4b3b",
            "value": 435755784
          }
        },
        "3c8d3cea74b74800a35589fb9f4401ab": {
          "model_module": "@jupyter-widgets/base",
          "model_module_version": "1.2.0",
          "model_name": "LayoutModel",
          "state": {
            "_model_module": "@jupyter-widgets/base",
            "_model_module_version": "1.2.0",
            "_model_name": "LayoutModel",
            "_view_count": null,
            "_view_module": "@jupyter-widgets/base",
            "_view_module_version": "1.2.0",
            "_view_name": "LayoutView",
            "align_content": null,
            "align_items": null,
            "align_self": null,
            "border": null,
            "bottom": null,
            "display": null,
            "flex": null,
            "flex_flow": null,
            "grid_area": null,
            "grid_auto_columns": null,
            "grid_auto_flow": null,
            "grid_auto_rows": null,
            "grid_column": null,
            "grid_gap": null,
            "grid_row": null,
            "grid_template_areas": null,
            "grid_template_columns": null,
            "grid_template_rows": null,
            "height": null,
            "justify_content": null,
            "justify_items": null,
            "left": null,
            "margin": null,
            "max_height": null,
            "max_width": null,
            "min_height": null,
            "min_width": null,
            "object_fit": null,
            "object_position": null,
            "order": null,
            "overflow": null,
            "overflow_x": null,
            "overflow_y": null,
            "padding": null,
            "right": null,
            "top": null,
            "visibility": null,
            "width": null
          }
        },
        "3cac4dcc6b7f4560bbaaceef8f7d26c8": {
          "model_module": "@jupyter-widgets/controls",
          "model_module_version": "1.5.0",
          "model_name": "FloatProgressModel",
          "state": {
            "_dom_classes": [],
            "_model_module": "@jupyter-widgets/controls",
            "_model_module_version": "1.5.0",
            "_model_name": "FloatProgressModel",
            "_view_count": null,
            "_view_module": "@jupyter-widgets/controls",
            "_view_module_version": "1.5.0",
            "_view_name": "ProgressView",
            "bar_style": "success",
            "description": "",
            "description_tooltip": null,
            "layout": "IPY_MODEL_421a95d081b641f2b22ebb58a4418957",
            "max": 72813,
            "min": 0,
            "orientation": "horizontal",
            "style": "IPY_MODEL_9f93b4a271524fa49d1fa0e979f898d5",
            "value": 72813
          }
        },
        "3cfc949b1df24c20bf4b14f8c191495d": {
          "model_module": "@jupyter-widgets/controls",
          "model_module_version": "1.5.0",
          "model_name": "HTMLModel",
          "state": {
            "_dom_classes": [],
            "_model_module": "@jupyter-widgets/controls",
            "_model_module_version": "1.5.0",
            "_model_name": "HTMLModel",
            "_view_count": null,
            "_view_module": "@jupyter-widgets/controls",
            "_view_module_version": "1.5.0",
            "_view_name": "HTMLView",
            "description": "",
            "description_tooltip": null,
            "layout": "IPY_MODEL_556c9af961d343298ae6f48eefd05ef2",
            "placeholder": "​",
            "style": "IPY_MODEL_a4318b6e8e2b4b0a947b87a7d4a09e74",
            "value": " 872/872 [00:00&lt;00:00, 4643.09 examples/s]"
          }
        },
        "40674ed9f3124f62a34d1ae18907f955": {
          "model_module": "@jupyter-widgets/controls",
          "model_module_version": "1.5.0",
          "model_name": "FloatProgressModel",
          "state": {
            "_dom_classes": [],
            "_model_module": "@jupyter-widgets/controls",
            "_model_module_version": "1.5.0",
            "_model_name": "FloatProgressModel",
            "_view_count": null,
            "_view_module": "@jupyter-widgets/controls",
            "_view_module_version": "1.5.0",
            "_view_name": "ProgressView",
            "bar_style": "success",
            "description": "",
            "description_tooltip": null,
            "layout": "IPY_MODEL_2e6330e07d834c1f8af7901fee91ac4e",
            "max": 67349,
            "min": 0,
            "orientation": "horizontal",
            "style": "IPY_MODEL_bfd2bde812324ef69471bfec1d7821b8",
            "value": 67349
          }
        },
        "421a95d081b641f2b22ebb58a4418957": {
          "model_module": "@jupyter-widgets/base",
          "model_module_version": "1.2.0",
          "model_name": "LayoutModel",
          "state": {
            "_model_module": "@jupyter-widgets/base",
            "_model_module_version": "1.2.0",
            "_model_name": "LayoutModel",
            "_view_count": null,
            "_view_module": "@jupyter-widgets/base",
            "_view_module_version": "1.2.0",
            "_view_name": "LayoutView",
            "align_content": null,
            "align_items": null,
            "align_self": null,
            "border": null,
            "bottom": null,
            "display": null,
            "flex": null,
            "flex_flow": null,
            "grid_area": null,
            "grid_auto_columns": null,
            "grid_auto_flow": null,
            "grid_auto_rows": null,
            "grid_column": null,
            "grid_gap": null,
            "grid_row": null,
            "grid_template_areas": null,
            "grid_template_columns": null,
            "grid_template_rows": null,
            "height": null,
            "justify_content": null,
            "justify_items": null,
            "left": null,
            "margin": null,
            "max_height": null,
            "max_width": null,
            "min_height": null,
            "min_width": null,
            "object_fit": null,
            "object_position": null,
            "order": null,
            "overflow": null,
            "overflow_x": null,
            "overflow_y": null,
            "padding": null,
            "right": null,
            "top": null,
            "visibility": null,
            "width": null
          }
        },
        "43b3f927d2d74532b4f0a51b3d5de787": {
          "model_module": "@jupyter-widgets/controls",
          "model_module_version": "1.5.0",
          "model_name": "ProgressStyleModel",
          "state": {
            "_model_module": "@jupyter-widgets/controls",
            "_model_module_version": "1.5.0",
            "_model_name": "ProgressStyleModel",
            "_view_count": null,
            "_view_module": "@jupyter-widgets/base",
            "_view_module_version": "1.2.0",
            "_view_name": "StyleView",
            "bar_color": null,
            "description_width": ""
          }
        },
        "4483ad9a99c64fababd9673121396aad": {
          "model_module": "@jupyter-widgets/base",
          "model_module_version": "1.2.0",
          "model_name": "LayoutModel",
          "state": {
            "_model_module": "@jupyter-widgets/base",
            "_model_module_version": "1.2.0",
            "_model_name": "LayoutModel",
            "_view_count": null,
            "_view_module": "@jupyter-widgets/base",
            "_view_module_version": "1.2.0",
            "_view_name": "LayoutView",
            "align_content": null,
            "align_items": null,
            "align_self": null,
            "border": null,
            "bottom": null,
            "display": null,
            "flex": null,
            "flex_flow": null,
            "grid_area": null,
            "grid_auto_columns": null,
            "grid_auto_flow": null,
            "grid_auto_rows": null,
            "grid_column": null,
            "grid_gap": null,
            "grid_row": null,
            "grid_template_areas": null,
            "grid_template_columns": null,
            "grid_template_rows": null,
            "height": null,
            "justify_content": null,
            "justify_items": null,
            "left": null,
            "margin": null,
            "max_height": null,
            "max_width": null,
            "min_height": null,
            "min_width": null,
            "object_fit": null,
            "object_position": null,
            "order": null,
            "overflow": null,
            "overflow_x": null,
            "overflow_y": null,
            "padding": null,
            "right": null,
            "top": null,
            "visibility": null,
            "width": null
          }
        },
        "4535f25c21fa4b2b9bc1d0d5c0c11f2b": {
          "model_module": "@jupyter-widgets/controls",
          "model_module_version": "1.5.0",
          "model_name": "DescriptionStyleModel",
          "state": {
            "_model_module": "@jupyter-widgets/controls",
            "_model_module_version": "1.5.0",
            "_model_name": "DescriptionStyleModel",
            "_view_count": null,
            "_view_module": "@jupyter-widgets/base",
            "_view_module_version": "1.2.0",
            "_view_name": "StyleView",
            "description_width": ""
          }
        },
        "453d7cf84213494ebb2de8e9efa9afec": {
          "model_module": "@jupyter-widgets/controls",
          "model_module_version": "1.5.0",
          "model_name": "HTMLModel",
          "state": {
            "_dom_classes": [],
            "_model_module": "@jupyter-widgets/controls",
            "_model_module_version": "1.5.0",
            "_model_name": "HTMLModel",
            "_view_count": null,
            "_view_module": "@jupyter-widgets/controls",
            "_view_module_version": "1.5.0",
            "_view_name": "HTMLView",
            "description": "",
            "description_tooltip": null,
            "layout": "IPY_MODEL_c57f558be27445f88d9683c436182dc8",
            "placeholder": "​",
            "style": "IPY_MODEL_572bdab795224c6db8f4b227bde16439",
            "value": "Map: 100%"
          }
        },
        "48d51a8fa7af4f6d96285af6ed63bd13": {
          "model_module": "@jupyter-widgets/controls",
          "model_module_version": "1.5.0",
          "model_name": "DescriptionStyleModel",
          "state": {
            "_model_module": "@jupyter-widgets/controls",
            "_model_module_version": "1.5.0",
            "_model_name": "DescriptionStyleModel",
            "_view_count": null,
            "_view_module": "@jupyter-widgets/base",
            "_view_module_version": "1.2.0",
            "_view_name": "StyleView",
            "description_width": ""
          }
        },
        "49d1c1681b694940bf28160a47a74b87": {
          "model_module": "@jupyter-widgets/controls",
          "model_module_version": "1.5.0",
          "model_name": "DescriptionStyleModel",
          "state": {
            "_model_module": "@jupyter-widgets/controls",
            "_model_module_version": "1.5.0",
            "_model_name": "DescriptionStyleModel",
            "_view_count": null,
            "_view_module": "@jupyter-widgets/base",
            "_view_module_version": "1.2.0",
            "_view_name": "StyleView",
            "description_width": ""
          }
        },
        "4ad1a6cef61c4068960ce39322771eaa": {
          "model_module": "@jupyter-widgets/base",
          "model_module_version": "1.2.0",
          "model_name": "LayoutModel",
          "state": {
            "_model_module": "@jupyter-widgets/base",
            "_model_module_version": "1.2.0",
            "_model_name": "LayoutModel",
            "_view_count": null,
            "_view_module": "@jupyter-widgets/base",
            "_view_module_version": "1.2.0",
            "_view_name": "LayoutView",
            "align_content": null,
            "align_items": null,
            "align_self": null,
            "border": null,
            "bottom": null,
            "display": null,
            "flex": null,
            "flex_flow": null,
            "grid_area": null,
            "grid_auto_columns": null,
            "grid_auto_flow": null,
            "grid_auto_rows": null,
            "grid_column": null,
            "grid_gap": null,
            "grid_row": null,
            "grid_template_areas": null,
            "grid_template_columns": null,
            "grid_template_rows": null,
            "height": null,
            "justify_content": null,
            "justify_items": null,
            "left": null,
            "margin": null,
            "max_height": null,
            "max_width": null,
            "min_height": null,
            "min_width": null,
            "object_fit": null,
            "object_position": null,
            "order": null,
            "overflow": null,
            "overflow_x": null,
            "overflow_y": null,
            "padding": null,
            "right": null,
            "top": null,
            "visibility": null,
            "width": null
          }
        },
        "4dd26491409b424faf8984aeac3bb685": {
          "model_module": "@jupyter-widgets/base",
          "model_module_version": "1.2.0",
          "model_name": "LayoutModel",
          "state": {
            "_model_module": "@jupyter-widgets/base",
            "_model_module_version": "1.2.0",
            "_model_name": "LayoutModel",
            "_view_count": null,
            "_view_module": "@jupyter-widgets/base",
            "_view_module_version": "1.2.0",
            "_view_name": "LayoutView",
            "align_content": null,
            "align_items": null,
            "align_self": null,
            "border": null,
            "bottom": null,
            "display": null,
            "flex": null,
            "flex_flow": null,
            "grid_area": null,
            "grid_auto_columns": null,
            "grid_auto_flow": null,
            "grid_auto_rows": null,
            "grid_column": null,
            "grid_gap": null,
            "grid_row": null,
            "grid_template_areas": null,
            "grid_template_columns": null,
            "grid_template_rows": null,
            "height": null,
            "justify_content": null,
            "justify_items": null,
            "left": null,
            "margin": null,
            "max_height": null,
            "max_width": null,
            "min_height": null,
            "min_width": null,
            "object_fit": null,
            "object_position": null,
            "order": null,
            "overflow": null,
            "overflow_x": null,
            "overflow_y": null,
            "padding": null,
            "right": null,
            "top": null,
            "visibility": null,
            "width": null
          }
        },
        "4ec323a402834aeea79aec3526b99967": {
          "model_module": "@jupyter-widgets/controls",
          "model_module_version": "1.5.0",
          "model_name": "ProgressStyleModel",
          "state": {
            "_model_module": "@jupyter-widgets/controls",
            "_model_module_version": "1.5.0",
            "_model_name": "ProgressStyleModel",
            "_view_count": null,
            "_view_module": "@jupyter-widgets/base",
            "_view_module_version": "1.2.0",
            "_view_name": "StyleView",
            "bar_color": null,
            "description_width": ""
          }
        },
        "4f4da6eda6b6403290969d165ada2803": {
          "model_module": "@jupyter-widgets/controls",
          "model_module_version": "1.5.0",
          "model_name": "FloatProgressModel",
          "state": {
            "_dom_classes": [],
            "_model_module": "@jupyter-widgets/controls",
            "_model_module_version": "1.5.0",
            "_model_name": "FloatProgressModel",
            "_view_count": null,
            "_view_module": "@jupyter-widgets/controls",
            "_view_module_version": "1.5.0",
            "_view_name": "ProgressView",
            "bar_style": "success",
            "description": "",
            "description_tooltip": null,
            "layout": "IPY_MODEL_091ddd229fce4acf912e68a2e57ea40e",
            "max": 147787,
            "min": 0,
            "orientation": "horizontal",
            "style": "IPY_MODEL_1ae98241d5fd4655b327fd49b1f79861",
            "value": 147787
          }
        },
        "4f92f62a80144a739c48f5fe90ceb21d": {
          "model_module": "@jupyter-widgets/controls",
          "model_module_version": "1.5.0",
          "model_name": "DescriptionStyleModel",
          "state": {
            "_model_module": "@jupyter-widgets/controls",
            "_model_module_version": "1.5.0",
            "_model_name": "DescriptionStyleModel",
            "_view_count": null,
            "_view_module": "@jupyter-widgets/base",
            "_view_module_version": "1.2.0",
            "_view_name": "StyleView",
            "description_width": ""
          }
        },
        "52108521f70e4cc2901af820a54d34c6": {
          "model_module": "@jupyter-widgets/controls",
          "model_module_version": "1.5.0",
          "model_name": "HTMLModel",
          "state": {
            "_dom_classes": [],
            "_model_module": "@jupyter-widgets/controls",
            "_model_module_version": "1.5.0",
            "_model_name": "HTMLModel",
            "_view_count": null,
            "_view_module": "@jupyter-widgets/controls",
            "_view_module_version": "1.5.0",
            "_view_name": "HTMLView",
            "description": "",
            "description_tooltip": null,
            "layout": "IPY_MODEL_4dd26491409b424faf8984aeac3bb685",
            "placeholder": "​",
            "style": "IPY_MODEL_6a164afd650542beb6531a976fdd3e3b",
            "value": "Map: 100%"
          }
        },
        "527249f4a3cf45edb36ede40035a6bdc": {
          "model_module": "@jupyter-widgets/base",
          "model_module_version": "1.2.0",
          "model_name": "LayoutModel",
          "state": {
            "_model_module": "@jupyter-widgets/base",
            "_model_module_version": "1.2.0",
            "_model_name": "LayoutModel",
            "_view_count": null,
            "_view_module": "@jupyter-widgets/base",
            "_view_module_version": "1.2.0",
            "_view_name": "LayoutView",
            "align_content": null,
            "align_items": null,
            "align_self": null,
            "border": null,
            "bottom": null,
            "display": null,
            "flex": null,
            "flex_flow": null,
            "grid_area": null,
            "grid_auto_columns": null,
            "grid_auto_flow": null,
            "grid_auto_rows": null,
            "grid_column": null,
            "grid_gap": null,
            "grid_row": null,
            "grid_template_areas": null,
            "grid_template_columns": null,
            "grid_template_rows": null,
            "height": null,
            "justify_content": null,
            "justify_items": null,
            "left": null,
            "margin": null,
            "max_height": null,
            "max_width": null,
            "min_height": null,
            "min_width": null,
            "object_fit": null,
            "object_position": null,
            "order": null,
            "overflow": null,
            "overflow_x": null,
            "overflow_y": null,
            "padding": null,
            "right": null,
            "top": null,
            "visibility": null,
            "width": null
          }
        },
        "556c9af961d343298ae6f48eefd05ef2": {
          "model_module": "@jupyter-widgets/base",
          "model_module_version": "1.2.0",
          "model_name": "LayoutModel",
          "state": {
            "_model_module": "@jupyter-widgets/base",
            "_model_module_version": "1.2.0",
            "_model_name": "LayoutModel",
            "_view_count": null,
            "_view_module": "@jupyter-widgets/base",
            "_view_module_version": "1.2.0",
            "_view_name": "LayoutView",
            "align_content": null,
            "align_items": null,
            "align_self": null,
            "border": null,
            "bottom": null,
            "display": null,
            "flex": null,
            "flex_flow": null,
            "grid_area": null,
            "grid_auto_columns": null,
            "grid_auto_flow": null,
            "grid_auto_rows": null,
            "grid_column": null,
            "grid_gap": null,
            "grid_row": null,
            "grid_template_areas": null,
            "grid_template_columns": null,
            "grid_template_rows": null,
            "height": null,
            "justify_content": null,
            "justify_items": null,
            "left": null,
            "margin": null,
            "max_height": null,
            "max_width": null,
            "min_height": null,
            "min_width": null,
            "object_fit": null,
            "object_position": null,
            "order": null,
            "overflow": null,
            "overflow_x": null,
            "overflow_y": null,
            "padding": null,
            "right": null,
            "top": null,
            "visibility": null,
            "width": null
          }
        },
        "55bd7ce62d3c4d7facf33e7a5966e247": {
          "model_module": "@jupyter-widgets/controls",
          "model_module_version": "1.5.0",
          "model_name": "DescriptionStyleModel",
          "state": {
            "_model_module": "@jupyter-widgets/controls",
            "_model_module_version": "1.5.0",
            "_model_name": "DescriptionStyleModel",
            "_view_count": null,
            "_view_module": "@jupyter-widgets/base",
            "_view_module_version": "1.2.0",
            "_view_name": "StyleView",
            "description_width": ""
          }
        },
        "5629fb4ac1db44bf91b1a1036597e83e": {
          "model_module": "@jupyter-widgets/controls",
          "model_module_version": "1.5.0",
          "model_name": "HBoxModel",
          "state": {
            "_dom_classes": [],
            "_model_module": "@jupyter-widgets/controls",
            "_model_module_version": "1.5.0",
            "_model_name": "HBoxModel",
            "_view_count": null,
            "_view_module": "@jupyter-widgets/controls",
            "_view_module_version": "1.5.0",
            "_view_name": "HBoxView",
            "box_style": "",
            "children": [
              "IPY_MODEL_52108521f70e4cc2901af820a54d34c6",
              "IPY_MODEL_56d9c01f89684d40a351a0f6935d47f3",
              "IPY_MODEL_56e0bcb09bb4477c90c0a4b86d15ac1b"
            ],
            "layout": "IPY_MODEL_2dda0a14e7cb4b6e9188c80f6e28d9fb"
          }
        },
        "56d9c01f89684d40a351a0f6935d47f3": {
          "model_module": "@jupyter-widgets/controls",
          "model_module_version": "1.5.0",
          "model_name": "FloatProgressModel",
          "state": {
            "_dom_classes": [],
            "_model_module": "@jupyter-widgets/controls",
            "_model_module_version": "1.5.0",
            "_model_name": "FloatProgressModel",
            "_view_count": null,
            "_view_module": "@jupyter-widgets/controls",
            "_view_module_version": "1.5.0",
            "_view_name": "ProgressView",
            "bar_style": "success",
            "description": "",
            "description_tooltip": null,
            "layout": "IPY_MODEL_787ceb7b69e64266b2d10f926a7bcf4f",
            "max": 1821,
            "min": 0,
            "orientation": "horizontal",
            "style": "IPY_MODEL_818b6f2fe9fa45b7b45ae5fed7ac058e",
            "value": 1821
          }
        },
        "56e0bcb09bb4477c90c0a4b86d15ac1b": {
          "model_module": "@jupyter-widgets/controls",
          "model_module_version": "1.5.0",
          "model_name": "HTMLModel",
          "state": {
            "_dom_classes": [],
            "_model_module": "@jupyter-widgets/controls",
            "_model_module_version": "1.5.0",
            "_model_name": "HTMLModel",
            "_view_count": null,
            "_view_module": "@jupyter-widgets/controls",
            "_view_module_version": "1.5.0",
            "_view_name": "HTMLView",
            "description": "",
            "description_tooltip": null,
            "layout": "IPY_MODEL_b4f9ed54534945789ae37d6c6569a660",
            "placeholder": "​",
            "style": "IPY_MODEL_dc6fedb1f22c40ed9e468595e9fcb554",
            "value": " 1821/1821 [00:00&lt;00:00, 4583.39 examples/s]"
          }
        },
        "572bdab795224c6db8f4b227bde16439": {
          "model_module": "@jupyter-widgets/controls",
          "model_module_version": "1.5.0",
          "model_name": "DescriptionStyleModel",
          "state": {
            "_model_module": "@jupyter-widgets/controls",
            "_model_module_version": "1.5.0",
            "_model_name": "DescriptionStyleModel",
            "_view_count": null,
            "_view_module": "@jupyter-widgets/base",
            "_view_module_version": "1.2.0",
            "_view_name": "StyleView",
            "description_width": ""
          }
        },
        "587c2e58f2d749c5840a1e0c1e07f553": {
          "model_module": "@jupyter-widgets/controls",
          "model_module_version": "1.5.0",
          "model_name": "ProgressStyleModel",
          "state": {
            "_model_module": "@jupyter-widgets/controls",
            "_model_module_version": "1.5.0",
            "_model_name": "ProgressStyleModel",
            "_view_count": null,
            "_view_module": "@jupyter-widgets/base",
            "_view_module_version": "1.2.0",
            "_view_name": "StyleView",
            "bar_color": null,
            "description_width": ""
          }
        },
        "5c332d1f0ef741198c20b95136fb09fb": {
          "model_module": "@jupyter-widgets/controls",
          "model_module_version": "1.5.0",
          "model_name": "DescriptionStyleModel",
          "state": {
            "_model_module": "@jupyter-widgets/controls",
            "_model_module_version": "1.5.0",
            "_model_name": "DescriptionStyleModel",
            "_view_count": null,
            "_view_module": "@jupyter-widgets/base",
            "_view_module_version": "1.2.0",
            "_view_name": "StyleView",
            "description_width": ""
          }
        },
        "5d805f1fe61648789171613b99f9a8f9": {
          "model_module": "@jupyter-widgets/base",
          "model_module_version": "1.2.0",
          "model_name": "LayoutModel",
          "state": {
            "_model_module": "@jupyter-widgets/base",
            "_model_module_version": "1.2.0",
            "_model_name": "LayoutModel",
            "_view_count": null,
            "_view_module": "@jupyter-widgets/base",
            "_view_module_version": "1.2.0",
            "_view_name": "LayoutView",
            "align_content": null,
            "align_items": null,
            "align_self": null,
            "border": null,
            "bottom": null,
            "display": null,
            "flex": null,
            "flex_flow": null,
            "grid_area": null,
            "grid_auto_columns": null,
            "grid_auto_flow": null,
            "grid_auto_rows": null,
            "grid_column": null,
            "grid_gap": null,
            "grid_row": null,
            "grid_template_areas": null,
            "grid_template_columns": null,
            "grid_template_rows": null,
            "height": null,
            "justify_content": null,
            "justify_items": null,
            "left": null,
            "margin": null,
            "max_height": null,
            "max_width": null,
            "min_height": null,
            "min_width": null,
            "object_fit": null,
            "object_position": null,
            "order": null,
            "overflow": null,
            "overflow_x": null,
            "overflow_y": null,
            "padding": null,
            "right": null,
            "top": null,
            "visibility": null,
            "width": null
          }
        },
        "606b3ea721554dcf81fb65f32d104d28": {
          "model_module": "@jupyter-widgets/base",
          "model_module_version": "1.2.0",
          "model_name": "LayoutModel",
          "state": {
            "_model_module": "@jupyter-widgets/base",
            "_model_module_version": "1.2.0",
            "_model_name": "LayoutModel",
            "_view_count": null,
            "_view_module": "@jupyter-widgets/base",
            "_view_module_version": "1.2.0",
            "_view_name": "LayoutView",
            "align_content": null,
            "align_items": null,
            "align_self": null,
            "border": null,
            "bottom": null,
            "display": null,
            "flex": null,
            "flex_flow": null,
            "grid_area": null,
            "grid_auto_columns": null,
            "grid_auto_flow": null,
            "grid_auto_rows": null,
            "grid_column": null,
            "grid_gap": null,
            "grid_row": null,
            "grid_template_areas": null,
            "grid_template_columns": null,
            "grid_template_rows": null,
            "height": null,
            "justify_content": null,
            "justify_items": null,
            "left": null,
            "margin": null,
            "max_height": null,
            "max_width": null,
            "min_height": null,
            "min_width": null,
            "object_fit": null,
            "object_position": null,
            "order": null,
            "overflow": null,
            "overflow_x": null,
            "overflow_y": null,
            "padding": null,
            "right": null,
            "top": null,
            "visibility": null,
            "width": null
          }
        },
        "636647836da748de908f8fa94eb44ca0": {
          "model_module": "@jupyter-widgets/base",
          "model_module_version": "1.2.0",
          "model_name": "LayoutModel",
          "state": {
            "_model_module": "@jupyter-widgets/base",
            "_model_module_version": "1.2.0",
            "_model_name": "LayoutModel",
            "_view_count": null,
            "_view_module": "@jupyter-widgets/base",
            "_view_module_version": "1.2.0",
            "_view_name": "LayoutView",
            "align_content": null,
            "align_items": null,
            "align_self": null,
            "border": null,
            "bottom": null,
            "display": null,
            "flex": null,
            "flex_flow": null,
            "grid_area": null,
            "grid_auto_columns": null,
            "grid_auto_flow": null,
            "grid_auto_rows": null,
            "grid_column": null,
            "grid_gap": null,
            "grid_row": null,
            "grid_template_areas": null,
            "grid_template_columns": null,
            "grid_template_rows": null,
            "height": null,
            "justify_content": null,
            "justify_items": null,
            "left": null,
            "margin": null,
            "max_height": null,
            "max_width": null,
            "min_height": null,
            "min_width": null,
            "object_fit": null,
            "object_position": null,
            "order": null,
            "overflow": null,
            "overflow_x": null,
            "overflow_y": null,
            "padding": null,
            "right": null,
            "top": null,
            "visibility": null,
            "width": null
          }
        },
        "649393c544394d8ea4a5ceba04198b2f": {
          "model_module": "@jupyter-widgets/controls",
          "model_module_version": "1.5.0",
          "model_name": "HTMLModel",
          "state": {
            "_dom_classes": [],
            "_model_module": "@jupyter-widgets/controls",
            "_model_module_version": "1.5.0",
            "_model_name": "HTMLModel",
            "_view_count": null,
            "_view_module": "@jupyter-widgets/controls",
            "_view_module_version": "1.5.0",
            "_view_name": "HTMLView",
            "description": "",
            "description_tooltip": null,
            "layout": "IPY_MODEL_606b3ea721554dcf81fb65f32d104d28",
            "placeholder": "​",
            "style": "IPY_MODEL_262cfc2f70b94a09a84b48b50609530f",
            "value": "Downloading data: 100%"
          }
        },
        "676ae50d80e549a9a35eeadc24eb6edd": {
          "model_module": "@jupyter-widgets/controls",
          "model_module_version": "1.5.0",
          "model_name": "HTMLModel",
          "state": {
            "_dom_classes": [],
            "_model_module": "@jupyter-widgets/controls",
            "_model_module_version": "1.5.0",
            "_model_name": "HTMLModel",
            "_view_count": null,
            "_view_module": "@jupyter-widgets/controls",
            "_view_module_version": "1.5.0",
            "_view_name": "HTMLView",
            "description": "",
            "description_tooltip": null,
            "layout": "IPY_MODEL_1c1f2572b3914ad087fb1d113c3dc3b2",
            "placeholder": "​",
            "style": "IPY_MODEL_49d1c1681b694940bf28160a47a74b87",
            "value": " 5.27k/5.27k [00:00&lt;00:00, 258kB/s]"
          }
        },
        "6a164afd650542beb6531a976fdd3e3b": {
          "model_module": "@jupyter-widgets/controls",
          "model_module_version": "1.5.0",
          "model_name": "DescriptionStyleModel",
          "state": {
            "_model_module": "@jupyter-widgets/controls",
            "_model_module_version": "1.5.0",
            "_model_name": "DescriptionStyleModel",
            "_view_count": null,
            "_view_module": "@jupyter-widgets/base",
            "_view_module_version": "1.2.0",
            "_view_name": "StyleView",
            "description_width": ""
          }
        },
        "6b3f422e71c94a23ba8c6a0c0dc8fc54": {
          "model_module": "@jupyter-widgets/base",
          "model_module_version": "1.2.0",
          "model_name": "LayoutModel",
          "state": {
            "_model_module": "@jupyter-widgets/base",
            "_model_module_version": "1.2.0",
            "_model_name": "LayoutModel",
            "_view_count": null,
            "_view_module": "@jupyter-widgets/base",
            "_view_module_version": "1.2.0",
            "_view_name": "LayoutView",
            "align_content": null,
            "align_items": null,
            "align_self": null,
            "border": null,
            "bottom": null,
            "display": null,
            "flex": null,
            "flex_flow": null,
            "grid_area": null,
            "grid_auto_columns": null,
            "grid_auto_flow": null,
            "grid_auto_rows": null,
            "grid_column": null,
            "grid_gap": null,
            "grid_row": null,
            "grid_template_areas": null,
            "grid_template_columns": null,
            "grid_template_rows": null,
            "height": null,
            "justify_content": null,
            "justify_items": null,
            "left": null,
            "margin": null,
            "max_height": null,
            "max_width": null,
            "min_height": null,
            "min_width": null,
            "object_fit": null,
            "object_position": null,
            "order": null,
            "overflow": null,
            "overflow_x": null,
            "overflow_y": null,
            "padding": null,
            "right": null,
            "top": null,
            "visibility": null,
            "width": null
          }
        },
        "6e6b76ab688c447c8606f9c507d04e1d": {
          "model_module": "@jupyter-widgets/controls",
          "model_module_version": "1.5.0",
          "model_name": "FloatProgressModel",
          "state": {
            "_dom_classes": [],
            "_model_module": "@jupyter-widgets/controls",
            "_model_module_version": "1.5.0",
            "_model_name": "FloatProgressModel",
            "_view_count": null,
            "_view_module": "@jupyter-widgets/controls",
            "_view_module_version": "1.5.0",
            "_view_name": "ProgressView",
            "bar_style": "success",
            "description": "",
            "description_tooltip": null,
            "layout": "IPY_MODEL_b0acb112ce894e05a901a9fdbfafc11b",
            "max": 67349,
            "min": 0,
            "orientation": "horizontal",
            "style": "IPY_MODEL_0826d6a71d18461cb0c472ca8cbcee51",
            "value": 67349
          }
        },
        "703d663f2c1046b79f598cdac38595fe": {
          "model_module": "@jupyter-widgets/base",
          "model_module_version": "1.2.0",
          "model_name": "LayoutModel",
          "state": {
            "_model_module": "@jupyter-widgets/base",
            "_model_module_version": "1.2.0",
            "_model_name": "LayoutModel",
            "_view_count": null,
            "_view_module": "@jupyter-widgets/base",
            "_view_module_version": "1.2.0",
            "_view_name": "LayoutView",
            "align_content": null,
            "align_items": null,
            "align_self": null,
            "border": null,
            "bottom": null,
            "display": null,
            "flex": null,
            "flex_flow": null,
            "grid_area": null,
            "grid_auto_columns": null,
            "grid_auto_flow": null,
            "grid_auto_rows": null,
            "grid_column": null,
            "grid_gap": null,
            "grid_row": null,
            "grid_template_areas": null,
            "grid_template_columns": null,
            "grid_template_rows": null,
            "height": null,
            "justify_content": null,
            "justify_items": null,
            "left": null,
            "margin": null,
            "max_height": null,
            "max_width": null,
            "min_height": null,
            "min_width": null,
            "object_fit": null,
            "object_position": null,
            "order": null,
            "overflow": null,
            "overflow_x": null,
            "overflow_y": null,
            "padding": null,
            "right": null,
            "top": null,
            "visibility": null,
            "width": null
          }
        },
        "7252bdb8435b43d2be2dc6c28203993b": {
          "model_module": "@jupyter-widgets/controls",
          "model_module_version": "1.5.0",
          "model_name": "DescriptionStyleModel",
          "state": {
            "_model_module": "@jupyter-widgets/controls",
            "_model_module_version": "1.5.0",
            "_model_name": "DescriptionStyleModel",
            "_view_count": null,
            "_view_module": "@jupyter-widgets/base",
            "_view_module_version": "1.2.0",
            "_view_name": "StyleView",
            "description_width": ""
          }
        },
        "757be8206a7c4bfe80eb7363c25fd932": {
          "model_module": "@jupyter-widgets/controls",
          "model_module_version": "1.5.0",
          "model_name": "HBoxModel",
          "state": {
            "_dom_classes": [],
            "_model_module": "@jupyter-widgets/controls",
            "_model_module_version": "1.5.0",
            "_model_name": "HBoxModel",
            "_view_count": null,
            "_view_module": "@jupyter-widgets/controls",
            "_view_module_version": "1.5.0",
            "_view_name": "HBoxView",
            "box_style": "",
            "children": [
              "IPY_MODEL_dd59a8e6ed49440580de0f92402fd991",
              "IPY_MODEL_96778ef60ace4bbf9dec7026582c9d8d",
              "IPY_MODEL_3cfc949b1df24c20bf4b14f8c191495d"
            ],
            "layout": "IPY_MODEL_d0b3046c1d4b4c8ebaca215c79b7ed8d"
          }
        },
        "78424f50867247d1b80478491dd7492c": {
          "model_module": "@jupyter-widgets/base",
          "model_module_version": "1.2.0",
          "model_name": "LayoutModel",
          "state": {
            "_model_module": "@jupyter-widgets/base",
            "_model_module_version": "1.2.0",
            "_model_name": "LayoutModel",
            "_view_count": null,
            "_view_module": "@jupyter-widgets/base",
            "_view_module_version": "1.2.0",
            "_view_name": "LayoutView",
            "align_content": null,
            "align_items": null,
            "align_self": null,
            "border": null,
            "bottom": null,
            "display": null,
            "flex": null,
            "flex_flow": null,
            "grid_area": null,
            "grid_auto_columns": null,
            "grid_auto_flow": null,
            "grid_auto_rows": null,
            "grid_column": null,
            "grid_gap": null,
            "grid_row": null,
            "grid_template_areas": null,
            "grid_template_columns": null,
            "grid_template_rows": null,
            "height": null,
            "justify_content": null,
            "justify_items": null,
            "left": null,
            "margin": null,
            "max_height": null,
            "max_width": null,
            "min_height": null,
            "min_width": null,
            "object_fit": null,
            "object_position": null,
            "order": null,
            "overflow": null,
            "overflow_x": null,
            "overflow_y": null,
            "padding": null,
            "right": null,
            "top": null,
            "visibility": null,
            "width": null
          }
        },
        "787ceb7b69e64266b2d10f926a7bcf4f": {
          "model_module": "@jupyter-widgets/base",
          "model_module_version": "1.2.0",
          "model_name": "LayoutModel",
          "state": {
            "_model_module": "@jupyter-widgets/base",
            "_model_module_version": "1.2.0",
            "_model_name": "LayoutModel",
            "_view_count": null,
            "_view_module": "@jupyter-widgets/base",
            "_view_module_version": "1.2.0",
            "_view_name": "LayoutView",
            "align_content": null,
            "align_items": null,
            "align_self": null,
            "border": null,
            "bottom": null,
            "display": null,
            "flex": null,
            "flex_flow": null,
            "grid_area": null,
            "grid_auto_columns": null,
            "grid_auto_flow": null,
            "grid_auto_rows": null,
            "grid_column": null,
            "grid_gap": null,
            "grid_row": null,
            "grid_template_areas": null,
            "grid_template_columns": null,
            "grid_template_rows": null,
            "height": null,
            "justify_content": null,
            "justify_items": null,
            "left": null,
            "margin": null,
            "max_height": null,
            "max_width": null,
            "min_height": null,
            "min_width": null,
            "object_fit": null,
            "object_position": null,
            "order": null,
            "overflow": null,
            "overflow_x": null,
            "overflow_y": null,
            "padding": null,
            "right": null,
            "top": null,
            "visibility": null,
            "width": null
          }
        },
        "7942b0036f6841d98ad14eab18ada15d": {
          "model_module": "@jupyter-widgets/controls",
          "model_module_version": "1.5.0",
          "model_name": "FloatProgressModel",
          "state": {
            "_dom_classes": [],
            "_model_module": "@jupyter-widgets/controls",
            "_model_module_version": "1.5.0",
            "_model_name": "FloatProgressModel",
            "_view_count": null,
            "_view_module": "@jupyter-widgets/controls",
            "_view_module_version": "1.5.0",
            "_view_name": "ProgressView",
            "bar_style": "success",
            "description": "",
            "description_tooltip": null,
            "layout": "IPY_MODEL_78424f50867247d1b80478491dd7492c",
            "max": 5274,
            "min": 0,
            "orientation": "horizontal",
            "style": "IPY_MODEL_587c2e58f2d749c5840a1e0c1e07f553",
            "value": 5274
          }
        },
        "79789afcd1794618abb8687230e124dc": {
          "model_module": "@jupyter-widgets/controls",
          "model_module_version": "1.5.0",
          "model_name": "DescriptionStyleModel",
          "state": {
            "_model_module": "@jupyter-widgets/controls",
            "_model_module_version": "1.5.0",
            "_model_name": "DescriptionStyleModel",
            "_view_count": null,
            "_view_module": "@jupyter-widgets/base",
            "_view_module_version": "1.2.0",
            "_view_name": "StyleView",
            "description_width": ""
          }
        },
        "7bcc782b2bfe4fe9a6d5d61be42b4fdd": {
          "model_module": "@jupyter-widgets/controls",
          "model_module_version": "1.5.0",
          "model_name": "DescriptionStyleModel",
          "state": {
            "_model_module": "@jupyter-widgets/controls",
            "_model_module_version": "1.5.0",
            "_model_name": "DescriptionStyleModel",
            "_view_count": null,
            "_view_module": "@jupyter-widgets/base",
            "_view_module_version": "1.2.0",
            "_view_name": "StyleView",
            "description_width": ""
          }
        },
        "818b6f2fe9fa45b7b45ae5fed7ac058e": {
          "model_module": "@jupyter-widgets/controls",
          "model_module_version": "1.5.0",
          "model_name": "ProgressStyleModel",
          "state": {
            "_model_module": "@jupyter-widgets/controls",
            "_model_module_version": "1.5.0",
            "_model_name": "ProgressStyleModel",
            "_view_count": null,
            "_view_module": "@jupyter-widgets/base",
            "_view_module_version": "1.2.0",
            "_view_name": "StyleView",
            "bar_color": null,
            "description_width": ""
          }
        },
        "823cec86de96408bbcac20ff0236f18d": {
          "model_module": "@jupyter-widgets/base",
          "model_module_version": "1.2.0",
          "model_name": "LayoutModel",
          "state": {
            "_model_module": "@jupyter-widgets/base",
            "_model_module_version": "1.2.0",
            "_model_name": "LayoutModel",
            "_view_count": null,
            "_view_module": "@jupyter-widgets/base",
            "_view_module_version": "1.2.0",
            "_view_name": "LayoutView",
            "align_content": null,
            "align_items": null,
            "align_self": null,
            "border": null,
            "bottom": null,
            "display": null,
            "flex": null,
            "flex_flow": null,
            "grid_area": null,
            "grid_auto_columns": null,
            "grid_auto_flow": null,
            "grid_auto_rows": null,
            "grid_column": null,
            "grid_gap": null,
            "grid_row": null,
            "grid_template_areas": null,
            "grid_template_columns": null,
            "grid_template_rows": null,
            "height": null,
            "justify_content": null,
            "justify_items": null,
            "left": null,
            "margin": null,
            "max_height": null,
            "max_width": null,
            "min_height": null,
            "min_width": null,
            "object_fit": null,
            "object_position": null,
            "order": null,
            "overflow": null,
            "overflow_x": null,
            "overflow_y": null,
            "padding": null,
            "right": null,
            "top": null,
            "visibility": null,
            "width": null
          }
        },
        "846e066a56f34103a4c93327bdaf890f": {
          "model_module": "@jupyter-widgets/controls",
          "model_module_version": "1.5.0",
          "model_name": "HTMLModel",
          "state": {
            "_dom_classes": [],
            "_model_module": "@jupyter-widgets/controls",
            "_model_module_version": "1.5.0",
            "_model_name": "HTMLModel",
            "_view_count": null,
            "_view_module": "@jupyter-widgets/controls",
            "_view_module_version": "1.5.0",
            "_view_name": "HTMLView",
            "description": "",
            "description_tooltip": null,
            "layout": "IPY_MODEL_a9528638a1e64adfada1f77664e568ae",
            "placeholder": "​",
            "style": "IPY_MODEL_79789afcd1794618abb8687230e124dc",
            "value": "Map: 100%"
          }
        },
        "891ca4ea41bd49a09c1d9d01aee37c29": {
          "model_module": "@jupyter-widgets/base",
          "model_module_version": "1.2.0",
          "model_name": "LayoutModel",
          "state": {
            "_model_module": "@jupyter-widgets/base",
            "_model_module_version": "1.2.0",
            "_model_name": "LayoutModel",
            "_view_count": null,
            "_view_module": "@jupyter-widgets/base",
            "_view_module_version": "1.2.0",
            "_view_name": "LayoutView",
            "align_content": null,
            "align_items": null,
            "align_self": null,
            "border": null,
            "bottom": null,
            "display": null,
            "flex": null,
            "flex_flow": null,
            "grid_area": null,
            "grid_auto_columns": null,
            "grid_auto_flow": null,
            "grid_auto_rows": null,
            "grid_column": null,
            "grid_gap": null,
            "grid_row": null,
            "grid_template_areas": null,
            "grid_template_columns": null,
            "grid_template_rows": null,
            "height": null,
            "justify_content": null,
            "justify_items": null,
            "left": null,
            "margin": null,
            "max_height": null,
            "max_width": null,
            "min_height": null,
            "min_width": null,
            "object_fit": null,
            "object_position": null,
            "order": null,
            "overflow": null,
            "overflow_x": null,
            "overflow_y": null,
            "padding": null,
            "right": null,
            "top": null,
            "visibility": null,
            "width": null
          }
        },
        "8daedf95198844c6aa74845e9f0cee64": {
          "model_module": "@jupyter-widgets/base",
          "model_module_version": "1.2.0",
          "model_name": "LayoutModel",
          "state": {
            "_model_module": "@jupyter-widgets/base",
            "_model_module_version": "1.2.0",
            "_model_name": "LayoutModel",
            "_view_count": null,
            "_view_module": "@jupyter-widgets/base",
            "_view_module_version": "1.2.0",
            "_view_name": "LayoutView",
            "align_content": null,
            "align_items": null,
            "align_self": null,
            "border": null,
            "bottom": null,
            "display": null,
            "flex": null,
            "flex_flow": null,
            "grid_area": null,
            "grid_auto_columns": null,
            "grid_auto_flow": null,
            "grid_auto_rows": null,
            "grid_column": null,
            "grid_gap": null,
            "grid_row": null,
            "grid_template_areas": null,
            "grid_template_columns": null,
            "grid_template_rows": null,
            "height": null,
            "justify_content": null,
            "justify_items": null,
            "left": null,
            "margin": null,
            "max_height": null,
            "max_width": null,
            "min_height": null,
            "min_width": null,
            "object_fit": null,
            "object_position": null,
            "order": null,
            "overflow": null,
            "overflow_x": null,
            "overflow_y": null,
            "padding": null,
            "right": null,
            "top": null,
            "visibility": null,
            "width": null
          }
        },
        "92bec3da60c84192b7979d4bff0f03d6": {
          "model_module": "@jupyter-widgets/base",
          "model_module_version": "1.2.0",
          "model_name": "LayoutModel",
          "state": {
            "_model_module": "@jupyter-widgets/base",
            "_model_module_version": "1.2.0",
            "_model_name": "LayoutModel",
            "_view_count": null,
            "_view_module": "@jupyter-widgets/base",
            "_view_module_version": "1.2.0",
            "_view_name": "LayoutView",
            "align_content": null,
            "align_items": null,
            "align_self": null,
            "border": null,
            "bottom": null,
            "display": null,
            "flex": null,
            "flex_flow": null,
            "grid_area": null,
            "grid_auto_columns": null,
            "grid_auto_flow": null,
            "grid_auto_rows": null,
            "grid_column": null,
            "grid_gap": null,
            "grid_row": null,
            "grid_template_areas": null,
            "grid_template_columns": null,
            "grid_template_rows": null,
            "height": null,
            "justify_content": null,
            "justify_items": null,
            "left": null,
            "margin": null,
            "max_height": null,
            "max_width": null,
            "min_height": null,
            "min_width": null,
            "object_fit": null,
            "object_position": null,
            "order": null,
            "overflow": null,
            "overflow_x": null,
            "overflow_y": null,
            "padding": null,
            "right": null,
            "top": null,
            "visibility": null,
            "width": null
          }
        },
        "9413ae8a88c74904a47021b2ea9d5961": {
          "model_module": "@jupyter-widgets/controls",
          "model_module_version": "1.5.0",
          "model_name": "DescriptionStyleModel",
          "state": {
            "_model_module": "@jupyter-widgets/controls",
            "_model_module_version": "1.5.0",
            "_model_name": "DescriptionStyleModel",
            "_view_count": null,
            "_view_module": "@jupyter-widgets/base",
            "_view_module_version": "1.2.0",
            "_view_name": "StyleView",
            "description_width": ""
          }
        },
        "96778ef60ace4bbf9dec7026582c9d8d": {
          "model_module": "@jupyter-widgets/controls",
          "model_module_version": "1.5.0",
          "model_name": "FloatProgressModel",
          "state": {
            "_dom_classes": [],
            "_model_module": "@jupyter-widgets/controls",
            "_model_module_version": "1.5.0",
            "_model_name": "FloatProgressModel",
            "_view_count": null,
            "_view_module": "@jupyter-widgets/controls",
            "_view_module_version": "1.5.0",
            "_view_name": "ProgressView",
            "bar_style": "success",
            "description": "",
            "description_tooltip": null,
            "layout": "IPY_MODEL_0c4c42a8df5b481b9216ec457a24a940",
            "max": 872,
            "min": 0,
            "orientation": "horizontal",
            "style": "IPY_MODEL_d2528453d12b4fa6bd003a40b20b148b",
            "value": 872
          }
        },
        "9b00e4661fcf48c5a4426d73f4a98027": {
          "model_module": "@jupyter-widgets/controls",
          "model_module_version": "1.5.0",
          "model_name": "DescriptionStyleModel",
          "state": {
            "_model_module": "@jupyter-widgets/controls",
            "_model_module_version": "1.5.0",
            "_model_name": "DescriptionStyleModel",
            "_view_count": null,
            "_view_module": "@jupyter-widgets/base",
            "_view_module_version": "1.2.0",
            "_view_name": "StyleView",
            "description_width": ""
          }
        },
        "9db60da23f8442318429f0bcf7b1ff72": {
          "model_module": "@jupyter-widgets/base",
          "model_module_version": "1.2.0",
          "model_name": "LayoutModel",
          "state": {
            "_model_module": "@jupyter-widgets/base",
            "_model_module_version": "1.2.0",
            "_model_name": "LayoutModel",
            "_view_count": null,
            "_view_module": "@jupyter-widgets/base",
            "_view_module_version": "1.2.0",
            "_view_name": "LayoutView",
            "align_content": null,
            "align_items": null,
            "align_self": null,
            "border": null,
            "bottom": null,
            "display": null,
            "flex": null,
            "flex_flow": null,
            "grid_area": null,
            "grid_auto_columns": null,
            "grid_auto_flow": null,
            "grid_auto_rows": null,
            "grid_column": null,
            "grid_gap": null,
            "grid_row": null,
            "grid_template_areas": null,
            "grid_template_columns": null,
            "grid_template_rows": null,
            "height": null,
            "justify_content": null,
            "justify_items": null,
            "left": null,
            "margin": null,
            "max_height": null,
            "max_width": null,
            "min_height": null,
            "min_width": null,
            "object_fit": null,
            "object_position": null,
            "order": null,
            "overflow": null,
            "overflow_x": null,
            "overflow_y": null,
            "padding": null,
            "right": null,
            "top": null,
            "visibility": null,
            "width": null
          }
        },
        "9eb68a3bf0704d5ba45fd1ce43c84d59": {
          "model_module": "@jupyter-widgets/controls",
          "model_module_version": "1.5.0",
          "model_name": "HBoxModel",
          "state": {
            "_dom_classes": [],
            "_model_module": "@jupyter-widgets/controls",
            "_model_module_version": "1.5.0",
            "_model_name": "HBoxModel",
            "_view_count": null,
            "_view_module": "@jupyter-widgets/controls",
            "_view_module_version": "1.5.0",
            "_view_name": "HBoxView",
            "box_style": "",
            "children": [
              "IPY_MODEL_649393c544394d8ea4a5ceba04198b2f",
              "IPY_MODEL_0da24f284d7845eb8a7ba410560de1c0",
              "IPY_MODEL_23f0448c178a4ec295257858f2a191df"
            ],
            "layout": "IPY_MODEL_4483ad9a99c64fababd9673121396aad"
          }
        },
        "9f93b4a271524fa49d1fa0e979f898d5": {
          "model_module": "@jupyter-widgets/controls",
          "model_module_version": "1.5.0",
          "model_name": "ProgressStyleModel",
          "state": {
            "_model_module": "@jupyter-widgets/controls",
            "_model_module_version": "1.5.0",
            "_model_name": "ProgressStyleModel",
            "_view_count": null,
            "_view_module": "@jupyter-widgets/base",
            "_view_module_version": "1.2.0",
            "_view_name": "StyleView",
            "bar_color": null,
            "description_width": ""
          }
        },
        "a33b24741dfe4e9d8980a0c219d87b3a": {
          "model_module": "@jupyter-widgets/base",
          "model_module_version": "1.2.0",
          "model_name": "LayoutModel",
          "state": {
            "_model_module": "@jupyter-widgets/base",
            "_model_module_version": "1.2.0",
            "_model_name": "LayoutModel",
            "_view_count": null,
            "_view_module": "@jupyter-widgets/base",
            "_view_module_version": "1.2.0",
            "_view_name": "LayoutView",
            "align_content": null,
            "align_items": null,
            "align_self": null,
            "border": null,
            "bottom": null,
            "display": null,
            "flex": null,
            "flex_flow": null,
            "grid_area": null,
            "grid_auto_columns": null,
            "grid_auto_flow": null,
            "grid_auto_rows": null,
            "grid_column": null,
            "grid_gap": null,
            "grid_row": null,
            "grid_template_areas": null,
            "grid_template_columns": null,
            "grid_template_rows": null,
            "height": null,
            "justify_content": null,
            "justify_items": null,
            "left": null,
            "margin": null,
            "max_height": null,
            "max_width": null,
            "min_height": null,
            "min_width": null,
            "object_fit": null,
            "object_position": null,
            "order": null,
            "overflow": null,
            "overflow_x": null,
            "overflow_y": null,
            "padding": null,
            "right": null,
            "top": null,
            "visibility": null,
            "width": null
          }
        },
        "a4318b6e8e2b4b0a947b87a7d4a09e74": {
          "model_module": "@jupyter-widgets/controls",
          "model_module_version": "1.5.0",
          "model_name": "DescriptionStyleModel",
          "state": {
            "_model_module": "@jupyter-widgets/controls",
            "_model_module_version": "1.5.0",
            "_model_name": "DescriptionStyleModel",
            "_view_count": null,
            "_view_module": "@jupyter-widgets/base",
            "_view_module_version": "1.2.0",
            "_view_name": "StyleView",
            "description_width": ""
          }
        },
        "a53122e4027c457b8db03f8af4ba4f9a": {
          "model_module": "@jupyter-widgets/controls",
          "model_module_version": "1.5.0",
          "model_name": "ProgressStyleModel",
          "state": {
            "_model_module": "@jupyter-widgets/controls",
            "_model_module_version": "1.5.0",
            "_model_name": "ProgressStyleModel",
            "_view_count": null,
            "_view_module": "@jupyter-widgets/base",
            "_view_module_version": "1.2.0",
            "_view_name": "StyleView",
            "bar_color": null,
            "description_width": ""
          }
        },
        "a545348a67d64293a3f885d0dbe03f97": {
          "model_module": "@jupyter-widgets/controls",
          "model_module_version": "1.5.0",
          "model_name": "HTMLModel",
          "state": {
            "_dom_classes": [],
            "_model_module": "@jupyter-widgets/controls",
            "_model_module_version": "1.5.0",
            "_model_name": "HTMLModel",
            "_view_count": null,
            "_view_module": "@jupyter-widgets/controls",
            "_view_module_version": "1.5.0",
            "_view_name": "HTMLView",
            "description": "",
            "description_tooltip": null,
            "layout": "IPY_MODEL_f52a6435e47f4fffab4148fa824b20da",
            "placeholder": "​",
            "style": "IPY_MODEL_4f92f62a80144a739c48f5fe90ceb21d",
            "value": " 148k/148k [00:00&lt;00:00, 844kB/s]"
          }
        },
        "a6de33a9aeae4b1987b188b68b8ffd08": {
          "model_module": "@jupyter-widgets/controls",
          "model_module_version": "1.5.0",
          "model_name": "HTMLModel",
          "state": {
            "_dom_classes": [],
            "_model_module": "@jupyter-widgets/controls",
            "_model_module_version": "1.5.0",
            "_model_name": "HTMLModel",
            "_view_count": null,
            "_view_module": "@jupyter-widgets/controls",
            "_view_module_version": "1.5.0",
            "_view_name": "HTMLView",
            "description": "",
            "description_tooltip": null,
            "layout": "IPY_MODEL_1cb48716495f431a867c2bf3f7469c97",
            "placeholder": "​",
            "style": "IPY_MODEL_24013e90be1740c182310855ca24b3af",
            "value": " 1821/1821 [00:00&lt;00:00, 37400.55 examples/s]"
          }
        },
        "a7ddf95b5fee42c4914d0256dfa9e5ab": {
          "model_module": "@jupyter-widgets/controls",
          "model_module_version": "1.5.0",
          "model_name": "FloatProgressModel",
          "state": {
            "_dom_classes": [],
            "_model_module": "@jupyter-widgets/controls",
            "_model_module_version": "1.5.0",
            "_model_name": "FloatProgressModel",
            "_view_count": null,
            "_view_module": "@jupyter-widgets/controls",
            "_view_module_version": "1.5.0",
            "_view_name": "ProgressView",
            "bar_style": "success",
            "description": "",
            "description_tooltip": null,
            "layout": "IPY_MODEL_1c435ec3f734472dab870321610b1f00",
            "max": 872,
            "min": 0,
            "orientation": "horizontal",
            "style": "IPY_MODEL_c85d43f5cc0a410ab4da5f0da0455f1a",
            "value": 872
          }
        },
        "a7fc04d53e844e82b37bbef52f0fdef1": {
          "model_module": "@jupyter-widgets/controls",
          "model_module_version": "1.5.0",
          "model_name": "DescriptionStyleModel",
          "state": {
            "_model_module": "@jupyter-widgets/controls",
            "_model_module_version": "1.5.0",
            "_model_name": "DescriptionStyleModel",
            "_view_count": null,
            "_view_module": "@jupyter-widgets/base",
            "_view_module_version": "1.2.0",
            "_view_name": "StyleView",
            "description_width": ""
          }
        },
        "a9528638a1e64adfada1f77664e568ae": {
          "model_module": "@jupyter-widgets/base",
          "model_module_version": "1.2.0",
          "model_name": "LayoutModel",
          "state": {
            "_model_module": "@jupyter-widgets/base",
            "_model_module_version": "1.2.0",
            "_model_name": "LayoutModel",
            "_view_count": null,
            "_view_module": "@jupyter-widgets/base",
            "_view_module_version": "1.2.0",
            "_view_name": "LayoutView",
            "align_content": null,
            "align_items": null,
            "align_self": null,
            "border": null,
            "bottom": null,
            "display": null,
            "flex": null,
            "flex_flow": null,
            "grid_area": null,
            "grid_auto_columns": null,
            "grid_auto_flow": null,
            "grid_auto_rows": null,
            "grid_column": null,
            "grid_gap": null,
            "grid_row": null,
            "grid_template_areas": null,
            "grid_template_columns": null,
            "grid_template_rows": null,
            "height": null,
            "justify_content": null,
            "justify_items": null,
            "left": null,
            "margin": null,
            "max_height": null,
            "max_width": null,
            "min_height": null,
            "min_width": null,
            "object_fit": null,
            "object_position": null,
            "order": null,
            "overflow": null,
            "overflow_x": null,
            "overflow_y": null,
            "padding": null,
            "right": null,
            "top": null,
            "visibility": null,
            "width": null
          }
        },
        "b09e87425d9b4f4385f348f477452c00": {
          "model_module": "@jupyter-widgets/controls",
          "model_module_version": "1.5.0",
          "model_name": "HTMLModel",
          "state": {
            "_dom_classes": [],
            "_model_module": "@jupyter-widgets/controls",
            "_model_module_version": "1.5.0",
            "_model_name": "HTMLModel",
            "_view_count": null,
            "_view_module": "@jupyter-widgets/controls",
            "_view_module_version": "1.5.0",
            "_view_name": "HTMLView",
            "description": "",
            "description_tooltip": null,
            "layout": "IPY_MODEL_636647836da748de908f8fa94eb44ca0",
            "placeholder": "​",
            "style": "IPY_MODEL_7bcc782b2bfe4fe9a6d5d61be42b4fdd",
            "value": " 67349/67349 [00:14&lt;00:00, 4775.35 examples/s]"
          }
        },
        "b0acb112ce894e05a901a9fdbfafc11b": {
          "model_module": "@jupyter-widgets/base",
          "model_module_version": "1.2.0",
          "model_name": "LayoutModel",
          "state": {
            "_model_module": "@jupyter-widgets/base",
            "_model_module_version": "1.2.0",
            "_model_name": "LayoutModel",
            "_view_count": null,
            "_view_module": "@jupyter-widgets/base",
            "_view_module_version": "1.2.0",
            "_view_name": "LayoutView",
            "align_content": null,
            "align_items": null,
            "align_self": null,
            "border": null,
            "bottom": null,
            "display": null,
            "flex": null,
            "flex_flow": null,
            "grid_area": null,
            "grid_auto_columns": null,
            "grid_auto_flow": null,
            "grid_auto_rows": null,
            "grid_column": null,
            "grid_gap": null,
            "grid_row": null,
            "grid_template_areas": null,
            "grid_template_columns": null,
            "grid_template_rows": null,
            "height": null,
            "justify_content": null,
            "justify_items": null,
            "left": null,
            "margin": null,
            "max_height": null,
            "max_width": null,
            "min_height": null,
            "min_width": null,
            "object_fit": null,
            "object_position": null,
            "order": null,
            "overflow": null,
            "overflow_x": null,
            "overflow_y": null,
            "padding": null,
            "right": null,
            "top": null,
            "visibility": null,
            "width": null
          }
        },
        "b33171ffd5fd4da6a77a30c352f3acd7": {
          "model_module": "@jupyter-widgets/controls",
          "model_module_version": "1.5.0",
          "model_name": "DescriptionStyleModel",
          "state": {
            "_model_module": "@jupyter-widgets/controls",
            "_model_module_version": "1.5.0",
            "_model_name": "DescriptionStyleModel",
            "_view_count": null,
            "_view_module": "@jupyter-widgets/base",
            "_view_module_version": "1.2.0",
            "_view_name": "StyleView",
            "description_width": ""
          }
        },
        "b4f9ed54534945789ae37d6c6569a660": {
          "model_module": "@jupyter-widgets/base",
          "model_module_version": "1.2.0",
          "model_name": "LayoutModel",
          "state": {
            "_model_module": "@jupyter-widgets/base",
            "_model_module_version": "1.2.0",
            "_model_name": "LayoutModel",
            "_view_count": null,
            "_view_module": "@jupyter-widgets/base",
            "_view_module_version": "1.2.0",
            "_view_name": "LayoutView",
            "align_content": null,
            "align_items": null,
            "align_self": null,
            "border": null,
            "bottom": null,
            "display": null,
            "flex": null,
            "flex_flow": null,
            "grid_area": null,
            "grid_auto_columns": null,
            "grid_auto_flow": null,
            "grid_auto_rows": null,
            "grid_column": null,
            "grid_gap": null,
            "grid_row": null,
            "grid_template_areas": null,
            "grid_template_columns": null,
            "grid_template_rows": null,
            "height": null,
            "justify_content": null,
            "justify_items": null,
            "left": null,
            "margin": null,
            "max_height": null,
            "max_width": null,
            "min_height": null,
            "min_width": null,
            "object_fit": null,
            "object_position": null,
            "order": null,
            "overflow": null,
            "overflow_x": null,
            "overflow_y": null,
            "padding": null,
            "right": null,
            "top": null,
            "visibility": null,
            "width": null
          }
        },
        "b962e58213df4337be1979f1852b4b3b": {
          "model_module": "@jupyter-widgets/controls",
          "model_module_version": "1.5.0",
          "model_name": "ProgressStyleModel",
          "state": {
            "_model_module": "@jupyter-widgets/controls",
            "_model_module_version": "1.5.0",
            "_model_name": "ProgressStyleModel",
            "_view_count": null,
            "_view_module": "@jupyter-widgets/base",
            "_view_module_version": "1.2.0",
            "_view_name": "StyleView",
            "bar_color": null,
            "description_width": ""
          }
        },
        "b9706cc451f64ddab992cbac87737a18": {
          "model_module": "@jupyter-widgets/controls",
          "model_module_version": "1.5.0",
          "model_name": "HBoxModel",
          "state": {
            "_dom_classes": [],
            "_model_module": "@jupyter-widgets/controls",
            "_model_module_version": "1.5.0",
            "_model_name": "HBoxModel",
            "_view_count": null,
            "_view_module": "@jupyter-widgets/controls",
            "_view_module_version": "1.5.0",
            "_view_name": "HBoxView",
            "box_style": "",
            "children": [
              "IPY_MODEL_453d7cf84213494ebb2de8e9efa9afec",
              "IPY_MODEL_1484eaf6792944d2b4bc5a032bb265c1",
              "IPY_MODEL_e67b5d72197f4570bef7f7513840e5c0"
            ],
            "layout": "IPY_MODEL_1d35fab59a9340e3817cd7c1ed26ad8d"
          }
        },
        "ba3bc3d4895a423784eab949715bd2cb": {
          "model_module": "@jupyter-widgets/controls",
          "model_module_version": "1.5.0",
          "model_name": "HTMLModel",
          "state": {
            "_dom_classes": [],
            "_model_module": "@jupyter-widgets/controls",
            "_model_module_version": "1.5.0",
            "_model_name": "HTMLModel",
            "_view_count": null,
            "_view_module": "@jupyter-widgets/controls",
            "_view_module_version": "1.5.0",
            "_view_name": "HTMLView",
            "description": "",
            "description_tooltip": null,
            "layout": "IPY_MODEL_a33b24741dfe4e9d8980a0c219d87b3a",
            "placeholder": "​",
            "style": "IPY_MODEL_48d51a8fa7af4f6d96285af6ed63bd13",
            "value": "model.safetensors: 100%"
          }
        },
        "bc12581a494146f4bdcf922b083abaa0": {
          "model_module": "@jupyter-widgets/controls",
          "model_module_version": "1.5.0",
          "model_name": "DescriptionStyleModel",
          "state": {
            "_model_module": "@jupyter-widgets/controls",
            "_model_module_version": "1.5.0",
            "_model_name": "DescriptionStyleModel",
            "_view_count": null,
            "_view_module": "@jupyter-widgets/base",
            "_view_module_version": "1.2.0",
            "_view_name": "StyleView",
            "description_width": ""
          }
        },
        "bfd2bde812324ef69471bfec1d7821b8": {
          "model_module": "@jupyter-widgets/controls",
          "model_module_version": "1.5.0",
          "model_name": "ProgressStyleModel",
          "state": {
            "_model_module": "@jupyter-widgets/controls",
            "_model_module_version": "1.5.0",
            "_model_name": "ProgressStyleModel",
            "_view_count": null,
            "_view_module": "@jupyter-widgets/base",
            "_view_module_version": "1.2.0",
            "_view_name": "StyleView",
            "bar_color": null,
            "description_width": ""
          }
        },
        "c57f558be27445f88d9683c436182dc8": {
          "model_module": "@jupyter-widgets/base",
          "model_module_version": "1.2.0",
          "model_name": "LayoutModel",
          "state": {
            "_model_module": "@jupyter-widgets/base",
            "_model_module_version": "1.2.0",
            "_model_name": "LayoutModel",
            "_view_count": null,
            "_view_module": "@jupyter-widgets/base",
            "_view_module_version": "1.2.0",
            "_view_name": "LayoutView",
            "align_content": null,
            "align_items": null,
            "align_self": null,
            "border": null,
            "bottom": null,
            "display": null,
            "flex": null,
            "flex_flow": null,
            "grid_area": null,
            "grid_auto_columns": null,
            "grid_auto_flow": null,
            "grid_auto_rows": null,
            "grid_column": null,
            "grid_gap": null,
            "grid_row": null,
            "grid_template_areas": null,
            "grid_template_columns": null,
            "grid_template_rows": null,
            "height": null,
            "justify_content": null,
            "justify_items": null,
            "left": null,
            "margin": null,
            "max_height": null,
            "max_width": null,
            "min_height": null,
            "min_width": null,
            "object_fit": null,
            "object_position": null,
            "order": null,
            "overflow": null,
            "overflow_x": null,
            "overflow_y": null,
            "padding": null,
            "right": null,
            "top": null,
            "visibility": null,
            "width": null
          }
        },
        "c616f0ff644343179d46f12b24af812c": {
          "model_module": "@jupyter-widgets/base",
          "model_module_version": "1.2.0",
          "model_name": "LayoutModel",
          "state": {
            "_model_module": "@jupyter-widgets/base",
            "_model_module_version": "1.2.0",
            "_model_name": "LayoutModel",
            "_view_count": null,
            "_view_module": "@jupyter-widgets/base",
            "_view_module_version": "1.2.0",
            "_view_name": "LayoutView",
            "align_content": null,
            "align_items": null,
            "align_self": null,
            "border": null,
            "bottom": null,
            "display": null,
            "flex": null,
            "flex_flow": null,
            "grid_area": null,
            "grid_auto_columns": null,
            "grid_auto_flow": null,
            "grid_auto_rows": null,
            "grid_column": null,
            "grid_gap": null,
            "grid_row": null,
            "grid_template_areas": null,
            "grid_template_columns": null,
            "grid_template_rows": null,
            "height": null,
            "justify_content": null,
            "justify_items": null,
            "left": null,
            "margin": null,
            "max_height": null,
            "max_width": null,
            "min_height": null,
            "min_width": null,
            "object_fit": null,
            "object_position": null,
            "order": null,
            "overflow": null,
            "overflow_x": null,
            "overflow_y": null,
            "padding": null,
            "right": null,
            "top": null,
            "visibility": null,
            "width": null
          }
        },
        "c85d43f5cc0a410ab4da5f0da0455f1a": {
          "model_module": "@jupyter-widgets/controls",
          "model_module_version": "1.5.0",
          "model_name": "ProgressStyleModel",
          "state": {
            "_model_module": "@jupyter-widgets/controls",
            "_model_module_version": "1.5.0",
            "_model_name": "ProgressStyleModel",
            "_view_count": null,
            "_view_module": "@jupyter-widgets/base",
            "_view_module_version": "1.2.0",
            "_view_name": "StyleView",
            "bar_color": null,
            "description_width": ""
          }
        },
        "ca1067802af643dea569ef0de30b9299": {
          "model_module": "@jupyter-widgets/base",
          "model_module_version": "1.2.0",
          "model_name": "LayoutModel",
          "state": {
            "_model_module": "@jupyter-widgets/base",
            "_model_module_version": "1.2.0",
            "_model_name": "LayoutModel",
            "_view_count": null,
            "_view_module": "@jupyter-widgets/base",
            "_view_module_version": "1.2.0",
            "_view_name": "LayoutView",
            "align_content": null,
            "align_items": null,
            "align_self": null,
            "border": null,
            "bottom": null,
            "display": null,
            "flex": null,
            "flex_flow": null,
            "grid_area": null,
            "grid_auto_columns": null,
            "grid_auto_flow": null,
            "grid_auto_rows": null,
            "grid_column": null,
            "grid_gap": null,
            "grid_row": null,
            "grid_template_areas": null,
            "grid_template_columns": null,
            "grid_template_rows": null,
            "height": null,
            "justify_content": null,
            "justify_items": null,
            "left": null,
            "margin": null,
            "max_height": null,
            "max_width": null,
            "min_height": null,
            "min_width": null,
            "object_fit": null,
            "object_position": null,
            "order": null,
            "overflow": null,
            "overflow_x": null,
            "overflow_y": null,
            "padding": null,
            "right": null,
            "top": null,
            "visibility": null,
            "width": null
          }
        },
        "d0b3046c1d4b4c8ebaca215c79b7ed8d": {
          "model_module": "@jupyter-widgets/base",
          "model_module_version": "1.2.0",
          "model_name": "LayoutModel",
          "state": {
            "_model_module": "@jupyter-widgets/base",
            "_model_module_version": "1.2.0",
            "_model_name": "LayoutModel",
            "_view_count": null,
            "_view_module": "@jupyter-widgets/base",
            "_view_module_version": "1.2.0",
            "_view_name": "LayoutView",
            "align_content": null,
            "align_items": null,
            "align_self": null,
            "border": null,
            "bottom": null,
            "display": null,
            "flex": null,
            "flex_flow": null,
            "grid_area": null,
            "grid_auto_columns": null,
            "grid_auto_flow": null,
            "grid_auto_rows": null,
            "grid_column": null,
            "grid_gap": null,
            "grid_row": null,
            "grid_template_areas": null,
            "grid_template_columns": null,
            "grid_template_rows": null,
            "height": null,
            "justify_content": null,
            "justify_items": null,
            "left": null,
            "margin": null,
            "max_height": null,
            "max_width": null,
            "min_height": null,
            "min_width": null,
            "object_fit": null,
            "object_position": null,
            "order": null,
            "overflow": null,
            "overflow_x": null,
            "overflow_y": null,
            "padding": null,
            "right": null,
            "top": null,
            "visibility": null,
            "width": null
          }
        },
        "d22dd0256ab34be2bd99be2d0c31fd4c": {
          "model_module": "@jupyter-widgets/base",
          "model_module_version": "1.2.0",
          "model_name": "LayoutModel",
          "state": {
            "_model_module": "@jupyter-widgets/base",
            "_model_module_version": "1.2.0",
            "_model_name": "LayoutModel",
            "_view_count": null,
            "_view_module": "@jupyter-widgets/base",
            "_view_module_version": "1.2.0",
            "_view_name": "LayoutView",
            "align_content": null,
            "align_items": null,
            "align_self": null,
            "border": null,
            "bottom": null,
            "display": null,
            "flex": null,
            "flex_flow": null,
            "grid_area": null,
            "grid_auto_columns": null,
            "grid_auto_flow": null,
            "grid_auto_rows": null,
            "grid_column": null,
            "grid_gap": null,
            "grid_row": null,
            "grid_template_areas": null,
            "grid_template_columns": null,
            "grid_template_rows": null,
            "height": null,
            "justify_content": null,
            "justify_items": null,
            "left": null,
            "margin": null,
            "max_height": null,
            "max_width": null,
            "min_height": null,
            "min_width": null,
            "object_fit": null,
            "object_position": null,
            "order": null,
            "overflow": null,
            "overflow_x": null,
            "overflow_y": null,
            "padding": null,
            "right": null,
            "top": null,
            "visibility": null,
            "width": null
          }
        },
        "d2528453d12b4fa6bd003a40b20b148b": {
          "model_module": "@jupyter-widgets/controls",
          "model_module_version": "1.5.0",
          "model_name": "ProgressStyleModel",
          "state": {
            "_model_module": "@jupyter-widgets/controls",
            "_model_module_version": "1.5.0",
            "_model_name": "ProgressStyleModel",
            "_view_count": null,
            "_view_module": "@jupyter-widgets/base",
            "_view_module_version": "1.2.0",
            "_view_name": "StyleView",
            "bar_color": null,
            "description_width": ""
          }
        },
        "d329b05aaf1b4fae9b86e4eef2a82664": {
          "model_module": "@jupyter-widgets/base",
          "model_module_version": "1.2.0",
          "model_name": "LayoutModel",
          "state": {
            "_model_module": "@jupyter-widgets/base",
            "_model_module_version": "1.2.0",
            "_model_name": "LayoutModel",
            "_view_count": null,
            "_view_module": "@jupyter-widgets/base",
            "_view_module_version": "1.2.0",
            "_view_name": "LayoutView",
            "align_content": null,
            "align_items": null,
            "align_self": null,
            "border": null,
            "bottom": null,
            "display": null,
            "flex": null,
            "flex_flow": null,
            "grid_area": null,
            "grid_auto_columns": null,
            "grid_auto_flow": null,
            "grid_auto_rows": null,
            "grid_column": null,
            "grid_gap": null,
            "grid_row": null,
            "grid_template_areas": null,
            "grid_template_columns": null,
            "grid_template_rows": null,
            "height": null,
            "justify_content": null,
            "justify_items": null,
            "left": null,
            "margin": null,
            "max_height": null,
            "max_width": null,
            "min_height": null,
            "min_width": null,
            "object_fit": null,
            "object_position": null,
            "order": null,
            "overflow": null,
            "overflow_x": null,
            "overflow_y": null,
            "padding": null,
            "right": null,
            "top": null,
            "visibility": null,
            "width": null
          }
        },
        "d3d7abd0bc184ce7b910b5542e528f05": {
          "model_module": "@jupyter-widgets/controls",
          "model_module_version": "1.5.0",
          "model_name": "DescriptionStyleModel",
          "state": {
            "_model_module": "@jupyter-widgets/controls",
            "_model_module_version": "1.5.0",
            "_model_name": "DescriptionStyleModel",
            "_view_count": null,
            "_view_module": "@jupyter-widgets/base",
            "_view_module_version": "1.2.0",
            "_view_name": "StyleView",
            "description_width": ""
          }
        },
        "d42a4337fc7941638d90a55c818cea28": {
          "model_module": "@jupyter-widgets/base",
          "model_module_version": "1.2.0",
          "model_name": "LayoutModel",
          "state": {
            "_model_module": "@jupyter-widgets/base",
            "_model_module_version": "1.2.0",
            "_model_name": "LayoutModel",
            "_view_count": null,
            "_view_module": "@jupyter-widgets/base",
            "_view_module_version": "1.2.0",
            "_view_name": "LayoutView",
            "align_content": null,
            "align_items": null,
            "align_self": null,
            "border": null,
            "bottom": null,
            "display": null,
            "flex": null,
            "flex_flow": null,
            "grid_area": null,
            "grid_auto_columns": null,
            "grid_auto_flow": null,
            "grid_auto_rows": null,
            "grid_column": null,
            "grid_gap": null,
            "grid_row": null,
            "grid_template_areas": null,
            "grid_template_columns": null,
            "grid_template_rows": null,
            "height": null,
            "justify_content": null,
            "justify_items": null,
            "left": null,
            "margin": null,
            "max_height": null,
            "max_width": null,
            "min_height": null,
            "min_width": null,
            "object_fit": null,
            "object_position": null,
            "order": null,
            "overflow": null,
            "overflow_x": null,
            "overflow_y": null,
            "padding": null,
            "right": null,
            "top": null,
            "visibility": null,
            "width": null
          }
        },
        "d7c389f5f5df40fbb6bf661bbf026673": {
          "model_module": "@jupyter-widgets/base",
          "model_module_version": "1.2.0",
          "model_name": "LayoutModel",
          "state": {
            "_model_module": "@jupyter-widgets/base",
            "_model_module_version": "1.2.0",
            "_model_name": "LayoutModel",
            "_view_count": null,
            "_view_module": "@jupyter-widgets/base",
            "_view_module_version": "1.2.0",
            "_view_name": "LayoutView",
            "align_content": null,
            "align_items": null,
            "align_self": null,
            "border": null,
            "bottom": null,
            "display": null,
            "flex": null,
            "flex_flow": null,
            "grid_area": null,
            "grid_auto_columns": null,
            "grid_auto_flow": null,
            "grid_auto_rows": null,
            "grid_column": null,
            "grid_gap": null,
            "grid_row": null,
            "grid_template_areas": null,
            "grid_template_columns": null,
            "grid_template_rows": null,
            "height": null,
            "justify_content": null,
            "justify_items": null,
            "left": null,
            "margin": null,
            "max_height": null,
            "max_width": null,
            "min_height": null,
            "min_width": null,
            "object_fit": null,
            "object_position": null,
            "order": null,
            "overflow": null,
            "overflow_x": null,
            "overflow_y": null,
            "padding": null,
            "right": null,
            "top": null,
            "visibility": null,
            "width": null
          }
        },
        "dc6fedb1f22c40ed9e468595e9fcb554": {
          "model_module": "@jupyter-widgets/controls",
          "model_module_version": "1.5.0",
          "model_name": "DescriptionStyleModel",
          "state": {
            "_model_module": "@jupyter-widgets/controls",
            "_model_module_version": "1.5.0",
            "_model_name": "DescriptionStyleModel",
            "_view_count": null,
            "_view_module": "@jupyter-widgets/base",
            "_view_module_version": "1.2.0",
            "_view_name": "StyleView",
            "description_width": ""
          }
        },
        "dcea24da2d9344188fcc6c211c16ee59": {
          "model_module": "@jupyter-widgets/controls",
          "model_module_version": "1.5.0",
          "model_name": "DescriptionStyleModel",
          "state": {
            "_model_module": "@jupyter-widgets/controls",
            "_model_module_version": "1.5.0",
            "_model_name": "DescriptionStyleModel",
            "_view_count": null,
            "_view_module": "@jupyter-widgets/base",
            "_view_module_version": "1.2.0",
            "_view_name": "StyleView",
            "description_width": ""
          }
        },
        "dd59a8e6ed49440580de0f92402fd991": {
          "model_module": "@jupyter-widgets/controls",
          "model_module_version": "1.5.0",
          "model_name": "HTMLModel",
          "state": {
            "_dom_classes": [],
            "_model_module": "@jupyter-widgets/controls",
            "_model_module_version": "1.5.0",
            "_model_name": "HTMLModel",
            "_view_count": null,
            "_view_module": "@jupyter-widgets/controls",
            "_view_module_version": "1.5.0",
            "_view_name": "HTMLView",
            "description": "",
            "description_tooltip": null,
            "layout": "IPY_MODEL_703d663f2c1046b79f598cdac38595fe",
            "placeholder": "​",
            "style": "IPY_MODEL_1438e3580deb4c96b005f0ac1f619aca",
            "value": "Map: 100%"
          }
        },
        "dfe4b49380db439497489b02dffee96f": {
          "model_module": "@jupyter-widgets/controls",
          "model_module_version": "1.5.0",
          "model_name": "DescriptionStyleModel",
          "state": {
            "_model_module": "@jupyter-widgets/controls",
            "_model_module_version": "1.5.0",
            "_model_name": "DescriptionStyleModel",
            "_view_count": null,
            "_view_module": "@jupyter-widgets/base",
            "_view_module_version": "1.2.0",
            "_view_name": "StyleView",
            "description_width": ""
          }
        },
        "e39491e17d0048b9ba1f7173e185efe2": {
          "model_module": "@jupyter-widgets/base",
          "model_module_version": "1.2.0",
          "model_name": "LayoutModel",
          "state": {
            "_model_module": "@jupyter-widgets/base",
            "_model_module_version": "1.2.0",
            "_model_name": "LayoutModel",
            "_view_count": null,
            "_view_module": "@jupyter-widgets/base",
            "_view_module_version": "1.2.0",
            "_view_name": "LayoutView",
            "align_content": null,
            "align_items": null,
            "align_self": null,
            "border": null,
            "bottom": null,
            "display": null,
            "flex": null,
            "flex_flow": null,
            "grid_area": null,
            "grid_auto_columns": null,
            "grid_auto_flow": null,
            "grid_auto_rows": null,
            "grid_column": null,
            "grid_gap": null,
            "grid_row": null,
            "grid_template_areas": null,
            "grid_template_columns": null,
            "grid_template_rows": null,
            "height": null,
            "justify_content": null,
            "justify_items": null,
            "left": null,
            "margin": null,
            "max_height": null,
            "max_width": null,
            "min_height": null,
            "min_width": null,
            "object_fit": null,
            "object_position": null,
            "order": null,
            "overflow": null,
            "overflow_x": null,
            "overflow_y": null,
            "padding": null,
            "right": null,
            "top": null,
            "visibility": null,
            "width": null
          }
        },
        "e4a31fcc5b2349c5b1006af7fd95ca81": {
          "model_module": "@jupyter-widgets/controls",
          "model_module_version": "1.5.0",
          "model_name": "DescriptionStyleModel",
          "state": {
            "_model_module": "@jupyter-widgets/controls",
            "_model_module_version": "1.5.0",
            "_model_name": "DescriptionStyleModel",
            "_view_count": null,
            "_view_module": "@jupyter-widgets/base",
            "_view_module_version": "1.2.0",
            "_view_name": "StyleView",
            "description_width": ""
          }
        },
        "e6153ef1aab447f5b8b15963b43bee0f": {
          "model_module": "@jupyter-widgets/base",
          "model_module_version": "1.2.0",
          "model_name": "LayoutModel",
          "state": {
            "_model_module": "@jupyter-widgets/base",
            "_model_module_version": "1.2.0",
            "_model_name": "LayoutModel",
            "_view_count": null,
            "_view_module": "@jupyter-widgets/base",
            "_view_module_version": "1.2.0",
            "_view_name": "LayoutView",
            "align_content": null,
            "align_items": null,
            "align_self": null,
            "border": null,
            "bottom": null,
            "display": null,
            "flex": null,
            "flex_flow": null,
            "grid_area": null,
            "grid_auto_columns": null,
            "grid_auto_flow": null,
            "grid_auto_rows": null,
            "grid_column": null,
            "grid_gap": null,
            "grid_row": null,
            "grid_template_areas": null,
            "grid_template_columns": null,
            "grid_template_rows": null,
            "height": null,
            "justify_content": null,
            "justify_items": null,
            "left": null,
            "margin": null,
            "max_height": null,
            "max_width": null,
            "min_height": null,
            "min_width": null,
            "object_fit": null,
            "object_position": null,
            "order": null,
            "overflow": null,
            "overflow_x": null,
            "overflow_y": null,
            "padding": null,
            "right": null,
            "top": null,
            "visibility": null,
            "width": null
          }
        },
        "e67b5d72197f4570bef7f7513840e5c0": {
          "model_module": "@jupyter-widgets/controls",
          "model_module_version": "1.5.0",
          "model_name": "HTMLModel",
          "state": {
            "_dom_classes": [],
            "_model_module": "@jupyter-widgets/controls",
            "_model_module_version": "1.5.0",
            "_model_name": "HTMLModel",
            "_view_count": null,
            "_view_module": "@jupyter-widgets/controls",
            "_view_module_version": "1.5.0",
            "_view_name": "HTMLView",
            "description": "",
            "description_tooltip": null,
            "layout": "IPY_MODEL_ed5b5d7d2fa34389a77c2c7d478a1ec6",
            "placeholder": "​",
            "style": "IPY_MODEL_f5edb14fb4cd46839ee8bd9866c65c1d",
            "value": " 67349/67349 [00:00&lt;00:00, 163421.17 examples/s]"
          }
        },
        "e6b1107530904277adc3626a10cedb58": {
          "model_module": "@jupyter-widgets/controls",
          "model_module_version": "1.5.0",
          "model_name": "ProgressStyleModel",
          "state": {
            "_model_module": "@jupyter-widgets/controls",
            "_model_module_version": "1.5.0",
            "_model_name": "ProgressStyleModel",
            "_view_count": null,
            "_view_module": "@jupyter-widgets/base",
            "_view_module_version": "1.2.0",
            "_view_name": "StyleView",
            "bar_color": null,
            "description_width": ""
          }
        },
        "e984631a42894915b06f816c412d0cb2": {
          "model_module": "@jupyter-widgets/controls",
          "model_module_version": "1.5.0",
          "model_name": "HBoxModel",
          "state": {
            "_dom_classes": [],
            "_model_module": "@jupyter-widgets/controls",
            "_model_module_version": "1.5.0",
            "_model_name": "HBoxModel",
            "_view_count": null,
            "_view_module": "@jupyter-widgets/controls",
            "_view_module_version": "1.5.0",
            "_view_name": "HBoxView",
            "box_style": "",
            "children": [
              "IPY_MODEL_314cf4d85b5840a89652b6ed6e53ef33",
              "IPY_MODEL_3cac4dcc6b7f4560bbaaceef8f7d26c8",
              "IPY_MODEL_1cb9753c85714c67aca56b7bc7290e37"
            ],
            "layout": "IPY_MODEL_527249f4a3cf45edb36ede40035a6bdc"
          }
        },
        "ed5b5d7d2fa34389a77c2c7d478a1ec6": {
          "model_module": "@jupyter-widgets/base",
          "model_module_version": "1.2.0",
          "model_name": "LayoutModel",
          "state": {
            "_model_module": "@jupyter-widgets/base",
            "_model_module_version": "1.2.0",
            "_model_name": "LayoutModel",
            "_view_count": null,
            "_view_module": "@jupyter-widgets/base",
            "_view_module_version": "1.2.0",
            "_view_name": "LayoutView",
            "align_content": null,
            "align_items": null,
            "align_self": null,
            "border": null,
            "bottom": null,
            "display": null,
            "flex": null,
            "flex_flow": null,
            "grid_area": null,
            "grid_auto_columns": null,
            "grid_auto_flow": null,
            "grid_auto_rows": null,
            "grid_column": null,
            "grid_gap": null,
            "grid_row": null,
            "grid_template_areas": null,
            "grid_template_columns": null,
            "grid_template_rows": null,
            "height": null,
            "justify_content": null,
            "justify_items": null,
            "left": null,
            "margin": null,
            "max_height": null,
            "max_width": null,
            "min_height": null,
            "min_width": null,
            "object_fit": null,
            "object_position": null,
            "order": null,
            "overflow": null,
            "overflow_x": null,
            "overflow_y": null,
            "padding": null,
            "right": null,
            "top": null,
            "visibility": null,
            "width": null
          }
        },
        "eea6bd1fd26e40c894d6a03cd7fec757": {
          "model_module": "@jupyter-widgets/base",
          "model_module_version": "1.2.0",
          "model_name": "LayoutModel",
          "state": {
            "_model_module": "@jupyter-widgets/base",
            "_model_module_version": "1.2.0",
            "_model_name": "LayoutModel",
            "_view_count": null,
            "_view_module": "@jupyter-widgets/base",
            "_view_module_version": "1.2.0",
            "_view_name": "LayoutView",
            "align_content": null,
            "align_items": null,
            "align_self": null,
            "border": null,
            "bottom": null,
            "display": null,
            "flex": null,
            "flex_flow": null,
            "grid_area": null,
            "grid_auto_columns": null,
            "grid_auto_flow": null,
            "grid_auto_rows": null,
            "grid_column": null,
            "grid_gap": null,
            "grid_row": null,
            "grid_template_areas": null,
            "grid_template_columns": null,
            "grid_template_rows": null,
            "height": null,
            "justify_content": null,
            "justify_items": null,
            "left": null,
            "margin": null,
            "max_height": null,
            "max_width": null,
            "min_height": null,
            "min_width": null,
            "object_fit": null,
            "object_position": null,
            "order": null,
            "overflow": null,
            "overflow_x": null,
            "overflow_y": null,
            "padding": null,
            "right": null,
            "top": null,
            "visibility": null,
            "width": null
          }
        },
        "f4690f85cf3649c08db7a717f396737e": {
          "model_module": "@jupyter-widgets/controls",
          "model_module_version": "1.5.0",
          "model_name": "HBoxModel",
          "state": {
            "_dom_classes": [],
            "_model_module": "@jupyter-widgets/controls",
            "_model_module_version": "1.5.0",
            "_model_name": "HBoxModel",
            "_view_count": null,
            "_view_module": "@jupyter-widgets/controls",
            "_view_module_version": "1.5.0",
            "_view_name": "HBoxView",
            "box_style": "",
            "children": [
              "IPY_MODEL_ba3bc3d4895a423784eab949715bd2cb",
              "IPY_MODEL_38b3e7dac3c44188a9a38221973f4819",
              "IPY_MODEL_0fce28a21d7b41b399230b7c77f3b614"
            ],
            "layout": "IPY_MODEL_3c8d3cea74b74800a35589fb9f4401ab"
          }
        },
        "f4847c3198b3408b9e66188c3bc839c4": {
          "model_module": "@jupyter-widgets/controls",
          "model_module_version": "1.5.0",
          "model_name": "HBoxModel",
          "state": {
            "_dom_classes": [],
            "_model_module": "@jupyter-widgets/controls",
            "_model_module_version": "1.5.0",
            "_model_name": "HBoxModel",
            "_view_count": null,
            "_view_module": "@jupyter-widgets/controls",
            "_view_module_version": "1.5.0",
            "_view_name": "HBoxView",
            "box_style": "",
            "children": [
              "IPY_MODEL_2399fa7afc3146759469a55a22addfa0",
              "IPY_MODEL_6e6b76ab688c447c8606f9c507d04e1d",
              "IPY_MODEL_b09e87425d9b4f4385f348f477452c00"
            ],
            "layout": "IPY_MODEL_eea6bd1fd26e40c894d6a03cd7fec757"
          }
        },
        "f52a6435e47f4fffab4148fa824b20da": {
          "model_module": "@jupyter-widgets/base",
          "model_module_version": "1.2.0",
          "model_name": "LayoutModel",
          "state": {
            "_model_module": "@jupyter-widgets/base",
            "_model_module_version": "1.2.0",
            "_model_name": "LayoutModel",
            "_view_count": null,
            "_view_module": "@jupyter-widgets/base",
            "_view_module_version": "1.2.0",
            "_view_name": "LayoutView",
            "align_content": null,
            "align_items": null,
            "align_self": null,
            "border": null,
            "bottom": null,
            "display": null,
            "flex": null,
            "flex_flow": null,
            "grid_area": null,
            "grid_auto_columns": null,
            "grid_auto_flow": null,
            "grid_auto_rows": null,
            "grid_column": null,
            "grid_gap": null,
            "grid_row": null,
            "grid_template_areas": null,
            "grid_template_columns": null,
            "grid_template_rows": null,
            "height": null,
            "justify_content": null,
            "justify_items": null,
            "left": null,
            "margin": null,
            "max_height": null,
            "max_width": null,
            "min_height": null,
            "min_width": null,
            "object_fit": null,
            "object_position": null,
            "order": null,
            "overflow": null,
            "overflow_x": null,
            "overflow_y": null,
            "padding": null,
            "right": null,
            "top": null,
            "visibility": null,
            "width": null
          }
        },
        "f5edb14fb4cd46839ee8bd9866c65c1d": {
          "model_module": "@jupyter-widgets/controls",
          "model_module_version": "1.5.0",
          "model_name": "DescriptionStyleModel",
          "state": {
            "_model_module": "@jupyter-widgets/controls",
            "_model_module_version": "1.5.0",
            "_model_name": "DescriptionStyleModel",
            "_view_count": null,
            "_view_module": "@jupyter-widgets/base",
            "_view_module_version": "1.2.0",
            "_view_name": "StyleView",
            "description_width": ""
          }
        },
        "f7273ff18043448792d97f2884044e6a": {
          "model_module": "@jupyter-widgets/controls",
          "model_module_version": "1.5.0",
          "model_name": "HTMLModel",
          "state": {
            "_dom_classes": [],
            "_model_module": "@jupyter-widgets/controls",
            "_model_module_version": "1.5.0",
            "_model_name": "HTMLModel",
            "_view_count": null,
            "_view_module": "@jupyter-widgets/controls",
            "_view_module_version": "1.5.0",
            "_view_name": "HTMLView",
            "description": "",
            "description_tooltip": null,
            "layout": "IPY_MODEL_6b3f422e71c94a23ba8c6a0c0dc8fc54",
            "placeholder": "​",
            "style": "IPY_MODEL_b33171ffd5fd4da6a77a30c352f3acd7",
            "value": "Downloading readme: 100%"
          }
        },
        "f7a348ce4f014586af0604e2f1b002dc": {
          "model_module": "@jupyter-widgets/controls",
          "model_module_version": "1.5.0",
          "model_name": "HTMLModel",
          "state": {
            "_dom_classes": [],
            "_model_module": "@jupyter-widgets/controls",
            "_model_module_version": "1.5.0",
            "_model_name": "HTMLModel",
            "_view_count": null,
            "_view_module": "@jupyter-widgets/controls",
            "_view_module_version": "1.5.0",
            "_view_name": "HTMLView",
            "description": "",
            "description_tooltip": null,
            "layout": "IPY_MODEL_92bec3da60c84192b7979d4bff0f03d6",
            "placeholder": "​",
            "style": "IPY_MODEL_dcea24da2d9344188fcc6c211c16ee59",
            "value": "Generating train split: 100%"
          }
        },
        "f9b711537f5040d2b823219dfde7c12f": {
          "model_module": "@jupyter-widgets/controls",
          "model_module_version": "1.5.0",
          "model_name": "HTMLModel",
          "state": {
            "_dom_classes": [],
            "_model_module": "@jupyter-widgets/controls",
            "_model_module_version": "1.5.0",
            "_model_name": "HTMLModel",
            "_view_count": null,
            "_view_module": "@jupyter-widgets/controls",
            "_view_module_version": "1.5.0",
            "_view_name": "HTMLView",
            "description": "",
            "description_tooltip": null,
            "layout": "IPY_MODEL_292b0a54e57a4815979700f20837565c",
            "placeholder": "​",
            "style": "IPY_MODEL_4535f25c21fa4b2b9bc1d0d5c0c11f2b",
            "value": " 67349/67349 [00:00&lt;00:00, 87782.02 examples/s]"
          }
        },
        "fb04de8b632946b4b23b3b9108f08f00": {
          "model_module": "@jupyter-widgets/base",
          "model_module_version": "1.2.0",
          "model_name": "LayoutModel",
          "state": {
            "_model_module": "@jupyter-widgets/base",
            "_model_module_version": "1.2.0",
            "_model_name": "LayoutModel",
            "_view_count": null,
            "_view_module": "@jupyter-widgets/base",
            "_view_module_version": "1.2.0",
            "_view_name": "LayoutView",
            "align_content": null,
            "align_items": null,
            "align_self": null,
            "border": null,
            "bottom": null,
            "display": null,
            "flex": null,
            "flex_flow": null,
            "grid_area": null,
            "grid_auto_columns": null,
            "grid_auto_flow": null,
            "grid_auto_rows": null,
            "grid_column": null,
            "grid_gap": null,
            "grid_row": null,
            "grid_template_areas": null,
            "grid_template_columns": null,
            "grid_template_rows": null,
            "height": null,
            "justify_content": null,
            "justify_items": null,
            "left": null,
            "margin": null,
            "max_height": null,
            "max_width": null,
            "min_height": null,
            "min_width": null,
            "object_fit": null,
            "object_position": null,
            "order": null,
            "overflow": null,
            "overflow_x": null,
            "overflow_y": null,
            "padding": null,
            "right": null,
            "top": null,
            "visibility": null,
            "width": null
          }
        },
        "fe9484aee0ea46aab0d6d678c32a115a": {
          "model_module": "@jupyter-widgets/base",
          "model_module_version": "1.2.0",
          "model_name": "LayoutModel",
          "state": {
            "_model_module": "@jupyter-widgets/base",
            "_model_module_version": "1.2.0",
            "_model_name": "LayoutModel",
            "_view_count": null,
            "_view_module": "@jupyter-widgets/base",
            "_view_module_version": "1.2.0",
            "_view_name": "LayoutView",
            "align_content": null,
            "align_items": null,
            "align_self": null,
            "border": null,
            "bottom": null,
            "display": null,
            "flex": null,
            "flex_flow": null,
            "grid_area": null,
            "grid_auto_columns": null,
            "grid_auto_flow": null,
            "grid_auto_rows": null,
            "grid_column": null,
            "grid_gap": null,
            "grid_row": null,
            "grid_template_areas": null,
            "grid_template_columns": null,
            "grid_template_rows": null,
            "height": null,
            "justify_content": null,
            "justify_items": null,
            "left": null,
            "margin": null,
            "max_height": null,
            "max_width": null,
            "min_height": null,
            "min_width": null,
            "object_fit": null,
            "object_position": null,
            "order": null,
            "overflow": null,
            "overflow_x": null,
            "overflow_y": null,
            "padding": null,
            "right": null,
            "top": null,
            "visibility": null,
            "width": null
          }
        }
      }
    }
  },
  "nbformat": 4,
  "nbformat_minor": 0
}
